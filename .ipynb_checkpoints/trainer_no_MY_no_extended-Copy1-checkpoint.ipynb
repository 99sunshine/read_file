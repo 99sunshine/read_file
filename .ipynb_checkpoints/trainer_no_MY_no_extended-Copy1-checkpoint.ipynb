{
 "cells": [
  {
   "cell_type": "code",
   "execution_count": 2,
   "metadata": {},
   "outputs": [],
   "source": [
    "import matplotlib.cm as cm\n",
    "import numpy as np\n",
    "import matplotlib.pyplot as plt\n",
    "import pandas as pd"
   ]
  },
  {
   "cell_type": "code",
   "execution_count": 19,
   "metadata": {},
   "outputs": [
    {
     "ename": "FileNotFoundError",
     "evalue": "[Errno 2] No such file or directory: 'trainer_table_S1.xlsx'",
     "output_type": "error",
     "traceback": [
      "\u001b[0;31m---------------------------------------------------------------------------\u001b[0m",
      "\u001b[0;31mFileNotFoundError\u001b[0m                         Traceback (most recent call last)",
      "\u001b[0;32m<ipython-input-19-c6d90d8fc811>\u001b[0m in \u001b[0;36m<module>\u001b[0;34m\u001b[0m\n\u001b[0;32m----> 1\u001b[0;31m \u001b[0mdata\u001b[0m \u001b[0;34m=\u001b[0m \u001b[0mpd\u001b[0m\u001b[0;34m.\u001b[0m\u001b[0mread_excel\u001b[0m\u001b[0;34m(\u001b[0m\u001b[0;34m'trainer_table_S1.xlsx'\u001b[0m\u001b[0;34m)\u001b[0m\u001b[0;34m\u001b[0m\u001b[0;34m\u001b[0m\u001b[0m\n\u001b[0m",
      "\u001b[0;32m~/anaconda3/lib/python3.7/site-packages/pandas/util/_decorators.py\u001b[0m in \u001b[0;36mwrapper\u001b[0;34m(*args, **kwargs)\u001b[0m\n\u001b[1;32m    176\u001b[0m                 \u001b[0;32melse\u001b[0m\u001b[0;34m:\u001b[0m\u001b[0;34m\u001b[0m\u001b[0;34m\u001b[0m\u001b[0m\n\u001b[1;32m    177\u001b[0m                     \u001b[0mkwargs\u001b[0m\u001b[0;34m[\u001b[0m\u001b[0mnew_arg_name\u001b[0m\u001b[0;34m]\u001b[0m \u001b[0;34m=\u001b[0m \u001b[0mnew_arg_value\u001b[0m\u001b[0;34m\u001b[0m\u001b[0;34m\u001b[0m\u001b[0m\n\u001b[0;32m--> 178\u001b[0;31m             \u001b[0;32mreturn\u001b[0m \u001b[0mfunc\u001b[0m\u001b[0;34m(\u001b[0m\u001b[0;34m*\u001b[0m\u001b[0margs\u001b[0m\u001b[0;34m,\u001b[0m \u001b[0;34m**\u001b[0m\u001b[0mkwargs\u001b[0m\u001b[0;34m)\u001b[0m\u001b[0;34m\u001b[0m\u001b[0;34m\u001b[0m\u001b[0m\n\u001b[0m\u001b[1;32m    179\u001b[0m         \u001b[0;32mreturn\u001b[0m \u001b[0mwrapper\u001b[0m\u001b[0;34m\u001b[0m\u001b[0;34m\u001b[0m\u001b[0m\n\u001b[1;32m    180\u001b[0m     \u001b[0;32mreturn\u001b[0m \u001b[0m_deprecate_kwarg\u001b[0m\u001b[0;34m\u001b[0m\u001b[0;34m\u001b[0m\u001b[0m\n",
      "\u001b[0;32m~/anaconda3/lib/python3.7/site-packages/pandas/util/_decorators.py\u001b[0m in \u001b[0;36mwrapper\u001b[0;34m(*args, **kwargs)\u001b[0m\n\u001b[1;32m    176\u001b[0m                 \u001b[0;32melse\u001b[0m\u001b[0;34m:\u001b[0m\u001b[0;34m\u001b[0m\u001b[0;34m\u001b[0m\u001b[0m\n\u001b[1;32m    177\u001b[0m                     \u001b[0mkwargs\u001b[0m\u001b[0;34m[\u001b[0m\u001b[0mnew_arg_name\u001b[0m\u001b[0;34m]\u001b[0m \u001b[0;34m=\u001b[0m \u001b[0mnew_arg_value\u001b[0m\u001b[0;34m\u001b[0m\u001b[0;34m\u001b[0m\u001b[0m\n\u001b[0;32m--> 178\u001b[0;31m             \u001b[0;32mreturn\u001b[0m \u001b[0mfunc\u001b[0m\u001b[0;34m(\u001b[0m\u001b[0;34m*\u001b[0m\u001b[0margs\u001b[0m\u001b[0;34m,\u001b[0m \u001b[0;34m**\u001b[0m\u001b[0mkwargs\u001b[0m\u001b[0;34m)\u001b[0m\u001b[0;34m\u001b[0m\u001b[0;34m\u001b[0m\u001b[0m\n\u001b[0m\u001b[1;32m    179\u001b[0m         \u001b[0;32mreturn\u001b[0m \u001b[0mwrapper\u001b[0m\u001b[0;34m\u001b[0m\u001b[0;34m\u001b[0m\u001b[0m\n\u001b[1;32m    180\u001b[0m     \u001b[0;32mreturn\u001b[0m \u001b[0m_deprecate_kwarg\u001b[0m\u001b[0;34m\u001b[0m\u001b[0;34m\u001b[0m\u001b[0m\n",
      "\u001b[0;32m~/anaconda3/lib/python3.7/site-packages/pandas/io/excel.py\u001b[0m in \u001b[0;36mread_excel\u001b[0;34m(io, sheet_name, header, names, index_col, usecols, squeeze, dtype, engine, converters, true_values, false_values, skiprows, nrows, na_values, parse_dates, date_parser, thousands, comment, skipfooter, convert_float, **kwds)\u001b[0m\n\u001b[1;32m    305\u001b[0m \u001b[0;34m\u001b[0m\u001b[0m\n\u001b[1;32m    306\u001b[0m     \u001b[0;32mif\u001b[0m \u001b[0;32mnot\u001b[0m \u001b[0misinstance\u001b[0m\u001b[0;34m(\u001b[0m\u001b[0mio\u001b[0m\u001b[0;34m,\u001b[0m \u001b[0mExcelFile\u001b[0m\u001b[0;34m)\u001b[0m\u001b[0;34m:\u001b[0m\u001b[0;34m\u001b[0m\u001b[0;34m\u001b[0m\u001b[0m\n\u001b[0;32m--> 307\u001b[0;31m         \u001b[0mio\u001b[0m \u001b[0;34m=\u001b[0m \u001b[0mExcelFile\u001b[0m\u001b[0;34m(\u001b[0m\u001b[0mio\u001b[0m\u001b[0;34m,\u001b[0m \u001b[0mengine\u001b[0m\u001b[0;34m=\u001b[0m\u001b[0mengine\u001b[0m\u001b[0;34m)\u001b[0m\u001b[0;34m\u001b[0m\u001b[0;34m\u001b[0m\u001b[0m\n\u001b[0m\u001b[1;32m    308\u001b[0m \u001b[0;34m\u001b[0m\u001b[0m\n\u001b[1;32m    309\u001b[0m     return io.parse(\n",
      "\u001b[0;32m~/anaconda3/lib/python3.7/site-packages/pandas/io/excel.py\u001b[0m in \u001b[0;36m__init__\u001b[0;34m(self, io, **kwds)\u001b[0m\n\u001b[1;32m    392\u001b[0m             \u001b[0mself\u001b[0m\u001b[0;34m.\u001b[0m\u001b[0mbook\u001b[0m \u001b[0;34m=\u001b[0m \u001b[0mxlrd\u001b[0m\u001b[0;34m.\u001b[0m\u001b[0mopen_workbook\u001b[0m\u001b[0;34m(\u001b[0m\u001b[0mfile_contents\u001b[0m\u001b[0;34m=\u001b[0m\u001b[0mdata\u001b[0m\u001b[0;34m)\u001b[0m\u001b[0;34m\u001b[0m\u001b[0;34m\u001b[0m\u001b[0m\n\u001b[1;32m    393\u001b[0m         \u001b[0;32melif\u001b[0m \u001b[0misinstance\u001b[0m\u001b[0;34m(\u001b[0m\u001b[0mself\u001b[0m\u001b[0;34m.\u001b[0m\u001b[0m_io\u001b[0m\u001b[0;34m,\u001b[0m \u001b[0mcompat\u001b[0m\u001b[0;34m.\u001b[0m\u001b[0mstring_types\u001b[0m\u001b[0;34m)\u001b[0m\u001b[0;34m:\u001b[0m\u001b[0;34m\u001b[0m\u001b[0;34m\u001b[0m\u001b[0m\n\u001b[0;32m--> 394\u001b[0;31m             \u001b[0mself\u001b[0m\u001b[0;34m.\u001b[0m\u001b[0mbook\u001b[0m \u001b[0;34m=\u001b[0m \u001b[0mxlrd\u001b[0m\u001b[0;34m.\u001b[0m\u001b[0mopen_workbook\u001b[0m\u001b[0;34m(\u001b[0m\u001b[0mself\u001b[0m\u001b[0;34m.\u001b[0m\u001b[0m_io\u001b[0m\u001b[0;34m)\u001b[0m\u001b[0;34m\u001b[0m\u001b[0;34m\u001b[0m\u001b[0m\n\u001b[0m\u001b[1;32m    395\u001b[0m         \u001b[0;32melse\u001b[0m\u001b[0;34m:\u001b[0m\u001b[0;34m\u001b[0m\u001b[0;34m\u001b[0m\u001b[0m\n\u001b[1;32m    396\u001b[0m             raise ValueError('Must explicitly set engine if not passing in'\n",
      "\u001b[0;32m~/anaconda3/lib/python3.7/site-packages/xlrd/__init__.py\u001b[0m in \u001b[0;36mopen_workbook\u001b[0;34m(filename, logfile, verbosity, use_mmap, file_contents, encoding_override, formatting_info, on_demand, ragged_rows)\u001b[0m\n\u001b[1;32m    109\u001b[0m     \u001b[0;32melse\u001b[0m\u001b[0;34m:\u001b[0m\u001b[0;34m\u001b[0m\u001b[0;34m\u001b[0m\u001b[0m\n\u001b[1;32m    110\u001b[0m         \u001b[0mfilename\u001b[0m \u001b[0;34m=\u001b[0m \u001b[0mos\u001b[0m\u001b[0;34m.\u001b[0m\u001b[0mpath\u001b[0m\u001b[0;34m.\u001b[0m\u001b[0mexpanduser\u001b[0m\u001b[0;34m(\u001b[0m\u001b[0mfilename\u001b[0m\u001b[0;34m)\u001b[0m\u001b[0;34m\u001b[0m\u001b[0;34m\u001b[0m\u001b[0m\n\u001b[0;32m--> 111\u001b[0;31m         \u001b[0;32mwith\u001b[0m \u001b[0mopen\u001b[0m\u001b[0;34m(\u001b[0m\u001b[0mfilename\u001b[0m\u001b[0;34m,\u001b[0m \u001b[0;34m\"rb\"\u001b[0m\u001b[0;34m)\u001b[0m \u001b[0;32mas\u001b[0m \u001b[0mf\u001b[0m\u001b[0;34m:\u001b[0m\u001b[0;34m\u001b[0m\u001b[0;34m\u001b[0m\u001b[0m\n\u001b[0m\u001b[1;32m    112\u001b[0m             \u001b[0mpeek\u001b[0m \u001b[0;34m=\u001b[0m \u001b[0mf\u001b[0m\u001b[0;34m.\u001b[0m\u001b[0mread\u001b[0m\u001b[0;34m(\u001b[0m\u001b[0mpeeksz\u001b[0m\u001b[0;34m)\u001b[0m\u001b[0;34m\u001b[0m\u001b[0;34m\u001b[0m\u001b[0m\n\u001b[1;32m    113\u001b[0m     \u001b[0;32mif\u001b[0m \u001b[0mpeek\u001b[0m \u001b[0;34m==\u001b[0m \u001b[0;34mb\"PK\\x03\\x04\"\u001b[0m\u001b[0;34m:\u001b[0m \u001b[0;31m# a ZIP file\u001b[0m\u001b[0;34m\u001b[0m\u001b[0;34m\u001b[0m\u001b[0m\n",
      "\u001b[0;31mFileNotFoundError\u001b[0m: [Errno 2] No such file or directory: 'trainer_table_S1.xlsx'"
     ]
    }
   ],
   "source": [
    "data = pd.read_excel('trainer_table_S1.xlsx')"
   ]
  },
  {
   "cell_type": "code",
   "execution_count": 18,
   "metadata": {},
   "outputs": [
    {
     "ename": "NameError",
     "evalue": "name 'data' is not defined",
     "output_type": "error",
     "traceback": [
      "\u001b[0;31m---------------------------------------------------------------------------\u001b[0m",
      "\u001b[0;31mNameError\u001b[0m                                 Traceback (most recent call last)",
      "\u001b[0;32m<ipython-input-18-c5d84736ba45>\u001b[0m in \u001b[0;36m<module>\u001b[0;34m\u001b[0m\n\u001b[0;32m----> 1\u001b[0;31m \u001b[0mdata\u001b[0m\u001b[0;34m\u001b[0m\u001b[0;34m\u001b[0m\u001b[0m\n\u001b[0m",
      "\u001b[0;31mNameError\u001b[0m: name 'data' is not defined"
     ]
    }
   ],
   "source": [
    "data"
   ]
  },
  {
   "cell_type": "markdown",
   "metadata": {},
   "source": [
    "### Get data "
   ]
  },
  {
   "cell_type": "code",
   "execution_count": 12,
   "metadata": {},
   "outputs": [],
   "source": [
    "sol = [row[1] for (index, row) in data.iterrows()]"
   ]
  },
  {
   "cell_type": "code",
   "execution_count": 13,
   "metadata": {},
   "outputs": [],
   "source": [
    "x = [row[0] for (index, row) in data.iterrows()]"
   ]
  },
  {
   "cell_type": "code",
   "execution_count": 14,
   "metadata": {},
   "outputs": [],
   "source": [
    "CO2 = [row[4] for (index, row) in data.iterrows()]\n",
    "CO2_std = [row[5] for (index, row) in data.iterrows()]\n",
    "\n",
    "Ar = [row[6] for (index, row) in data.iterrows()]\n",
    "Ar_std = [row[7] for (index, row) in data.iterrows()]\n",
    "\n",
    "N2 = [row[8] for (index, row) in data.iterrows()]\n",
    "N2_std = [row[9] for (index, row) in data.iterrows()]\n",
    "\n",
    "O2 = [row[10] for (index, row) in data.iterrows()]\n",
    "O2_std_plus = [row[11] for (index, row) in data.iterrows()]\n",
    "O2_std_minus = [row[12] for (index, row) in data.iterrows()]\n",
    "\n",
    "CO = [row[13] for (index, row) in data.iterrows()]\n",
    "CO_std = [row[14] for (index, row) in data.iterrows()]"
   ]
  },
  {
   "cell_type": "markdown",
   "metadata": {},
   "source": [
    "### get the Ls range from 0-360 with 4 range"
   ]
  },
  {
   "cell_type": "code",
   "execution_count": 21,
   "metadata": {},
   "outputs": [],
   "source": [
    "# Oxygen from 0-90， 90-180， 180-270， 270-360\n",
    "# 0-90:\n",
    "n1_O2_arr = [arr for arr in zip(x, O2, O2_std_plus, O2_std_minus) if arr[0] <= 90]\n",
    "n1_x = [e[0] for e in n1_O2_arr]\n",
    "n1_O2 = [e[1] for e in n1_O2_arr]\n",
    "n1_O2_plus = [e[2] for e in n1_O2_arr]\n",
    "n1_O2_minus = [e[3] for e in n1_O2_arr]\n",
    "# 90-180\n",
    "n2_O2_arr = [arr for arr in zip(x, O2, O2_std_plus, O2_std_minus) if 90 < arr[0] <= 180]\n",
    "n2_x = [e[0] for e in n2_O2_arr]\n",
    "n2_O2 = [e[1] for e in n2_O2_arr]\n",
    "n2_O2_plus = [e[2] for e in n2_O2_arr]\n",
    "n2_O2_minus = [e[3] for e in n2_O2_arr]\n",
    "# 180-270\n",
    "n3_O2_arr = [arr for arr in zip(x, O2, O2_std_plus, O2_std_minus) if 180 < arr[0] <= 270]\n",
    "n3_x = [e[0] for e in n3_O2_arr]\n",
    "n3_O2 = [e[1] for e in n3_O2_arr]\n",
    "n3_O2_plus = [e[2] for e in n3_O2_arr]\n",
    "n3_O2_minus = [e[3] for e in n3_O2_arr]\n",
    "# 270-360\n",
    "n4_O2_arr = [arr for arr in zip(x, O2, O2_std_plus, O2_std_minus) if 270 < arr[0] <= 360]\n",
    "n4_x = [e[0] for e in n4_O2_arr]\n",
    "n4_O2 = [e[1] for e in n4_O2_arr]\n",
    "n4_O2_plus = [e[2] for e in n4_O2_arr]\n",
    "n4_O2_minus = [e[3] for e in n4_O2_arr]"
   ]
  },
  {
   "cell_type": "code",
   "execution_count": 29,
   "metadata": {},
   "outputs": [],
   "source": [
    "# CO from 0-90， 90-180， 180-270， 270-360\n",
    "# 0-90:\n",
    "n1_CO_arr = [arr for arr in zip(x, CO, CO_std) if arr[0] <= 90]\n",
    "n1_CO = [e[1] for e in n1_CO_arr]\n",
    "n1_CO_std = [e[2] for e in n1_CO_arr]\n",
    "# 90-180\n",
    "n2_CO_arr = [arr for arr in zip(x, CO, CO_std) if 90 < arr[0] <= 180]\n",
    "n2_CO = [e[1] for e in n2_CO_arr]\n",
    "n2_CO_std = [e[2] for e in n2_CO_arr]\n",
    "# 180-270\n",
    "n3_CO_arr = [arr for arr in zip(x, CO, CO_std) if 180 < arr[0] <= 270]\n",
    "n3_CO = [e[1] for e in n3_CO_arr]\n",
    "n3_CO_std = [e[2] for e in n3_CO_arr]\n",
    "# 270-360\n",
    "n4_CO_arr = [arr for arr in zip(x, CO, CO_std) if 270 < arr[0] <= 360]\n",
    "n4_CO = [e[1] for e in n4_CO_arr]\n",
    "n4_CO_std = [e[2] for e in n4_CO_arr]"
   ]
  },
  {
   "cell_type": "code",
   "execution_count": 30,
   "metadata": {},
   "outputs": [],
   "source": [
    "# Ar from 0-90， 90-180， 180-270， 270-360\n",
    "# 0-90:\n",
    "n1_Ar_arr = [arr for arr in zip(x, Ar, Ar_std) if arr[0] <= 90]\n",
    "n1_Ar = [e[1] for e in n1_Ar_arr]\n",
    "n1_Ar_std = [e[2] for e in n1_Ar_arr]\n",
    "# 90-180\n",
    "n2_Ar_arr = [arr for arr in zip(x, Ar, Ar_std) if 90 < arr[0] <= 180]\n",
    "n2_Ar = [e[1] for e in n2_Ar_arr]\n",
    "n2_Ar_std = [e[2] for e in n2_Ar_arr]\n",
    "# 180-270\n",
    "n3_Ar_arr = [arr for arr in zip(x, Ar, Ar_std) if 180 < arr[0] <= 270]\n",
    "n3_Ar = [e[1] for e in n3_Ar_arr]\n",
    "n3_Ar_std = [e[2] for e in n3_Ar_arr]\n",
    "# 270-360\n",
    "n4_Ar_arr = [arr for arr in zip(x, Ar, Ar_std) if 270 < arr[0] <= 360]\n",
    "n4_Ar = [e[1] for e in n4_Ar_arr]\n",
    "n4_Ar_std = [e[2] for e in n4_Ar_arr]"
   ]
  },
  {
   "cell_type": "code",
   "execution_count": 32,
   "metadata": {},
   "outputs": [],
   "source": [
    "# get the err for ratios\n",
    "import math\n",
    "def get_err_from_ratios(A, err_A, B, err_B) -> arr:\n",
    "    sqrt_div_1 = [e ** 2 for e in np.divide(err_A, B)]\n",
    "    B_sqrt = [e ** 2 for e in B]\n",
    "    neg_div_2 = [-e for e in np.divide(err_A, B_sqrt)]\n",
    "    sqrt_prod_div_2 = [e ** 2 for e in np.multiply(neg_div_2, err_B)]\n",
    "    final_std_sqrt = np.add(sqrt_div_1, sqrt_prod_div_2)\n",
    "    sqrt_std = [math.sqrt(e) for e in final_std_sqrt]\n",
    "    return sqrt_std"
   ]
  },
  {
   "cell_type": "code",
   "execution_count": 34,
   "metadata": {},
   "outputs": [],
   "source": [
    "O2_ratio_1 = np.divide(n1_O2, n1_Ar)\n",
    "O2_ratio_2 = np.divide(n2_O2, n2_Ar)\n",
    "O2_ratio_3 = np.divide(n3_O2, n3_Ar)\n",
    "O2_ratio_4 = np.divide(n4_O2, n4_Ar)\n",
    "\n",
    "plus_O2_ratio_1 = get_err_from_ratios(n1_O2, n1_O2_plus, n1_Ar, n1_Ar_std)\n",
    "plus_O2_ratio_2 = get_err_from_ratios(n2_O2, n2_O2_plus, n2_Ar, n2_Ar_std)\n",
    "plus_O2_ratio_3 = get_err_from_ratios(n3_O2, n3_O2_plus, n3_Ar, n3_Ar_std)\n",
    "plus_O2_ratio_4 = get_err_from_ratios(n4_O2, n4_O2_plus, n4_Ar, n4_Ar_std)\n",
    "\n",
    "minus_O2_ratio_1 = get_err_from_ratios(n1_O2, n1_O2_minus, n1_Ar, n1_Ar_std)\n",
    "minus_O2_ratio_2 = get_err_from_ratios(n2_O2, n2_O2_minus, n2_Ar, n2_Ar_std)\n",
    "minus_O2_ratio_3 = get_err_from_ratios(n3_O2, n3_O2_minus, n3_Ar, n3_Ar_std)\n",
    "minus_O2_ratio_4 = get_err_from_ratios(n4_O2, n4_O2_minus, n4_Ar, n4_Ar_std)"
   ]
  },
  {
   "cell_type": "code",
   "execution_count": 35,
   "metadata": {},
   "outputs": [],
   "source": [
    "CO_ratio_1 = np.divide(n1_CO, n1_Ar)\n",
    "CO_ratio_2 = np.divide(n2_CO, n2_Ar)\n",
    "CO_ratio_3 = np.divide(n3_CO, n3_Ar)\n",
    "CO_ratio_4 = np.divide(n4_CO, n4_Ar)\n",
    "\n",
    "std_CO_ratio_1 = get_err_from_ratios(n1_CO, n1_CO_std, n1_Ar, n1_Ar_std)\n",
    "std_CO_ratio_2 = get_err_from_ratios(n2_CO, n2_CO_std, n2_Ar, n2_Ar_std)\n",
    "std_CO_ratio_3 = get_err_from_ratios(n3_CO, n3_CO_std, n3_Ar, n3_Ar_std)\n",
    "std_CO_ratio_4 = get_err_from_ratios(n4_CO, n4_CO_std, n4_Ar, n4_Ar_std)"
   ]
  },
  {
   "cell_type": "code",
   "execution_count": 36,
   "metadata": {},
   "outputs": [],
   "source": [
    "CO_ratio = np.divide(CO, Ar)\n",
    "N2_ratio = np.divide(N2, Ar)\n",
    "O2_ratio = np.divide(O2, Ar)"
   ]
  },
  {
   "cell_type": "code",
   "execution_count": 37,
   "metadata": {},
   "outputs": [],
   "source": [
    "filtered_CO_ratio = [e for e in CO_ratio if e > 0]"
   ]
  },
  {
   "cell_type": "code",
   "execution_count": 38,
   "metadata": {},
   "outputs": [],
   "source": [
    "O2_ratio_ave = np.mean(O2_ratio)\n",
    "N2_ratio_ave = np.mean(N2_ratio)\n",
    "CO_ratio_ave = np.mean(filtered_CO_ratio)"
   ]
  },
  {
   "cell_type": "code",
   "execution_count": 40,
   "metadata": {},
   "outputs": [],
   "source": [
    "O2_divided_ratio_1 = np.divide(O2_ratio_1, O2_ratio_ave)\n",
    "O2_divided_ratio_2 = np.divide(O2_ratio_2, O2_ratio_ave)\n",
    "O2_divided_ratio_3 = np.divide(O2_ratio_3, O2_ratio_ave)\n",
    "O2_divided_ratio_4 = np.divide(O2_ratio_4, O2_ratio_ave)\n",
    "\n",
    "O2_final_plus_1 = np.divide(plus_O2_ratio_1, O2_ratio_ave)\n",
    "O2_final_minus_1 = np.divide(minus_O2_ratio_1, O2_ratio_ave)\n",
    "O2_final_plus_2 = np.divide(plus_O2_ratio_2, O2_ratio_ave)\n",
    "O2_final_minus_2 = np.divide(minus_O2_ratio_2, O2_ratio_ave)\n",
    "O2_final_plus_3 = np.divide(plus_O2_ratio_3, O2_ratio_ave)\n",
    "O2_final_minus_3 = np.divide(minus_O2_ratio_3, O2_ratio_ave)\n",
    "O2_final_plus_4 = np.divide(plus_O2_ratio_4, O2_ratio_ave)\n",
    "O2_final_minus_4 = np.divide(minus_O2_ratio_4, O2_ratio_ave)"
   ]
  },
  {
   "cell_type": "code",
   "execution_count": 42,
   "metadata": {},
   "outputs": [],
   "source": [
    "CO_divided_ratio_1 = np.divide(CO_ratio_1, CO_ratio_ave)\n",
    "CO_divided_ratio_2 = np.divide(CO_ratio_2, CO_ratio_ave)\n",
    "CO_divided_ratio_3 = np.divide(CO_ratio_3, CO_ratio_ave)\n",
    "CO_divided_ratio_4 = np.divide(CO_ratio_4, CO_ratio_ave)\n",
    "\n",
    "CO_final_std_1 = np.divide(std_CO_ratio_1, CO_ratio_ave)\n",
    "CO_final_std_2 = np.divide(std_CO_ratio_2, CO_ratio_ave)\n",
    "CO_final_std_3 = np.divide(std_CO_ratio_3, CO_ratio_ave)\n",
    "CO_final_std_4 = np.divide(std_CO_ratio_4, CO_ratio_ave)"
   ]
  },
  {
   "cell_type": "markdown",
   "metadata": {},
   "source": [
    "### PLOT normalized O2/Ar vs CO/Ar with colored lengend of Ls (4 ranges)"
   ]
  },
  {
   "cell_type": "code",
   "execution_count": 90,
   "metadata": {},
   "outputs": [
    {
     "data": {
      "image/png": "[encoded data removed]",
      "text/plain": [
       "<Figure size 504x360 with 1 Axes>"
      ]
     },
     "metadata": {
      "needs_background": "light"
     },
     "output_type": "display_data"
    }
   ],
   "source": [
    "fig, axs = plt.subplots(1, 1, figsize= (7,5))\n",
    "# Remove horizontal space between axes\n",
    "fig.subplots_adjust(hspace=0)\n",
    "\n",
    "axs.errorbar(O2_divided_ratio_1, CO_divided_ratio_1, xerr = CO_final_std_1, yerr = [O2_final_minus_1, O2_final_plus_1], c = 'navy', fmt = 'o', capsize=5)\n",
    "axs.errorbar(O2_divided_ratio_2, CO_divided_ratio_2, xerr = CO_final_std_2, yerr = [O2_final_minus_2, O2_final_plus_2], c = 'deepskyblue', fmt = 'o', capsize=5)\n",
    "axs.errorbar(O2_divided_ratio_3, CO_divided_ratio_3, xerr = CO_final_std_3, yerr = [O2_final_minus_3, O2_final_plus_3], c = 'green', fmt = 'o', capsize=5)\n",
    "axs.errorbar(O2_divided_ratio_4, CO_divided_ratio_4, xerr = CO_final_std_4, yerr = [O2_final_minus_4, O2_final_plus_4], c = 'crimson', fmt = 'o',capsize=5)\n",
    "\n",
    "\n",
    "axs.set_xlim(0.63, 1.27)\n",
    "axs.set_ylim(0.63, 1.4)\n",
    "\n",
    "\n",
    "#grid\n",
    "axs.xaxis.grid(True, alpha = 0.25)\n",
    "axs.yaxis.grid(True, alpha = 0.25)\n",
    "\n",
    "\n",
    "axs.text(0.65, 1.35, \"Ls 0\\N{DEGREE SIGN} - 90\\N{DEGREE SIGN}\", color = 'navy', fontsize=11)\n",
    "axs.text(0.65, 1.31, \"90\\N{DEGREE SIGN} - 180\\N{DEGREE SIGN}\", color = 'deepskyblue', fontsize=11)\n",
    "plt.text(0.65, 1.27, \"180\\N{DEGREE SIGN} - 270\\N{DEGREE SIGN}\", color = 'green', fontsize=11)\n",
    "plt.text(0.65, 1.23, \"270\\N{DEGREE SIGN} - 360\\N{DEGREE SIGN}\", color = 'crimson', fontsize=11)\n",
    "\n",
    "\n",
    "plt.xlabel('Normalized O\\N{SUBSCRIPT TWO}  / Ar', labelpad = 10, fontsize = 14)\n",
    "plt.ylabel('Normalized CO / Ar', labelpad = 12, fontsize = 14)\n",
    "plt.show()\n"
   ]
  },
  {
   "cell_type": "code",
   "execution_count": 149,
   "metadata": {},
   "outputs": [
    {
     "data": {
      "image/png": "[encoded data removed]",
      "text/plain": [
       "<Figure size 504x360 with 1 Axes>"
      ]
     },
     "metadata": {
      "needs_background": "light"
     },
     "output_type": "display_data"
    }
   ],
   "source": [
    "fig, axs = plt.subplots(1, 1, figsize= (7,5))\n",
    "# Remove horizontal space between axes\n",
    "fig.subplots_adjust(hspace=0)\n",
    "\n",
    "axs.errorbar(n31_x, N2_divided_ratio_31, yerr = N2_final_std_31, c = 'navy', fmt = '*', label = 'N\\N{SUBSCRIPT TWO} / Ar', capsize=5)\n",
    "axs.errorbar(n32_x, N2_divided_ratio_32, yerr = N2_final_std_32, c = 'deepskyblue', fmt = '*', capsize=5)\n",
    "axs.errorbar(n33_x, N2_divided_ratio_33, yerr = N2_final_std_33, c = 'lightgreen', fmt = '*', capsize=5)\n",
    "axs.errorbar(n34_x, N2_divided_ratio_34, yerr = N2_final_std_34, c = 'crimson', fmt = '*', capsize=5)\n",
    "axs.legend(loc = \"best\", facecolor='white', framealpha=1, fontsize = 14)\n",
    "\n",
    "#axs[0].set_ylim(1.2, 1.46)\n",
    "#axs.set_yticks([0, 0.1, 0.2, 0.3, 0.4, 0.5, 0.6, 0.7, 0.8, 0.9, 1, 1.1, 1.2, 1.3, 1.4])\n",
    "#axs.set_yticklabels(['0','', '0.02', '', '0.04', '', '0.06', '', '0.08', '', '0.10', '', '0.12', '','0.14'], fontsize = 13)\n",
    "\n",
    "axs.errorbar(n31_x, O2_divided_ratio_31, yerr = [O2_final_minus_31, O2_final_plus_31], c = 'navy', fmt = 's', label = 'O\\N{SUBSCRIPT TWO} / Ar', capsize=5)\n",
    "axs.errorbar(n32_x, O2_divided_ratio_32, yerr = [O2_final_minus_32, O2_final_plus_32], c = 'deepskyblue', fmt = 's', capsize=5)\n",
    "axs.errorbar(n33_x, O2_divided_ratio_33, yerr = [O2_final_minus_33, O2_final_plus_33], c = 'lightgreen', fmt = 's', capsize=5)\n",
    "axs.errorbar(n34_x, O2_divided_ratio_34, yerr = [O2_final_minus_34, O2_final_plus_34], c = 'crimson', fmt = 's', capsize=5)\n",
    "#axs.legend(loc = \"best\", facecolor='white', framealpha=1, fontsize = 14)\n",
    "\n",
    "axs.errorbar(n31_x, CO_divided_ratio_31, yerr = CO_final_std_31, c = 'navy', fmt = '^', label = 'CO / Ar', capsize=5)\n",
    "axs.errorbar(n32_x, CO_divided_ratio_32, yerr = CO_final_std_32, c = 'deepskyblue', fmt = '^', capsize=5)\n",
    "axs.errorbar(n33_x, CO_divided_ratio_33, yerr = CO_final_std_33, c = 'lightgreen', fmt = '^', capsize=5)\n",
    "axs.errorbar(n34_x, CO_divided_ratio_34, yerr = CO_final_std_34, c = 'crimson', fmt = '^', capsize=5)\n",
    "\n",
    "axs.set_ylim(0.5, 1.5)\n",
    "#axs.set_yticks([0.5, 0.6, 0.7, 0.8, 0.9, 1, 1.1, 1.2, 1.3, 1.4])\n",
    "#axs.set_yticklabels(['', '0.6', '', '0.8', '', '1.0', '', '1.2', '','1.4'], fontsize = 14)\n",
    "\n",
    "#grid\n",
    "axs.xaxis.grid(True, alpha = 0.25)\n",
    "axs.yaxis.grid(True, alpha = 0.25)\n",
    "\n",
    "#set up xsticks & their labels\n",
    "axs.set_xticks(ls_sticks)\n",
    "axs.set_xticklabels(n_x_label, fontsize = 14)\n",
    "\n",
    "axs.text(1.2, 1.25, \"MY 31\", color = 'navy', fontsize=12)\n",
    "plt.text(1.2, 1.3, \"MY 32\", color = 'deepskyblue', fontsize=12)\n",
    "plt.text(1.2, 1.35, \"MY 33\", color = 'lightgreen', fontsize=12)\n",
    "plt.text(1.2, 1.4, \"MY 34\", color = 'crimson', fontsize=12)\n",
    "\n",
    "\n",
    "#plt.legend(facecolor='white', framealpha=1)\n",
    "plt.legend(bbox_to_anchor=(0.63, 1), fontsize = 11)\n",
    "#fig.legend(bbox_to_anchor=(1.4, 1), facecolor='white', framealpha=1, fontsize = 14)\n",
    "\n",
    "plt.xlabel('Ls', labelpad = 10, fontsize = 16)\n",
    "#axs[0].set_ylabel('N\\N{SUBSCRIPT TWO} / Ar Ratio', labelpad = 20, fontsize = 16)\n",
    "#axs[1].set_ylabel('O\\N{SUBSCRIPT TWO} / Ar Ratio', labelpad = 20, fontsize = 16)\n",
    "plt.ylabel('Normalized Ratio', labelpad = 20, fontsize = 16)\n",
    "plt.show()\n"
   ]
  },
  {
   "cell_type": "code",
   "execution_count": null,
   "metadata": {},
   "outputs": [],
   "source": []
  },
  {
   "cell_type": "markdown",
   "metadata": {},
   "source": [
    "### CHECK BOUND (data optimization)"
   ]
  },
  {
   "cell_type": "code",
   "execution_count": 421,
   "metadata": {},
   "outputs": [
    {
     "data": {
      "text/plain": [
       "1.0300245093197324"
      ]
     },
     "execution_count": 421,
     "metadata": {},
     "output_type": "execute_result"
    }
   ],
   "source": [
    "largest(N2_divided_ratio, len(N2_divided_ratio))"
   ]
  },
  {
   "cell_type": "code",
   "execution_count": 422,
   "metadata": {},
   "outputs": [
    {
     "data": {
      "text/plain": [
       "0.9764678465087289"
      ]
     },
     "execution_count": 422,
     "metadata": {},
     "output_type": "execute_result"
    }
   ],
   "source": [
    "smallest(N2_divided_ratio, len(N2_divided_ratio))"
   ]
  },
  {
   "cell_type": "code",
   "execution_count": 417,
   "metadata": {},
   "outputs": [],
   "source": [
    "def largest(arr,n): \n",
    "  \n",
    "    # Initialize maximum element \n",
    "    max = arr[0] \n",
    "  \n",
    "    # Traverse array elements from second \n",
    "    # and compare every element with  \n",
    "    # current max \n",
    "    for i in range(1, n): \n",
    "        if arr[i] > max: \n",
    "            max = arr[i] \n",
    "    return max\n",
    "  \n",
    "# Driver Code \n",
    "CO2_max = largest(CO2,len(CO2)) \n",
    "Ar_max = largest(Ar,len(Ar)) \n",
    "N2_max = largest(N2,len(N2)) \n",
    "O2_max = largest(O2,len(O2)) \n",
    "CO_max = largest(CO,len(CO)) \n",
    "\n",
    "def smallest(arr,n): \n",
    "  \n",
    "    # Initialize maximum element \n",
    "    min = arr[0] \n",
    "  \n",
    "    # Traverse array elements from second \n",
    "    # and compare every element with  \n",
    "    # current max \n",
    "    for i in range(1, n): \n",
    "        if arr[i] < min: \n",
    "            min = arr[i] \n",
    "    return min\n",
    "  \n",
    "# Driver Code \n",
    "CO2_min = smallest(CO2,len(CO2)) \n",
    "Ar_min = smallest(Ar,len(Ar)) \n",
    "N2_min = smallest(N2,len(N2)) \n",
    "O2_min = smallest(O2,len(O2)) \n",
    "CO_min = smallest(CO,len(CO)) "
   ]
  },
  {
   "cell_type": "code",
   "execution_count": 45,
   "metadata": {},
   "outputs": [
    {
     "data": {
      "text/plain": [
       "(0.954, 0.945)"
      ]
     },
     "execution_count": 45,
     "metadata": {},
     "output_type": "execute_result"
    }
   ],
   "source": [
    "(CO2_max, CO2_min)"
   ]
  },
  {
   "cell_type": "code",
   "execution_count": 46,
   "metadata": {},
   "outputs": [
    {
     "data": {
      "text/plain": [
       "(0.0226, 0.0185)"
      ]
     },
     "execution_count": 46,
     "metadata": {},
     "output_type": "execute_result"
    }
   ],
   "source": [
    "(Ar_max, Ar_min)"
   ]
  },
  {
   "cell_type": "code",
   "execution_count": 47,
   "metadata": {},
   "outputs": [
    {
     "data": {
      "text/plain": [
       "(0.0293, 0.025)"
      ]
     },
     "execution_count": 47,
     "metadata": {},
     "output_type": "execute_result"
    }
   ],
   "source": [
    "(N2_max, N2_min)"
   ]
  },
  {
   "cell_type": "code",
   "execution_count": 48,
   "metadata": {},
   "outputs": [
    {
     "data": {
      "text/plain": [
       "(0.00216, 0.00128)"
      ]
     },
     "execution_count": 48,
     "metadata": {},
     "output_type": "execute_result"
    }
   ],
   "source": [
    "(O2_max, O2_min)"
   ]
  },
  {
   "cell_type": "code",
   "execution_count": 49,
   "metadata": {},
   "outputs": [
    {
     "data": {
      "text/plain": [
       "(0.000813, 0.0)"
      ]
     },
     "execution_count": 49,
     "metadata": {},
     "output_type": "execute_result"
    }
   ],
   "source": [
    "(CO_max, CO_min)"
   ]
  },
  {
   "cell_type": "code",
   "execution_count": null,
   "metadata": {},
   "outputs": [],
   "source": []
  }
 ],
 "metadata": {
  "kernelspec": {
   "display_name": "Python 3",
   "language": "python",
   "name": "python3"
  },
  "language_info": {
   "codemirror_mode": {
    "name": "ipython",
    "version": 3
   },
   "file_extension": ".py",
   "mimetype": "text/x-python",
   "name": "python",
   "nbconvert_exporter": "python",
   "pygments_lexer": "ipython3",
   "version": "3.7.1"
  }
 },
 "nbformat": 4,
 "nbformat_minor": 2
}
