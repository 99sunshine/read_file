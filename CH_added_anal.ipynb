{
 "cells": [
  {
   "cell_type": "code",
   "execution_count": 1,
   "metadata": {},
   "outputs": [],
   "source": [
    "import matplotlib.cm as cm\n",
    "import numpy as np\n",
    "import matplotlib.pyplot as plt\n",
    "import pandas as pd"
   ]
  },
  {
   "cell_type": "code",
   "execution_count": 2,
   "metadata": {},
   "outputs": [],
   "source": [
    "wv_data = pd.read_excel(r'data/wv_data.xlsx')\n",
    "trainer_data = pd.read_excel('trainer_table_S1.xlsx')"
   ]
  },
  {
   "cell_type": "code",
   "execution_count": 97,
   "metadata": {},
   "outputs": [
    {
     "data": {
      "text/html": [
       "<div>\n",
       "<style scoped>\n",
       "    .dataframe tbody tr th:only-of-type {\n",
       "        vertical-align: middle;\n",
       "    }\n",
       "\n",
       "    .dataframe tbody tr th {\n",
       "        vertical-align: top;\n",
       "    }\n",
       "\n",
       "    .dataframe thead th {\n",
       "        text-align: right;\n",
       "    }\n",
       "</style>\n",
       "<table border=\"1\" class=\"dataframe\">\n",
       "  <thead>\n",
       "    <tr style=\"text-align: right;\">\n",
       "      <th></th>\n",
       "      <th>sol</th>\n",
       "      <th>CH4_situ</th>\n",
       "      <th>error</th>\n",
       "    </tr>\n",
       "  </thead>\n",
       "  <tbody>\n",
       "    <tr>\n",
       "      <th>0</th>\n",
       "      <td>79.96</td>\n",
       "      <td>-0.510</td>\n",
       "      <td>2.830</td>\n",
       "    </tr>\n",
       "    <tr>\n",
       "      <th>1</th>\n",
       "      <td>81.89</td>\n",
       "      <td>1.430</td>\n",
       "      <td>2.470</td>\n",
       "    </tr>\n",
       "    <tr>\n",
       "      <th>2</th>\n",
       "      <td>106.14</td>\n",
       "      <td>0.690</td>\n",
       "      <td>2.150</td>\n",
       "    </tr>\n",
       "    <tr>\n",
       "      <th>3</th>\n",
       "      <td>293.16</td>\n",
       "      <td>0.560</td>\n",
       "      <td>2.140</td>\n",
       "    </tr>\n",
       "    <tr>\n",
       "      <th>4</th>\n",
       "      <td>305.58</td>\n",
       "      <td>5.780</td>\n",
       "      <td>2.270</td>\n",
       "    </tr>\n",
       "    <tr>\n",
       "      <th>5</th>\n",
       "      <td>314.14</td>\n",
       "      <td>2.130</td>\n",
       "      <td>2.030</td>\n",
       "    </tr>\n",
       "    <tr>\n",
       "      <th>6</th>\n",
       "      <td>467.14</td>\n",
       "      <td>5.480</td>\n",
       "      <td>2.190</td>\n",
       "    </tr>\n",
       "    <tr>\n",
       "      <th>7</th>\n",
       "      <td>475.14</td>\n",
       "      <td>6.880</td>\n",
       "      <td>2.110</td>\n",
       "    </tr>\n",
       "    <tr>\n",
       "      <th>8</th>\n",
       "      <td>505.12</td>\n",
       "      <td>6.910</td>\n",
       "      <td>1.840</td>\n",
       "    </tr>\n",
       "    <tr>\n",
       "      <th>9</th>\n",
       "      <td>525.56</td>\n",
       "      <td>9.340</td>\n",
       "      <td>2.160</td>\n",
       "    </tr>\n",
       "    <tr>\n",
       "      <th>10</th>\n",
       "      <td>573.08</td>\n",
       "      <td>0.432</td>\n",
       "      <td>0.092</td>\n",
       "    </tr>\n",
       "    <tr>\n",
       "      <th>11</th>\n",
       "      <td>684.06</td>\n",
       "      <td>0.745</td>\n",
       "      <td>0.138</td>\n",
       "    </tr>\n",
       "    <tr>\n",
       "      <th>12</th>\n",
       "      <td>684.27</td>\n",
       "      <td>-0.410</td>\n",
       "      <td>1.890</td>\n",
       "    </tr>\n",
       "    <tr>\n",
       "      <th>13</th>\n",
       "      <td>965.99</td>\n",
       "      <td>0.607</td>\n",
       "      <td>0.087</td>\n",
       "    </tr>\n",
       "    <tr>\n",
       "      <th>14</th>\n",
       "      <td>1086.06</td>\n",
       "      <td>0.230</td>\n",
       "      <td>0.051</td>\n",
       "    </tr>\n",
       "    <tr>\n",
       "      <th>15</th>\n",
       "      <td>1125.14</td>\n",
       "      <td>0.850</td>\n",
       "      <td>1.440</td>\n",
       "    </tr>\n",
       "    <tr>\n",
       "      <th>16</th>\n",
       "      <td>1141.10</td>\n",
       "      <td>2.400</td>\n",
       "      <td>1.500</td>\n",
       "    </tr>\n",
       "    <tr>\n",
       "      <th>17</th>\n",
       "      <td>1169.02</td>\n",
       "      <td>0.221</td>\n",
       "      <td>0.072</td>\n",
       "    </tr>\n",
       "    <tr>\n",
       "      <th>18</th>\n",
       "      <td>1169.23</td>\n",
       "      <td>-0.150</td>\n",
       "      <td>1.460</td>\n",
       "    </tr>\n",
       "    <tr>\n",
       "      <th>19</th>\n",
       "      <td>1222.10</td>\n",
       "      <td>2.030</td>\n",
       "      <td>1.850</td>\n",
       "    </tr>\n",
       "    <tr>\n",
       "      <th>20</th>\n",
       "      <td>1322.00</td>\n",
       "      <td>0.570</td>\n",
       "      <td>0.110</td>\n",
       "    </tr>\n",
       "    <tr>\n",
       "      <th>21</th>\n",
       "      <td>1322.21</td>\n",
       "      <td>2.570</td>\n",
       "      <td>2.240</td>\n",
       "    </tr>\n",
       "    <tr>\n",
       "      <th>22</th>\n",
       "      <td>1451.06</td>\n",
       "      <td>0.497</td>\n",
       "      <td>0.077</td>\n",
       "    </tr>\n",
       "    <tr>\n",
       "      <th>23</th>\n",
       "      <td>1451.27</td>\n",
       "      <td>0.019</td>\n",
       "      <td>1.970</td>\n",
       "    </tr>\n",
       "    <tr>\n",
       "      <th>24</th>\n",
       "      <td>1527.06</td>\n",
       "      <td>0.332</td>\n",
       "      <td>0.097</td>\n",
       "    </tr>\n",
       "    <tr>\n",
       "      <th>25</th>\n",
       "      <td>1527.27</td>\n",
       "      <td>5.550</td>\n",
       "      <td>2.060</td>\n",
       "    </tr>\n",
       "    <tr>\n",
       "      <th>26</th>\n",
       "      <td>1579.00</td>\n",
       "      <td>0.237</td>\n",
       "      <td>0.067</td>\n",
       "    </tr>\n",
       "    <tr>\n",
       "      <th>27</th>\n",
       "      <td>1579.21</td>\n",
       "      <td>0.948</td>\n",
       "      <td>1.380</td>\n",
       "    </tr>\n",
       "    <tr>\n",
       "      <th>28</th>\n",
       "      <td>1709.00</td>\n",
       "      <td>0.313</td>\n",
       "      <td>0.097</td>\n",
       "    </tr>\n",
       "    <tr>\n",
       "      <th>29</th>\n",
       "      <td>1709.22</td>\n",
       "      <td>-0.560</td>\n",
       "      <td>1.730</td>\n",
       "    </tr>\n",
       "  </tbody>\n",
       "</table>\n",
       "</div>"
      ],
      "text/plain": [
       "        sol  CH4_situ  error\n",
       "0     79.96    -0.510  2.830\n",
       "1     81.89     1.430  2.470\n",
       "2    106.14     0.690  2.150\n",
       "3    293.16     0.560  2.140\n",
       "4    305.58     5.780  2.270\n",
       "5    314.14     2.130  2.030\n",
       "6    467.14     5.480  2.190\n",
       "7    475.14     6.880  2.110\n",
       "8    505.12     6.910  1.840\n",
       "9    525.56     9.340  2.160\n",
       "10   573.08     0.432  0.092\n",
       "11   684.06     0.745  0.138\n",
       "12   684.27    -0.410  1.890\n",
       "13   965.99     0.607  0.087\n",
       "14  1086.06     0.230  0.051\n",
       "15  1125.14     0.850  1.440\n",
       "16  1141.10     2.400  1.500\n",
       "17  1169.02     0.221  0.072\n",
       "18  1169.23    -0.150  1.460\n",
       "19  1222.10     2.030  1.850\n",
       "20  1322.00     0.570  0.110\n",
       "21  1322.21     2.570  2.240\n",
       "22  1451.06     0.497  0.077\n",
       "23  1451.27     0.019  1.970\n",
       "24  1527.06     0.332  0.097\n",
       "25  1527.27     5.550  2.060\n",
       "26  1579.00     0.237  0.067\n",
       "27  1579.21     0.948  1.380\n",
       "28  1709.00     0.313  0.097\n",
       "29  1709.22    -0.560  1.730"
      ]
     },
     "execution_count": 97,
     "metadata": {},
     "output_type": "execute_result"
    }
   ],
   "source": [
    "CH_data = pd.read_excel(r'data/CH4_situ.xlsx')\n",
    "CH_data"
   ]
  },
  {
   "cell_type": "code",
   "execution_count": 4,
   "metadata": {},
   "outputs": [],
   "source": [
    "sol = [row[1] for (index, row) in trainer_data.iterrows()]\n",
    "x = [row[0] for (index, row) in trainer_data.iterrows()]\n",
    "\n",
    "CO2 = [row[4] for (index, row) in trainer_data.iterrows()]\n",
    "CO2_std = [row[5] for (index, row) in trainer_data.iterrows()]\n",
    "\n",
    "Ar = [row[6] for (index, row) in trainer_data.iterrows()]\n",
    "Ar_std = [row[7] for (index, row) in trainer_data.iterrows()]\n",
    "\n",
    "N2 = [row[8] for (index, row) in trainer_data.iterrows()]\n",
    "N2_std = [row[9] for (index, row) in trainer_data.iterrows()]\n",
    "\n",
    "O2 = [row[10] for (index, row) in trainer_data.iterrows()]\n",
    "O2_std_plus = [row[11] for (index, row) in trainer_data.iterrows()]\n",
    "O2_std_minus = [row[12] for (index, row) in trainer_data.iterrows()]\n",
    "\n",
    "CO = [row[13] for (index, row) in trainer_data.iterrows()]\n",
    "CO_std = [row[14] for (index, row) in trainer_data.iterrows()]\n"
   ]
  },
  {
   "cell_type": "code",
   "execution_count": 123,
   "metadata": {},
   "outputs": [],
   "source": [
    "CH = CH_data.CH4_situ\n",
    "CH_error = CH_data.error\n",
    "CH_sol = CH_data.sol\n",
    "\n",
    "CH = [e for e in CH if e <= 5]\n",
    "CH_sol = [e[0] for e in zip(CH_sol, CH) if e[1] <= 5]\n",
    "CH_err = [e[0] for e in zip(CH_error, CH) if e[1] <= 5]"
   ]
  },
  {
   "cell_type": "code",
   "execution_count": 6,
   "metadata": {},
   "outputs": [],
   "source": [
    "# get the err for ratios\n",
    "import math\n",
    "def get_err_from_ratios(A, err_A, B, err_B):\n",
    "    sqrt_div_1 = [e ** 2 for e in np.divide(err_A, B)]\n",
    "    B_sqrt = [e ** 2 for e in B]\n",
    "    neg_div_2 = [-e for e in np.divide(err_A, B_sqrt)]\n",
    "    sqrt_prod_div_2 = [e ** 2 for e in np.multiply(neg_div_2, err_B)]\n",
    "    final_std_sqrt = np.add(sqrt_div_1, sqrt_prod_div_2)\n",
    "    sqrt_std = [math.sqrt(e) for e in final_std_sqrt]\n",
    "    return sqrt_std"
   ]
  },
  {
   "cell_type": "code",
   "execution_count": 7,
   "metadata": {},
   "outputs": [],
   "source": [
    "sol = [row[1] for (index, row) in trainer_data.iterrows()]\n",
    "trainer_Ls = [row[0] for (index, row) in trainer_data.iterrows()]\n",
    "\n",
    "CO2 = [row[4] for (index, row) in trainer_data.iterrows()]\n",
    "CO2_std = [row[5] for (index, row) in trainer_data.iterrows()]\n",
    "\n",
    "Ar = [row[6] for (index, row) in trainer_data.iterrows()]\n",
    "Ar_std = [row[7] for (index, row) in trainer_data.iterrows()]\n",
    "\n",
    "N2 = [row[8] for (index, row) in trainer_data.iterrows()]\n",
    "N2_std = [row[9] for (index, row) in trainer_data.iterrows()]\n",
    "\n",
    "O2 = [row[10] for (index, row) in trainer_data.iterrows()]\n",
    "O2_std_plus = [row[11] for (index, row) in trainer_data.iterrows()]\n",
    "O2_std_minus = [row[12] for (index, row) in trainer_data.iterrows()]\n",
    "\n",
    "CO = [row[13] for (index, row) in trainer_data.iterrows()]\n",
    "CO_std = [row[14] for (index, row) in trainer_data.iterrows()]"
   ]
  },
  {
   "cell_type": "code",
   "execution_count": 8,
   "metadata": {},
   "outputs": [],
   "source": [
    "CO_Ar_ratio = np.divide(CO, Ar)\n",
    "N2_Ar_ratio = np.divide(N2, Ar)\n",
    "O2_Ar_ratio = np.divide(O2, Ar)\n",
    "\n",
    "filtered_CO_ratio = [e for e in CO_Ar_ratio if e > 0]\n",
    "O2_ratio_ave = np.mean(O2_Ar_ratio)\n",
    "N2_ratio_ave = np.mean(N2_Ar_ratio)\n",
    "CO_ratio_ave = np.mean(filtered_CO_ratio)"
   ]
  },
  {
   "cell_type": "code",
   "execution_count": 9,
   "metadata": {},
   "outputs": [],
   "source": [
    "normalized_CO = np.divide(CO_Ar_ratio, CO_ratio_ave)\n",
    "normalized_O2 = np.divide(O2_Ar_ratio, O2_ratio_ave)\n",
    "normalized_N2 = np.divide(N2_Ar_ratio, N2_ratio_ave)"
   ]
  },
  {
   "cell_type": "code",
   "execution_count": 10,
   "metadata": {},
   "outputs": [],
   "source": [
    "wv = [row[5] for (index, row) in wv_data.iterrows()]\n",
    "x_time = [row[0] for (index, row) in wv_data.iterrows()]\n",
    "int_time = [int(e) for e in x_time]\n",
    "max_day = int(x_time[-1])\n",
    "day_total = [e + 1 for e in range(max_day)]\n",
    "\n",
    "# wv ranged by day(sol)\n",
    "ranged_y = [[e[1] for e in zip(int_time, wv) if e[0] == day] for day in day_total]\n",
    "\n",
    "# get the average of them\n",
    "full_day_index = [i for i in range(len(ranged_y)) if len(ranged_y[i]) >= 24]\n",
    "not_full_day = [i for i in range(len(ranged_y)) if len(ranged_y[i]) < 24]\n",
    "full_day_x = [day_total[i] for i in full_day_index]\n",
    "full_day_y = [ranged_y[i] for i in full_day_index]\n",
    "ave_daily_full_day = [np.mean(e) for e in full_day_y]\n",
    "\n",
    "\n",
    "# adj the data\n",
    "n_arr = [np.mean(full_day_y[i]) for i in full_day_index if 1482 <= i < 1487]\n",
    "nn_mean = np.mean(n_arr)\n",
    "ave_daily_full_day[1456] = float('nan')\n",
    "ave_daily_full_day[0]= float('nan')\n",
    "ave_daily_full_day[1482] = nn_mean\n",
    "\n",
    "# get all data\n",
    "from scipy.interpolate import interp1d\n",
    "f = interp1d(full_day_x, ave_daily_full_day)"
   ]
  },
  {
   "cell_type": "code",
   "execution_count": 11,
   "metadata": {},
   "outputs": [],
   "source": [
    "relative_hum = [row[9] for (index, row) in wv_data.iterrows()]\n",
    "\n",
    "# wv ranged by day(sol)\n",
    "hum_ranged_y = [[e[1] for e in zip(int_time, relative_hum) if e[0] == day] for day in day_total]\n",
    "\n",
    "# get the average of them\n",
    "full_day_hum = [hum_ranged_y[i] for i in full_day_index]\n",
    "hum_ave_daily_full_day = [np.mean(e) for e in full_day_hum]\n",
    "\n",
    "# get all data\n",
    "hum_f = interp1d(full_day_x, hum_ave_daily_full_day)"
   ]
  },
  {
   "cell_type": "code",
   "execution_count": 13,
   "metadata": {},
   "outputs": [],
   "source": [
    "day_total = [e + 1 for e in range(max_day)]\n",
    "sol_n = [e for e in day_total if full_day_x[0] <= e <= full_day_x[-1]]\n",
    "daily_wv = f(sol_n)\n",
    "Ls_trainer = [row[0] for (index, row) in trainer_data.iterrows()]\n",
    "int_sol_trainer = interp1d(sol, Ls_trainer)\n",
    "sol_total_trainer_old = [e + 1 for e in range(int(np.amax(sol)))]\n",
    "sol_trainer_total = [e for e in sol_total_trainer_old if np.amin(sol) <= e <= np.amax(sol)]\n",
    "int_trainer_Ls = int_sol_trainer(sol_trainer_total)"
   ]
  },
  {
   "cell_type": "code",
   "execution_count": 14,
   "metadata": {},
   "outputs": [],
   "source": [
    "daily_hum = hum_f(sol_n)"
   ]
  },
  {
   "cell_type": "code",
   "execution_count": 15,
   "metadata": {},
   "outputs": [],
   "source": [
    "LS_BEF = [e + 1 for e in range(int(np.amax(Ls_trainer)))]\n",
    "total_Ls = [e for e in sol_total_trainer_old if np.amin(Ls_trainer) <= e <= np.amax(Ls_trainer)]"
   ]
  },
  {
   "cell_type": "code",
   "execution_count": 16,
   "metadata": {},
   "outputs": [],
   "source": [
    "int_nor_CO_trainer = interp1d(sol, normalized_CO)\n",
    "int_nor_O2_trainer = interp1d(sol, normalized_O2)\n",
    "int_nor_N2_trainer = interp1d(sol, normalized_N2)\n",
    "\n",
    "int_CO = int_nor_CO_trainer(sol_trainer_total)\n",
    "int_O2 = int_nor_O2_trainer(sol_trainer_total)\n",
    "int_N2 = int_nor_N2_trainer(sol_trainer_total)"
   ]
  },
  {
   "cell_type": "code",
   "execution_count": 17,
   "metadata": {},
   "outputs": [],
   "source": [
    "Ls_150 = 317.5 # sol\n",
    "LS_period = 668.6 # sol\n",
    "def convert_to_month(sol):\n",
    "    sol += Ls_150\n",
    "    periods = int(sol/LS_period)\n",
    "    sol -= periods * LS_period\n",
    "    \n",
    "    if 0 <= sol <= 61.2:\n",
    "        return 1\n",
    "    elif 61.2 < sol <= 126.6:\n",
    "        return 2\n",
    "    elif 126.6 < sol <= 193.3:\n",
    "        return 3\n",
    "    elif 193.3 < sol <= 257.8:\n",
    "        return 4\n",
    "    elif 257.8 < sol <= 317.5:\n",
    "        return 5\n",
    "    elif 317.5 < sol <= 371.9:\n",
    "        return 6\n",
    "    elif 371.9 < sol <= 421.6:\n",
    "        return 7\n",
    "    elif 421.6 < sol <= 468.5:\n",
    "        return 8\n",
    "    elif 468.5 < sol <= 514.6:\n",
    "        return 9\n",
    "    elif 514.6 < sol <= 562:\n",
    "        return 10\n",
    "    elif 562 < sol <= 612.9:\n",
    "        return 11\n",
    "    elif 612.9 < sol <= 668.6:\n",
    "        return 12"
   ]
  },
  {
   "cell_type": "code",
   "execution_count": 117,
   "metadata": {},
   "outputs": [],
   "source": [
    "wv_month = [convert_to_month(e) for e in sol_n]\n",
    "trainer_month = [convert_to_month(e) for e in sol_trainer_total]\n",
    "CH_month = [convert_to_month(e) for e in CH_sol]"
   ]
  },
  {
   "cell_type": "code",
   "execution_count": 118,
   "metadata": {},
   "outputs": [],
   "source": [
    "index_CH = [int(e) - 10 for e in CH_sol]\n",
    "wv_CH = [daily_wv[i] for i in index_CH]\n",
    "hum_CH = [daily_hum[i] for i in index_CH]\n",
    "O2_CH = [int_O2[i] for i in index_CH]\n",
    "N2_CH = [int_N2[i] for i in index_CH]\n",
    "CO_CH = [int_CO[i] for i in index_CH]"
   ]
  },
  {
   "cell_type": "code",
   "execution_count": 124,
   "metadata": {},
   "outputs": [
    {
     "data": {
      "image/png": "[encoded data removed]",
      "text/plain": [
       "<Figure size 648x360 with 2 Axes>"
      ]
     },
     "metadata": {
      "needs_background": "light"
     },
     "output_type": "display_data"
    }
   ],
   "source": [
    "fig, axs = plt.subplots(1, 1, figsize= (9,5))\n",
    "# Remove horizontal space between axes\n",
    "fig.subplots_adjust(hspace=0)\n",
    "\n",
    "colors = CH_month\n",
    "cmap = cm.colors.LinearSegmentedColormap.from_list(\"\",[\"brown\",\"slateblue\",\"limegreen\",\"orange\",\"red\"],100000)\n",
    "plt.errorbar(wv_CH, CH, yerr = CH_err, zorder=0, fmt=\"none\", marker = \"none\", capsize=3, alpha = 0.45)\n",
    "plt.scatter(wv_CH, CH, c=colors, cmap=cmap)\n",
    "axs.set_xlim(10**(-7), 10**(-5))\n",
    "\n",
    "\n",
    "axs.xaxis.grid(True, alpha = 0.25)\n",
    "axs.yaxis.grid(True, alpha = 0.25)\n",
    "\n",
    "plt.colorbar(label='Martian Month (/30 Ls)')\n",
    "\n",
    "plt.ticklabel_format(axis=\"x\", style=\"sci\", scilimits=(0,0))\n",
    "\n",
    "plt.xlabel('Water Vapor Concentration [kg m$^{-3}$]', labelpad = 10, fontsize = 14)\n",
    "plt.ylabel('CH\\N{SUBSCRIPT FOUR} [ppbv]', labelpad = 13, fontsize = 14)\n",
    "plt.show()"
   ]
  },
  {
   "cell_type": "code",
   "execution_count": 125,
   "metadata": {},
   "outputs": [
    {
     "data": {
      "image/png": "[encoded data removed]",
      "text/plain": [
       "<Figure size 648x360 with 2 Axes>"
      ]
     },
     "metadata": {
      "needs_background": "light"
     },
     "output_type": "display_data"
    }
   ],
   "source": [
    "fig, axs = plt.subplots(1, 1, figsize= (9,5))\n",
    "# Remove horizontal space between axes\n",
    "fig.subplots_adjust(hspace=0)\n",
    "\n",
    "colors = CH_month\n",
    "cmap = cm.colors.LinearSegmentedColormap.from_list(\" \",[\"brown\",\"slateblue\",\"limegreen\",\"orange\",\"red\"],100000)\n",
    "plt.errorbar(hum_CH, CH, yerr = CH_err, zorder=0, fmt=\"none\", marker = \"none\", capsize=3, alpha = 0.45)\n",
    "plt.scatter(hum_CH, CH, c=colors, cmap=cmap)\n",
    "\n",
    "\n",
    "\n",
    "axs.xaxis.grid(True, alpha = 0.25)\n",
    "axs.yaxis.grid(True, alpha = 0.25)\n",
    "\n",
    "plt.colorbar(label='Martian Month (/30 Ls)')\n",
    "\n",
    "\n",
    "plt.xlabel('Relative Humidity', labelpad = 10, fontsize = 14)\n",
    "plt.ylabel('CH\\N{SUBSCRIPT FOUR} [ppbv]', labelpad = 13, fontsize = 14)\n",
    "plt.show()"
   ]
  },
  {
   "cell_type": "code",
   "execution_count": 126,
   "metadata": {},
   "outputs": [
    {
     "data": {
      "image/png": "[encoded data removed]",
      "text/plain": [
       "<Figure size 648x360 with 2 Axes>"
      ]
     },
     "metadata": {
      "needs_background": "light"
     },
     "output_type": "display_data"
    }
   ],
   "source": [
    "fig, axs = plt.subplots(1, 1, figsize= (9,5))\n",
    "# Remove horizontal space between axes\n",
    "fig.subplots_adjust(hspace=0)\n",
    "\n",
    "colors = CH_month\n",
    "cmap = cm.colors.LinearSegmentedColormap.from_list(\" \",[\"brown\",\"slateblue\",\"limegreen\",\"orange\",\"red\"],100000)\n",
    "plt.errorbar(O2_CH, CH, yerr = CH_err, zorder=0, fmt=\"none\", marker = \"none\", capsize=3, alpha = 0.45)\n",
    "plt.scatter(O2_CH, CH, c=colors, cmap=cmap)\n",
    "\n",
    "\n",
    "\n",
    "axs.xaxis.grid(True, alpha = 0.25)\n",
    "axs.yaxis.grid(True, alpha = 0.25)\n",
    "\n",
    "plt.colorbar(label='Martian Month (/30 Ls)')\n",
    "\n",
    "plt.ticklabel_format(axis=\"x\", style=\"sci\", scilimits=(0,0))\n",
    "\n",
    "plt.xlabel('Normalized O\\N{SUBSCRIPT TWO}  / Ar', labelpad = 10, fontsize = 14)\n",
    "plt.ylabel('CH\\N{SUBSCRIPT FOUR} [ppbv]', labelpad = 13, fontsize = 14)\n",
    "plt.show()"
   ]
  },
  {
   "cell_type": "code",
   "execution_count": 127,
   "metadata": {},
   "outputs": [
    {
     "data": {
      "image/png": "[encoded data removed]",
      "text/plain": [
       "<Figure size 648x360 with 2 Axes>"
      ]
     },
     "metadata": {
      "needs_background": "light"
     },
     "output_type": "display_data"
    }
   ],
   "source": [
    "fig, axs = plt.subplots(1, 1, figsize= (9,5))\n",
    "# Remove horizontal space between axes\n",
    "fig.subplots_adjust(hspace=0)\n",
    "\n",
    "colors = CH_month\n",
    "cmap = cm.colors.LinearSegmentedColormap.from_list(\" \",[\"brown\",\"slateblue\",\"limegreen\",\"orange\",\"red\"],100000)\n",
    "plt.errorbar(N2_CH, CH, yerr = CH_err, zorder=0, fmt=\"none\", marker = \"none\", capsize=3, alpha = 0.45)\n",
    "plt.scatter(N2_CH, CH, c=colors, cmap=cmap)\n",
    "\n",
    "\n",
    "\n",
    "axs.xaxis.grid(True, alpha = 0.25)\n",
    "axs.yaxis.grid(True, alpha = 0.25)\n",
    "\n",
    "plt.colorbar(label='Martian Month (/30 Ls)')\n",
    "\n",
    "plt.ticklabel_format(axis=\"x\", style=\"sci\", scilimits=(0,0))\n",
    "\n",
    "plt.xlabel('Normalized N\\N{SUBSCRIPT TWO}  / Ar', labelpad = 10, fontsize = 14)\n",
    "plt.ylabel('CH\\N{SUBSCRIPT FOUR} [ppbv]', labelpad = 13, fontsize = 14)\n",
    "plt.show()"
   ]
  },
  {
   "cell_type": "code",
   "execution_count": 128,
   "metadata": {},
   "outputs": [],
   "source": [
    "nCO_CH = CO_CH[:15]\n",
    "nCH = CH[:15]\n",
    "nerr = CH_err[:15]\n",
    "nCH_CO_month = CH_month[:15]"
   ]
  },
  {
   "cell_type": "code",
   "execution_count": 133,
   "metadata": {},
   "outputs": [
    {
     "data": {
      "image/png": "[encoded data removed]",
      "text/plain": [
       "<Figure size 648x360 with 2 Axes>"
      ]
     },
     "metadata": {
      "needs_background": "light"
     },
     "output_type": "display_data"
    }
   ],
   "source": [
    "fig, axs = plt.subplots(1, 1, figsize= (9,5))\n",
    "# Remove horizontal space between axes\n",
    "fig.subplots_adjust(hspace=0)\n",
    "\n",
    "colors = nCH_CO_month\n",
    "cmap = cm.colors.LinearSegmentedColormap.from_list(\" \",[\"brown\",\"slateblue\",\"limegreen\",\"orange\",\"red\"],100000)\n",
    "plt.errorbar(nCO_CH, nCH, yerr = nerr, zorder=0, fmt=\"none\", marker = \"none\", capsize=3, alpha = 0.45)\n",
    "plt.scatter(nCO_CH, nCH, c=colors, cmap=cmap)\n",
    "\n",
    "\n",
    "\n",
    "axs.xaxis.grid(True, alpha = 0.25)\n",
    "axs.yaxis.grid(True, alpha = 0.25)\n",
    "\n",
    "plt.colorbar(label='Martian Month (/30 Ls)')\n",
    "\n",
    "#plt.ticklabel_format(axis=\"x\", style=\"sci\", scilimits=(0,0))\n",
    "\n",
    "plt.xlabel('Normalized CO  / Ar', labelpad = 10, fontsize = 14)\n",
    "plt.ylabel('CH\\N{SUBSCRIPT FOUR} [ppbv]', labelpad = 13, fontsize = 14)\n",
    "plt.show()"
   ]
  },
  {
   "cell_type": "code",
   "execution_count": 134,
   "metadata": {},
   "outputs": [
    {
     "data": {
      "image/png": "[encoded data removed]",
      "text/plain": [
       "<Figure size 648x360 with 2 Axes>"
      ]
     },
     "metadata": {
      "needs_background": "light"
     },
     "output_type": "display_data"
    }
   ],
   "source": [
    "fig, axs = plt.subplots(1, 1, figsize= (9,5))\n",
    "# Remove horizontal space between axes\n",
    "fig.subplots_adjust(hspace=0)\n",
    "\n",
    "colors = nCH_CO_month\n",
    "cmap = cm.colors.LinearSegmentedColormap.from_list(\" \",[\"brown\",\"slateblue\",\"limegreen\",\"orange\",\"red\"],100000)\n",
    "plt.errorbar(nCH,nCO_CH,  xerr = nerr, zorder=0, fmt=\"none\", marker = \"none\", capsize=3, alpha = 0.45)\n",
    "plt.scatter(nCH, nCO_CH, c=colors, cmap=cmap)\n",
    "\n",
    "\n",
    "\n",
    "axs.xaxis.grid(True, alpha = 0.25)\n",
    "axs.yaxis.grid(True, alpha = 0.25)\n",
    "\n",
    "plt.colorbar(label='Martian Month (/30 Ls)')\n",
    "\n",
    "#plt.ticklabel_format(axis=\"x\", style=\"sci\", scilimits=(0,0))\n",
    "\n",
    "plt.ylabel('Normalized CO  / Ar', labelpad = 10, fontsize = 14)\n",
    "plt.xlabel('CH\\N{SUBSCRIPT FOUR} [ppbv]', labelpad = 13, fontsize = 14)\n",
    "plt.show()"
   ]
  },
  {
   "cell_type": "code",
   "execution_count": null,
   "metadata": {},
   "outputs": [],
   "source": []
  }
 ],
 "metadata": {
  "kernelspec": {
   "display_name": "Python 3",
   "language": "python",
   "name": "python3"
  },
  "language_info": {
   "codemirror_mode": {
    "name": "ipython",
    "version": 3
   },
   "file_extension": ".py",
   "mimetype": "text/x-python",
   "name": "python",
   "nbconvert_exporter": "python",
   "pygments_lexer": "ipython3",
   "version": "3.7.1"
  }
 },
 "nbformat": 4,
 "nbformat_minor": 2
}
