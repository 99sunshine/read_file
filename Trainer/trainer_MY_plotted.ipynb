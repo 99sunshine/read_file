{
 "cells": [
  {
   "cell_type": "code",
   "execution_count": 2,
   "metadata": {},
   "outputs": [],
   "source": [
    "import matplotlib.cm as cm\n",
    "import numpy as np\n",
    "import matplotlib.pyplot as plt\n",
    "import pandas as pd"
   ]
  },
  {
   "cell_type": "code",
   "execution_count": 3,
   "metadata": {},
   "outputs": [],
   "source": [
    "data = pd.read_excel(r'data/trainer_table_S1.xlsx')"
   ]
  },
  {
   "cell_type": "code",
   "execution_count": 6,
   "metadata": {},
   "outputs": [
    {
     "data": {
      "text/html": [
       "<div>\n",
       "<style scoped>\n",
       "    .dataframe tbody tr th:only-of-type {\n",
       "        vertical-align: middle;\n",
       "    }\n",
       "\n",
       "    .dataframe tbody tr th {\n",
       "        vertical-align: top;\n",
       "    }\n",
       "\n",
       "    .dataframe thead th {\n",
       "        text-align: right;\n",
       "    }\n",
       "</style>\n",
       "<table border=\"1\" class=\"dataframe\">\n",
       "  <thead>\n",
       "    <tr style=\"text-align: right;\">\n",
       "      <th></th>\n",
       "      <th>Ls</th>\n",
       "      <th>Sol</th>\n",
       "      <th>TID</th>\n",
       "      <th>Fp</th>\n",
       "      <th>CO2</th>\n",
       "      <th>CO2_err</th>\n",
       "      <th>Ar</th>\n",
       "      <th>Ar_err</th>\n",
       "      <th>N2</th>\n",
       "      <th>N2_err</th>\n",
       "      <th>O2</th>\n",
       "      <th>O2_err+</th>\n",
       "      <th>O2_err-</th>\n",
       "      <th>CO</th>\n",
       "      <th>CO_err</th>\n",
       "    </tr>\n",
       "  </thead>\n",
       "  <tbody>\n",
       "    <tr>\n",
       "      <th>0</th>\n",
       "      <td>175.59</td>\n",
       "      <td>45.95</td>\n",
       "      <td>25012</td>\n",
       "      <td>0.8952</td>\n",
       "      <td>0.948</td>\n",
       "      <td>0.001</td>\n",
       "      <td>0.0210</td>\n",
       "      <td>0.0004</td>\n",
       "      <td>0.0283</td>\n",
       "      <td>0.0009</td>\n",
       "      <td>0.00163</td>\n",
       "      <td>0.00015</td>\n",
       "      <td>0.00016</td>\n",
       "      <td>0.000813</td>\n",
       "      <td>0.00005</td>\n",
       "    </tr>\n",
       "    <tr>\n",
       "      <th>1</th>\n",
       "      <td>194.36</td>\n",
       "      <td>77.91</td>\n",
       "      <td>25027</td>\n",
       "      <td>0.9324</td>\n",
       "      <td>0.949</td>\n",
       "      <td>0.001</td>\n",
       "      <td>0.0207</td>\n",
       "      <td>0.0003</td>\n",
       "      <td>0.0277</td>\n",
       "      <td>0.0006</td>\n",
       "      <td>0.00176</td>\n",
       "      <td>0.00005</td>\n",
       "      <td>0.00004</td>\n",
       "      <td>0.000721</td>\n",
       "      <td>0.00006</td>\n",
       "    </tr>\n",
       "    <tr>\n",
       "      <th>2</th>\n",
       "      <td>320.79</td>\n",
       "      <td>278.58</td>\n",
       "      <td>25084</td>\n",
       "      <td>1.0107</td>\n",
       "      <td>0.954</td>\n",
       "      <td>0.001</td>\n",
       "      <td>0.0187</td>\n",
       "      <td>0.0003</td>\n",
       "      <td>0.0255</td>\n",
       "      <td>0.0006</td>\n",
       "      <td>0.00134</td>\n",
       "      <td>0.00005</td>\n",
       "      <td>0.00002</td>\n",
       "      <td>0.000623</td>\n",
       "      <td>0.00003</td>\n",
       "    </tr>\n",
       "    <tr>\n",
       "      <th>3</th>\n",
       "      <td>324.50</td>\n",
       "      <td>284.99</td>\n",
       "      <td>25088</td>\n",
       "      <td>1.0106</td>\n",
       "      <td>0.954</td>\n",
       "      <td>0.001</td>\n",
       "      <td>0.0188</td>\n",
       "      <td>0.0003</td>\n",
       "      <td>0.0253</td>\n",
       "      <td>0.0006</td>\n",
       "      <td>0.00128</td>\n",
       "      <td>0.00012</td>\n",
       "      <td>0.00005</td>\n",
       "      <td>0.000559</td>\n",
       "      <td>0.00002</td>\n",
       "    </tr>\n",
       "    <tr>\n",
       "      <th>4</th>\n",
       "      <td>328.58</td>\n",
       "      <td>292.13</td>\n",
       "      <td>25095</td>\n",
       "      <td>1.0052</td>\n",
       "      <td>0.954</td>\n",
       "      <td>0.001</td>\n",
       "      <td>0.0192</td>\n",
       "      <td>0.0003</td>\n",
       "      <td>0.0250</td>\n",
       "      <td>0.0006</td>\n",
       "      <td>0.00129</td>\n",
       "      <td>0.00005</td>\n",
       "      <td>0.00007</td>\n",
       "      <td>0.000536</td>\n",
       "      <td>0.00009</td>\n",
       "    </tr>\n",
       "    <tr>\n",
       "      <th>5</th>\n",
       "      <td>344.94</td>\n",
       "      <td>321.70</td>\n",
       "      <td>25106</td>\n",
       "      <td>0.9949</td>\n",
       "      <td>0.952</td>\n",
       "      <td>0.001</td>\n",
       "      <td>0.0195</td>\n",
       "      <td>0.0003</td>\n",
       "      <td>0.0264</td>\n",
       "      <td>0.0006</td>\n",
       "      <td>0.00153</td>\n",
       "      <td>0.00003</td>\n",
       "      <td>0.00014</td>\n",
       "      <td>0.000570</td>\n",
       "      <td>0.00003</td>\n",
       "    </tr>\n",
       "    <tr>\n",
       "      <th>6</th>\n",
       "      <td>40.91</td>\n",
       "      <td>434.91</td>\n",
       "      <td>25150</td>\n",
       "      <td>1.0573</td>\n",
       "      <td>0.954</td>\n",
       "      <td>0.001</td>\n",
       "      <td>0.0192</td>\n",
       "      <td>0.0003</td>\n",
       "      <td>0.0253</td>\n",
       "      <td>0.0006</td>\n",
       "      <td>0.00137</td>\n",
       "      <td>0.00004</td>\n",
       "      <td>0.00012</td>\n",
       "      <td>0.000449</td>\n",
       "      <td>0.00003</td>\n",
       "    </tr>\n",
       "    <tr>\n",
       "      <th>7</th>\n",
       "      <td>87.89</td>\n",
       "      <td>538.97</td>\n",
       "      <td>25172</td>\n",
       "      <td>1.0208</td>\n",
       "      <td>0.954</td>\n",
       "      <td>0.001</td>\n",
       "      <td>0.0192</td>\n",
       "      <td>0.0003</td>\n",
       "      <td>0.0251</td>\n",
       "      <td>0.0006</td>\n",
       "      <td>0.00165</td>\n",
       "      <td>0.00004</td>\n",
       "      <td>0.00009</td>\n",
       "      <td>0.000423</td>\n",
       "      <td>0.00002</td>\n",
       "    </tr>\n",
       "    <tr>\n",
       "      <th>8</th>\n",
       "      <td>134.69</td>\n",
       "      <td>638.08</td>\n",
       "      <td>25195</td>\n",
       "      <td>0.8900</td>\n",
       "      <td>0.951</td>\n",
       "      <td>0.001</td>\n",
       "      <td>0.0200</td>\n",
       "      <td>0.0004</td>\n",
       "      <td>0.0262</td>\n",
       "      <td>0.0006</td>\n",
       "      <td>0.00175</td>\n",
       "      <td>0.00004</td>\n",
       "      <td>0.00016</td>\n",
       "      <td>0.000461</td>\n",
       "      <td>0.00012</td>\n",
       "    </tr>\n",
       "    <tr>\n",
       "      <th>9</th>\n",
       "      <td>198.87</td>\n",
       "      <td>753.97</td>\n",
       "      <td>25217</td>\n",
       "      <td>0.9479</td>\n",
       "      <td>0.949</td>\n",
       "      <td>0.001</td>\n",
       "      <td>0.0211</td>\n",
       "      <td>0.0004</td>\n",
       "      <td>0.0279</td>\n",
       "      <td>0.0006</td>\n",
       "      <td>0.00180</td>\n",
       "      <td>0.00005</td>\n",
       "      <td>0.00003</td>\n",
       "      <td>0.000636</td>\n",
       "      <td>0.00003</td>\n",
       "    </tr>\n",
       "    <tr>\n",
       "      <th>10</th>\n",
       "      <td>247.85</td>\n",
       "      <td>830.91</td>\n",
       "      <td>25232</td>\n",
       "      <td>1.0811</td>\n",
       "      <td>0.954</td>\n",
       "      <td>0.001</td>\n",
       "      <td>0.0185</td>\n",
       "      <td>0.0003</td>\n",
       "      <td>0.0253</td>\n",
       "      <td>0.0006</td>\n",
       "      <td>0.00158</td>\n",
       "      <td>0.00008</td>\n",
       "      <td>0.00004</td>\n",
       "      <td>0.000729</td>\n",
       "      <td>0.00003</td>\n",
       "    </tr>\n",
       "    <tr>\n",
       "      <th>11</th>\n",
       "      <td>60.23</td>\n",
       "      <td>1145.99</td>\n",
       "      <td>25301</td>\n",
       "      <td>1.0677</td>\n",
       "      <td>0.952</td>\n",
       "      <td>0.001</td>\n",
       "      <td>0.0192</td>\n",
       "      <td>0.0003</td>\n",
       "      <td>0.0258</td>\n",
       "      <td>0.0006</td>\n",
       "      <td>0.00174</td>\n",
       "      <td>0.00004</td>\n",
       "      <td>0.00004</td>\n",
       "      <td>0.000000</td>\n",
       "      <td>0.00000</td>\n",
       "    </tr>\n",
       "    <tr>\n",
       "      <th>12</th>\n",
       "      <td>108.30</td>\n",
       "      <td>1252.02</td>\n",
       "      <td>25337</td>\n",
       "      <td>0.9590</td>\n",
       "      <td>0.952</td>\n",
       "      <td>0.001</td>\n",
       "      <td>0.0195</td>\n",
       "      <td>0.0003</td>\n",
       "      <td>0.0255</td>\n",
       "      <td>0.0006</td>\n",
       "      <td>0.00194</td>\n",
       "      <td>0.00004</td>\n",
       "      <td>0.00004</td>\n",
       "      <td>0.000000</td>\n",
       "      <td>0.00000</td>\n",
       "    </tr>\n",
       "    <tr>\n",
       "      <th>13</th>\n",
       "      <td>141.28</td>\n",
       "      <td>1319.68</td>\n",
       "      <td>25343</td>\n",
       "      <td>0.8835</td>\n",
       "      <td>0.948</td>\n",
       "      <td>0.001</td>\n",
       "      <td>0.0206</td>\n",
       "      <td>0.0004</td>\n",
       "      <td>0.0278</td>\n",
       "      <td>0.0009</td>\n",
       "      <td>0.00216</td>\n",
       "      <td>0.00005</td>\n",
       "      <td>0.00005</td>\n",
       "      <td>0.000000</td>\n",
       "      <td>0.00000</td>\n",
       "    </tr>\n",
       "    <tr>\n",
       "      <th>14</th>\n",
       "      <td>161.02</td>\n",
       "      <td>1357.07</td>\n",
       "      <td>25346</td>\n",
       "      <td>0.8761</td>\n",
       "      <td>0.945</td>\n",
       "      <td>0.001</td>\n",
       "      <td>0.0226</td>\n",
       "      <td>0.0004</td>\n",
       "      <td>0.0293</td>\n",
       "      <td>0.0009</td>\n",
       "      <td>0.00193</td>\n",
       "      <td>0.00034</td>\n",
       "      <td>0.00016</td>\n",
       "      <td>0.000000</td>\n",
       "      <td>0.00000</td>\n",
       "    </tr>\n",
       "    <tr>\n",
       "      <th>15</th>\n",
       "      <td>220.39</td>\n",
       "      <td>1457.07</td>\n",
       "      <td>25372</td>\n",
       "      <td>1.0192</td>\n",
       "      <td>0.949</td>\n",
       "      <td>0.001</td>\n",
       "      <td>0.0208</td>\n",
       "      <td>0.0004</td>\n",
       "      <td>0.0272</td>\n",
       "      <td>0.0009</td>\n",
       "      <td>0.00159</td>\n",
       "      <td>0.00019</td>\n",
       "      <td>0.00004</td>\n",
       "      <td>0.000000</td>\n",
       "      <td>0.00000</td>\n",
       "    </tr>\n",
       "    <tr>\n",
       "      <th>16</th>\n",
       "      <td>311.55</td>\n",
       "      <td>1600.07</td>\n",
       "      <td>25395</td>\n",
       "      <td>1.0215</td>\n",
       "      <td>0.954</td>\n",
       "      <td>0.001</td>\n",
       "      <td>0.0186</td>\n",
       "      <td>0.0004</td>\n",
       "      <td>0.0250</td>\n",
       "      <td>0.0008</td>\n",
       "      <td>0.00164</td>\n",
       "      <td>0.00004</td>\n",
       "      <td>0.00024</td>\n",
       "      <td>0.000000</td>\n",
       "      <td>0.00000</td>\n",
       "    </tr>\n",
       "    <tr>\n",
       "      <th>17</th>\n",
       "      <td>11.86</td>\n",
       "      <td>1711.06</td>\n",
       "      <td>25409</td>\n",
       "      <td>1.0202</td>\n",
       "      <td>0.951</td>\n",
       "      <td>0.001</td>\n",
       "      <td>0.0198</td>\n",
       "      <td>0.0004</td>\n",
       "      <td>0.0264</td>\n",
       "      <td>0.0008</td>\n",
       "      <td>0.00159</td>\n",
       "      <td>0.00004</td>\n",
       "      <td>0.00004</td>\n",
       "      <td>0.000000</td>\n",
       "      <td>0.00000</td>\n",
       "    </tr>\n",
       "    <tr>\n",
       "      <th>18</th>\n",
       "      <td>84.70</td>\n",
       "      <td>1869.07</td>\n",
       "      <td>25440</td>\n",
       "      <td>1.0316</td>\n",
       "      <td>0.953</td>\n",
       "      <td>0.001</td>\n",
       "      <td>0.0190</td>\n",
       "      <td>0.0004</td>\n",
       "      <td>0.0250</td>\n",
       "      <td>0.0008</td>\n",
       "      <td>0.00171</td>\n",
       "      <td>0.00010</td>\n",
       "      <td>0.00022</td>\n",
       "      <td>0.000000</td>\n",
       "      <td>0.00000</td>\n",
       "    </tr>\n",
       "  </tbody>\n",
       "</table>\n",
       "</div>"
      ],
      "text/plain": [
       "        Ls      Sol    TID      Fp    CO2  CO2_err      Ar  Ar_err      N2  \\\n",
       "0   175.59    45.95  25012  0.8952  0.948    0.001  0.0210  0.0004  0.0283   \n",
       "1   194.36    77.91  25027  0.9324  0.949    0.001  0.0207  0.0003  0.0277   \n",
       "2   320.79   278.58  25084  1.0107  0.954    0.001  0.0187  0.0003  0.0255   \n",
       "3   324.50   284.99  25088  1.0106  0.954    0.001  0.0188  0.0003  0.0253   \n",
       "4   328.58   292.13  25095  1.0052  0.954    0.001  0.0192  0.0003  0.0250   \n",
       "5   344.94   321.70  25106  0.9949  0.952    0.001  0.0195  0.0003  0.0264   \n",
       "6    40.91   434.91  25150  1.0573  0.954    0.001  0.0192  0.0003  0.0253   \n",
       "7    87.89   538.97  25172  1.0208  0.954    0.001  0.0192  0.0003  0.0251   \n",
       "8   134.69   638.08  25195  0.8900  0.951    0.001  0.0200  0.0004  0.0262   \n",
       "9   198.87   753.97  25217  0.9479  0.949    0.001  0.0211  0.0004  0.0279   \n",
       "10  247.85   830.91  25232  1.0811  0.954    0.001  0.0185  0.0003  0.0253   \n",
       "11   60.23  1145.99  25301  1.0677  0.952    0.001  0.0192  0.0003  0.0258   \n",
       "12  108.30  1252.02  25337  0.9590  0.952    0.001  0.0195  0.0003  0.0255   \n",
       "13  141.28  1319.68  25343  0.8835  0.948    0.001  0.0206  0.0004  0.0278   \n",
       "14  161.02  1357.07  25346  0.8761  0.945    0.001  0.0226  0.0004  0.0293   \n",
       "15  220.39  1457.07  25372  1.0192  0.949    0.001  0.0208  0.0004  0.0272   \n",
       "16  311.55  1600.07  25395  1.0215  0.954    0.001  0.0186  0.0004  0.0250   \n",
       "17   11.86  1711.06  25409  1.0202  0.951    0.001  0.0198  0.0004  0.0264   \n",
       "18   84.70  1869.07  25440  1.0316  0.953    0.001  0.0190  0.0004  0.0250   \n",
       "\n",
       "    N2_err       O2  O2_err+  O2_err-        CO   CO_err  \n",
       "0   0.0009  0.00163  0.00015  0.00016  0.000813  0.00005  \n",
       "1   0.0006  0.00176  0.00005  0.00004  0.000721  0.00006  \n",
       "2   0.0006  0.00134  0.00005  0.00002  0.000623  0.00003  \n",
       "3   0.0006  0.00128  0.00012  0.00005  0.000559  0.00002  \n",
       "4   0.0006  0.00129  0.00005  0.00007  0.000536  0.00009  \n",
       "5   0.0006  0.00153  0.00003  0.00014  0.000570  0.00003  \n",
       "6   0.0006  0.00137  0.00004  0.00012  0.000449  0.00003  \n",
       "7   0.0006  0.00165  0.00004  0.00009  0.000423  0.00002  \n",
       "8   0.0006  0.00175  0.00004  0.00016  0.000461  0.00012  \n",
       "9   0.0006  0.00180  0.00005  0.00003  0.000636  0.00003  \n",
       "10  0.0006  0.00158  0.00008  0.00004  0.000729  0.00003  \n",
       "11  0.0006  0.00174  0.00004  0.00004  0.000000  0.00000  \n",
       "12  0.0006  0.00194  0.00004  0.00004  0.000000  0.00000  \n",
       "13  0.0009  0.00216  0.00005  0.00005  0.000000  0.00000  \n",
       "14  0.0009  0.00193  0.00034  0.00016  0.000000  0.00000  \n",
       "15  0.0009  0.00159  0.00019  0.00004  0.000000  0.00000  \n",
       "16  0.0008  0.00164  0.00004  0.00024  0.000000  0.00000  \n",
       "17  0.0008  0.00159  0.00004  0.00004  0.000000  0.00000  \n",
       "18  0.0008  0.00171  0.00010  0.00022  0.000000  0.00000  "
      ]
     },
     "execution_count": 6,
     "metadata": {},
     "output_type": "execute_result"
    }
   ],
   "source": [
    "data"
   ]
  },
  {
   "cell_type": "markdown",
   "metadata": {},
   "source": [
    "### Get data "
   ]
  },
  {
   "cell_type": "code",
   "execution_count": 7,
   "metadata": {},
   "outputs": [],
   "source": [
    "sol = [row[1] for (index, row) in data.iterrows()]"
   ]
  },
  {
   "cell_type": "code",
   "execution_count": 8,
   "metadata": {},
   "outputs": [],
   "source": [
    "x = [row[0] for (index, row) in data.iterrows()]"
   ]
  },
  {
   "cell_type": "code",
   "execution_count": 48,
   "metadata": {},
   "outputs": [],
   "source": [
    "CO2 = [row[4] for (index, row) in data.iterrows()]\n",
    "CO2_std = [row[5] for (index, row) in data.iterrows()]\n",
    "\n",
    "Ar = [row[6] for (index, row) in data.iterrows()]\n",
    "Ar_std = [row[7] for (index, row) in data.iterrows()]\n",
    "\n",
    "N2 = [row[8] for (index, row) in data.iterrows()]\n",
    "N2_std = [row[9] for (index, row) in data.iterrows()]\n",
    "\n",
    "O2 = [row[10] for (index, row) in data.iterrows()]\n",
    "O2_std_plus = [row[11] for (index, row) in data.iterrows()]\n",
    "O2_std_minus = [row[12] for (index, row) in data.iterrows()]\n",
    "\n",
    "CO = [row[13] for (index, row) in data.iterrows()]\n",
    "CO_std = [row[14] for (index, row) in data.iterrows()]"
   ]
  },
  {
   "cell_type": "code",
   "execution_count": 49,
   "metadata": {},
   "outputs": [],
   "source": [
    "# get the extended arr incuding all the info: x, y and std\n",
    "ex_x = [e + 360 for e in x]\n",
    "ex_CO2_arr = [e for e in zip(ex_x, CO2, CO2_std) if e[0] <= 540]\n",
    "ex_Ar_arr = [e for e in zip(ex_x, Ar, Ar_std) if e[0] <= 540]\n",
    "ex_N2_arr = [e for e in zip(ex_x, N2, N2_std) if e[0] <= 540]\n",
    "ex_O2_arr = [e for e in zip(ex_x, O2, O2_std_plus, O2_std_minus) if e[0] <= 540]\n",
    "ex_CO_arr = [e for e in zip(ex_x, CO, CO_std) if e[0] <= 540]"
   ]
  },
  {
   "cell_type": "code",
   "execution_count": 50,
   "metadata": {},
   "outputs": [],
   "source": [
    "n_ex_x = [e[0] for e in ex_CO2_arr]\n",
    "ex_CO2 = [e[1] for e in ex_CO2_arr]\n",
    "ex_Ar = [e[1] for e in ex_Ar_arr]\n",
    "ex_N2 = [e[1] for e in ex_N2_arr]\n",
    "ex_O2 = [e[1] for e in ex_O2_arr]\n",
    "ex_CO = [e[1] for e in ex_CO_arr]"
   ]
  },
  {
   "cell_type": "code",
   "execution_count": 51,
   "metadata": {},
   "outputs": [],
   "source": [
    "n_x = x + n_ex_x # x\n",
    "n_CO2 = CO2 + ex_CO2\n",
    "n_Ar = Ar + ex_Ar\n",
    "n_N2 = N2 + ex_N2\n",
    "n_O2 = O2 + ex_O2\n",
    "n_CO = CO + ex_CO"
   ]
  },
  {
   "cell_type": "markdown",
   "metadata": {},
   "source": [
    "### Set up legends: MY"
   ]
  },
  {
   "cell_type": "code",
   "execution_count": 15,
   "metadata": {},
   "outputs": [],
   "source": [
    "legend_31 = [row for (index, row) in data.iterrows() if 45.95 <= row[1] <= 321.74]\n",
    "legend_32 = [row for (index, row) in data.iterrows() if 434.88 <= row[1] <= 830.94]\n",
    "legend_33 = [row for (index, row) in data.iterrows() if 1145.96 <= row[1] <= 1600.07]\n",
    "legend_34 = [row for (index, row) in data.iterrows() if 1711.06 <= row[1] <= 1869.07]"
   ]
  },
  {
   "cell_type": "code",
   "execution_count": 31,
   "metadata": {},
   "outputs": [],
   "source": [
    "# MY 31\n",
    "x_31 = [e[0] for e in legend_31]\n",
    "Ar_31 = [e[6] for e in legend_31]\n",
    "N2_31 = [e[8] for e in legend_31]\n",
    "O2_31 = [e[10] for e in legend_31]\n",
    "CO_31 = [e[13] for e in legend_31]\n",
    "\n",
    "# MY 32\n",
    "x_32 = [e[0] for e in legend_32]\n",
    "Ar_32 = [e[6] for e in legend_32]\n",
    "N2_32 = [e[8] for e in legend_32]\n",
    "O2_32 = [e[10] for e in legend_32]\n",
    "CO_32 = [e[13] for e in legend_32]\n",
    "\n",
    "# MY 33\n",
    "x_33 = [e[0] for e in legend_33]\n",
    "Ar_33 = [e[6] for e in legend_33]\n",
    "N2_33 = [e[8] for e in legend_33]\n",
    "O2_33 = [e[10] for e in legend_33]\n",
    "CO_33 = [e[13] for e in legend_33]\n",
    "\n",
    "# MY 34\n",
    "x_34 = [e[0] for e in legend_34]\n",
    "Ar_34 = [e[6] for e in legend_34]\n",
    "N2_34 = [e[8] for e in legend_34]\n",
    "O2_34 = [e[10] for e in legend_34]\n",
    "CO_34 = [e[13] for e in legend_34]"
   ]
  },
  {
   "cell_type": "code",
   "execution_count": 32,
   "metadata": {},
   "outputs": [],
   "source": [
    "# MY 31\n",
    "ex_x_31 = [e + 360 for e in x_31]\n",
    "\n",
    "n_ex_x31 = [e[0] for e in zip(ex_x_31, Ar_31) if e[0] <= 540]\n",
    "ex_Ar_31 = [e[1] for e in zip(ex_x_31, Ar_31) if e[0] <= 540]\n",
    "ex_N2_31 = [e[1] for e in zip(ex_x_31, N2_31) if e[0] <= 540]\n",
    "ex_O2_31 = [e[1] for e in zip(ex_x_31, O2_31) if e[0] <= 540]\n",
    "ex_CO_31 = [e[1] for e in zip(ex_x_31, CO_31) if e[0] <= 540]\n",
    "\n",
    "# MY 32\n",
    "ex_x_32 = [e + 360 for e in x_32]\n",
    "n_ex_x32 = [e[0] for e in zip(ex_x_32, Ar_32) if e[0] <= 540]\n",
    "ex_Ar_32 = [e[1] for e in zip(ex_x_32, Ar_32) if e[0] <= 540]\n",
    "ex_N2_32 = [e[1] for e in zip(ex_x_32, N2_32) if e[0] <= 540]\n",
    "ex_O2_32 = [e[1] for e in zip(ex_x_32, O2_32) if e[0] <= 540]\n",
    "ex_CO_32 = [e[1] for e in zip(ex_x_32, CO_32) if e[0] <= 540]\n",
    "\n",
    "# MY 33\n",
    "ex_x_33 = [e + 360 for e in x_33]\n",
    "n_ex_x33 = [e[0] for e in zip(ex_x_33, Ar_33) if e[0] <= 540]\n",
    "ex_Ar_33 = [e[1] for e in zip(ex_x_33, Ar_33) if e[0] <= 540]\n",
    "ex_N2_33 = [e[1] for e in zip(ex_x_33, N2_33) if e[0] <= 540]\n",
    "ex_O2_33 = [e[1] for e in zip(ex_x_33, O2_33) if e[0] <= 540]\n",
    "ex_CO_33 = [e[1] for e in zip(ex_x_33, CO_33) if e[0] <= 540]\n",
    "\n",
    "# MY 34\n",
    "ex_x_34 = [e + 360 for e in x_34]\n",
    "n_ex_x34 = [e[0] for e in zip(ex_x_34, Ar_34) if e[0] <= 540]\n",
    "ex_Ar_34 = [e[1] for e in zip(ex_x_34, Ar_34) if e[0] <= 540]\n",
    "ex_N2_34 = [e[1] for e in zip(ex_x_34, N2_34) if e[0] <= 540]\n",
    "ex_O2_34 = [e[1] for e in zip(ex_x_34, O2_34) if e[0] <= 540]\n",
    "ex_CO_34 = [e[1] for e in zip(ex_x_34, CO_34) if e[0] <= 540]"
   ]
  },
  {
   "cell_type": "code",
   "execution_count": 33,
   "metadata": {},
   "outputs": [],
   "source": [
    "# MY 31\n",
    "n31_Ar = Ar_31 + ex_Ar_31\n",
    "n31_N2 = N2_31 + ex_N2_31\n",
    "n31_O2 = O2_31 + ex_O2_31\n",
    "n31_CO = CO_31 + ex_CO_31\n",
    "\n",
    "# MY 32\n",
    "n32_Ar = Ar_32 + ex_Ar_32\n",
    "n32_N2 = N2_32 + ex_N2_32\n",
    "n32_O2 = O2_32 + ex_O2_32\n",
    "n32_CO = CO_32 + ex_CO_32\n",
    "\n",
    "# MY 33\n",
    "n33_Ar = Ar_33 + ex_Ar_33\n",
    "n33_N2 = N2_33 + ex_N2_33\n",
    "n33_O2 = O2_33 + ex_O2_33\n",
    "n33_CO = CO_33 + ex_CO_33\n",
    "\n",
    "# MY 34\n",
    "n34_Ar = Ar_34 + ex_Ar_34\n",
    "n34_N2 = N2_34 + ex_N2_34\n",
    "n34_O2 = O2_34 + ex_O2_34\n",
    "n34_CO = CO_34 + ex_CO_34"
   ]
  },
  {
   "cell_type": "code",
   "execution_count": 34,
   "metadata": {},
   "outputs": [],
   "source": [
    "# sets up x for each legend\n",
    "n31_x = x_31 + n_ex_x31\n",
    "n32_x = x_32 + n_ex_x32\n",
    "n33_x = x_33 + n_ex_x33\n",
    "n34_x = x_34 + n_ex_x34"
   ]
  },
  {
   "cell_type": "code",
   "execution_count": 35,
   "metadata": {},
   "outputs": [],
   "source": [
    "N2_ratio_31 = np.divide(n31_N2, n31_Ar)\n",
    "N2_ratio_32 = np.divide(n32_N2, n32_Ar)\n",
    "N2_ratio_33 = np.divide(n33_N2, n33_Ar)\n",
    "N2_ratio_34 = np.divide(n34_N2, n34_Ar)"
   ]
  },
  {
   "cell_type": "code",
   "execution_count": 36,
   "metadata": {},
   "outputs": [],
   "source": [
    "O2_ratio_31 = np.divide(n31_O2, n31_Ar)\n",
    "O2_ratio_32 = np.divide(n32_O2, n32_Ar)\n",
    "O2_ratio_33 = np.divide(n33_O2, n33_Ar)\n",
    "O2_ratio_34 = np.divide(n34_O2, n34_Ar)"
   ]
  },
  {
   "cell_type": "code",
   "execution_count": 37,
   "metadata": {},
   "outputs": [],
   "source": [
    "CO_ratio_31 = np.divide(n31_CO, n31_Ar)\n",
    "CO_ratio_32 = np.divide(n32_CO, n32_Ar)\n",
    "CO_ratio_33 = np.divide(n33_CO, n33_Ar)\n",
    "CO_ratio_34 = np.divide(n34_CO, n34_Ar)"
   ]
  },
  {
   "cell_type": "code",
   "execution_count": 54,
   "metadata": {},
   "outputs": [],
   "source": [
    "CO_ratio = np.divide(n_CO, n_Ar)\n",
    "N2_ratio = np.divide(n_N2, n_Ar)\n",
    "O2_ratio = np.divide(n_O2, n_Ar)"
   ]
  },
  {
   "cell_type": "code",
   "execution_count": 55,
   "metadata": {},
   "outputs": [],
   "source": [
    "O2_ratio_ave = np.mean(O2_ratio)\n",
    "N2_ratio_ave = np.mean(N2_ratio)\n",
    "CO_ratio_ave = np.mean(CO_ratio)"
   ]
  },
  {
   "cell_type": "code",
   "execution_count": 56,
   "metadata": {},
   "outputs": [],
   "source": [
    "O2_divided_ratio_31 = np.divide(O2_ratio_31, O2_ratio_ave)\n",
    "O2_divided_ratio_32 = np.divide(O2_ratio_32, O2_ratio_ave)\n",
    "O2_divided_ratio_33 = np.divide(O2_ratio_33, O2_ratio_ave)\n",
    "O2_divided_ratio_34 = np.divide(O2_ratio_34, O2_ratio_ave)"
   ]
  },
  {
   "cell_type": "code",
   "execution_count": 57,
   "metadata": {},
   "outputs": [],
   "source": [
    "N2_divided_ratio_31 = np.divide(N2_ratio_31, N2_ratio_ave)\n",
    "N2_divided_ratio_32 = np.divide(N2_ratio_32, N2_ratio_ave)\n",
    "N2_divided_ratio_33 = np.divide(N2_ratio_33, N2_ratio_ave)\n",
    "N2_divided_ratio_34 = np.divide(N2_ratio_34, N2_ratio_ave)"
   ]
  },
  {
   "cell_type": "code",
   "execution_count": 58,
   "metadata": {},
   "outputs": [],
   "source": [
    "CO_divided_ratio_31 = np.divide(CO_ratio_31, CO_ratio_ave)\n",
    "CO_divided_ratio_32 = np.divide(CO_ratio_32, CO_ratio_ave)\n",
    "CO_divided_ratio_33 = np.divide(CO_ratio_33, CO_ratio_ave)\n",
    "CO_divided_ratio_34 = np.divide(CO_ratio_34, CO_ratio_ave)"
   ]
  },
  {
   "cell_type": "markdown",
   "metadata": {},
   "source": [
    "# PLOT"
   ]
  },
  {
   "cell_type": "code",
   "execution_count": 59,
   "metadata": {},
   "outputs": [
    {
     "data": {
      "text/plain": [
       "['0°',\n",
       " '45°',\n",
       " '90°',\n",
       " '135°',\n",
       " '180°',\n",
       " '225°',\n",
       " '270°',\n",
       " '315°',\n",
       " '360°',\n",
       " '405°',\n",
       " '450°',\n",
       " '495°',\n",
       " '540°']"
      ]
     },
     "execution_count": 59,
     "metadata": {},
     "output_type": "execute_result"
    }
   ],
   "source": [
    "ls_sticks = 0, 45, 90, 135, 180, 225, 270, 315, 360, 405, 450, 495, 540\n",
    "\n",
    "degree_sign= u'\\N{DEGREE SIGN}'\n",
    "x_label = [r\"{:.0f}\".format(_) + degree_sign for _ in ls_sticks]\n",
    "x_label"
   ]
  },
  {
   "cell_type": "code",
   "execution_count": 60,
   "metadata": {},
   "outputs": [],
   "source": [
    "n_x_label = ['0°',\n",
    " '',\n",
    " '90°',\n",
    " '',\n",
    " '180°',\n",
    " '',\n",
    " '270°',\n",
    " '',\n",
    " '360°',\n",
    " '',\n",
    " '450°',\n",
    " '',\n",
    " '540°']"
   ]
  },
  {
   "cell_type": "code",
   "execution_count": 61,
   "metadata": {},
   "outputs": [
    {
     "data": {
      "image/png": "[encoded data removed]",
      "text/plain": [
       "<Figure size 504x360 with 1 Axes>"
      ]
     },
     "metadata": {
      "needs_background": "light"
     },
     "output_type": "display_data"
    }
   ],
   "source": [
    "fig, axs = plt.subplots(1, 1, figsize= (7,5))\n",
    "# Remove horizontal space between axes\n",
    "fig.subplots_adjust(hspace=0)\n",
    "\n",
    "axs.scatter(n31_x, N2_divided_ratio_31, s = 50, c = 'navy', marker = '*', label = 'N\\N{SUBSCRIPT TWO} / Ar')\n",
    "axs.scatter(n32_x, N2_divided_ratio_32, s = 50, c = 'deepskyblue', marker = '*')\n",
    "axs.scatter(n33_x, N2_divided_ratio_33, s = 50, c = 'lightgreen', marker = '*')\n",
    "axs.scatter(n34_x, N2_divided_ratio_34, s = 50, c = 'crimson', marker = '*')\n",
    "axs.legend(loc = \"best\", facecolor='white', framealpha=1, fontsize = 14)\n",
    "\n",
    "#axs[0].set_ylim(1.2, 1.46)\n",
    "#axs.set_yticks([0, 0.1, 0.2, 0.3, 0.4, 0.5, 0.6, 0.7, 0.8, 0.9, 1, 1.1, 1.2, 1.3, 1.4])\n",
    "#axs.set_yticklabels(['0','', '0.02', '', '0.04', '', '0.06', '', '0.08', '', '0.10', '', '0.12', '','0.14'], fontsize = 13)\n",
    "\n",
    "axs.scatter(n31_x, O2_divided_ratio_31, s = 50, c = 'navy', marker = 's', label = 'O\\N{SUBSCRIPT TWO} / Ar')\n",
    "axs.scatter(n32_x, O2_divided_ratio_32, s = 50, c = 'deepskyblue', marker = 's')\n",
    "axs.scatter(n33_x, O2_divided_ratio_33, s = 50, c = 'lightgreen', marker = 's')\n",
    "axs.scatter(n34_x, O2_divided_ratio_34, s = 50, c = 'crimson', marker = 's')\n",
    "#axs.legend(loc = \"best\", facecolor='white', framealpha=1, fontsize = 14)\n",
    "\n",
    "axs.scatter(n31_x, CO_divided_ratio_31, s = 50, c = 'navy', marker = '^', label = 'CO / Ar')\n",
    "axs.scatter(n32_x, CO_divided_ratio_32, s = 50, c = 'deepskyblue', marker = '^')\n",
    "axs.scatter(n33_x, CO_divided_ratio_33, s = 50, c = 'lightgreen', marker = '^')\n",
    "axs.scatter(n34_x, CO_divided_ratio_34, s = 50, c = 'crimson', marker = '^')\n",
    "\n",
    "axs.set_ylim(0.1, 2.7)\n",
    "#axs.set_yticks([0.5, 0.6, 0.7, 0.8, 0.9, 1, 1.1, 1.2, 1.3, 1.4])\n",
    "#axs.set_yticklabels(['', '0.6', '', '0.8', '', '1.0', '', '1.2', '','1.4'], fontsize = 14)\n",
    "\n",
    "#grid\n",
    "axs.xaxis.grid(True, alpha = 0.25)\n",
    "axs.yaxis.grid(True, alpha = 0.25)\n",
    "\n",
    "#set up xsticks & their labels\n",
    "axs.set_xticks(ls_sticks)\n",
    "axs.set_xticklabels(n_x_label, fontsize = 14)\n",
    "\n",
    "axs.text(9, 2.5, \"MY 31\", color = 'navy', fontsize=12)\n",
    "plt.text(9, 2.35, \"MY 32\", color = 'deepskyblue', fontsize=12)\n",
    "plt.text(9, 2.2, \"MY 33\", color = 'lightgreen', fontsize=12)\n",
    "plt.text(9, 2.05, \"MY 34\", color = 'crimson', fontsize=12)\n",
    "\n",
    "\n",
    "#plt.legend(facecolor='white', framealpha=1)\n",
    "plt.legend(bbox_to_anchor=(0.92, 1), fontsize = 11)\n",
    "#fig.legend(bbox_to_anchor=(1.4, 1), facecolor='white', framealpha=1, fontsize = 14)\n",
    "\n",
    "plt.xlabel('Ls', labelpad = 10, fontsize = 16)\n",
    "#axs[0].set_ylabel('N\\N{SUBSCRIPT TWO} / Ar Ratio', labelpad = 20, fontsize = 16)\n",
    "#axs[1].set_ylabel('O\\N{SUBSCRIPT TWO} / Ar Ratio', labelpad = 20, fontsize = 16)\n",
    "plt.ylabel('Ratios', labelpad = 20, fontsize = 16)\n",
    "plt.show()\n"
   ]
  },
  {
   "cell_type": "code",
   "execution_count": 75,
   "metadata": {},
   "outputs": [
    {
     "data": {
      "image/png": "[encoded data removed]",
      "text/plain": [
       "<Figure size 504x360 with 1 Axes>"
      ]
     },
     "metadata": {
      "needs_background": "light"
     },
     "output_type": "display_data"
    }
   ],
   "source": [
    "fig, axs = plt.subplots(1, 1, figsize= (7,5))\n",
    "# Remove horizontal space between axes\n",
    "fig.subplots_adjust(hspace=0)\n",
    "\n",
    "axs.scatter(n31_x, N2_divided_ratio_31, s = 50, c = 'navy', marker = '*', label = 'N\\N{SUBSCRIPT TWO} / Ar')\n",
    "axs.scatter(n32_x, N2_divided_ratio_32, s = 50, c = 'deepskyblue', marker = '*')\n",
    "axs.scatter(n33_x, N2_divided_ratio_33, s = 50, c = 'lightgreen', marker = '*')\n",
    "axs.scatter(n34_x, N2_divided_ratio_34, s = 50, c = 'crimson', marker = '*')\n",
    "axs.legend(loc = \"best\", facecolor='white', framealpha=1, fontsize = 14)\n",
    "\n",
    "#axs[0].set_ylim(1.2, 1.46)\n",
    "#axs.set_yticks([0, 0.1, 0.2, 0.3, 0.4, 0.5, 0.6, 0.7, 0.8, 0.9, 1, 1.1, 1.2, 1.3, 1.4])\n",
    "#axs.set_yticklabels(['0','', '0.02', '', '0.04', '', '0.06', '', '0.08', '', '0.10', '', '0.12', '','0.14'], fontsize = 13)\n",
    "\n",
    "axs.scatter(n31_x, O2_divided_ratio_31, s = 50, c = 'navy', marker = 's', label = 'O\\N{SUBSCRIPT TWO} / Ar')\n",
    "axs.scatter(n32_x, O2_divided_ratio_32, s = 50, c = 'deepskyblue', marker = 's')\n",
    "axs.scatter(n33_x, O2_divided_ratio_33, s = 50, c = 'lightgreen', marker = 's')\n",
    "axs.scatter(n34_x, O2_divided_ratio_34, s = 50, c = 'crimson', marker = 's')\n",
    "#axs.legend(loc = \"best\", facecolor='white', framealpha=1, fontsize = 14)\n",
    "\n",
    "axs.scatter(n31_x, CO_divided_ratio_31, s = 50, c = 'navy', marker = '^', label = 'CO / Ar')\n",
    "axs.scatter(n32_x, CO_divided_ratio_32, s = 50, c = 'deepskyblue', marker = '^')\n",
    "axs.scatter(n33_x, CO_divided_ratio_33, s = 50, c = 'lightgreen', marker = '^')\n",
    "axs.scatter(n34_x, CO_divided_ratio_34, s = 50, c = 'crimson', marker = '^')\n",
    "\n",
    "axs.set_ylim(0.1, 3.5)\n",
    "#axs.set_yticks([0.1, 0.2, 0.3, 0.4, 0.5, 0.6, 0.7, 0.8, 0.9, 1, 1.1, 1.2, 1.3, 1.4])\n",
    "#axs.set_yticklabels(['', '0.2', '', '0.4', '', '0.6', '', '0.8', '', '1.0', '', '1.2', '','1.4'], fontsize = 14)\n",
    "\n",
    "#grid\n",
    "axs.xaxis.grid(True, alpha = 0.25)\n",
    "axs.yaxis.grid(True, alpha = 0.25)\n",
    "\n",
    "#set up xsticks & their labels\n",
    "axs.set_xticks(ls_sticks)\n",
    "axs.set_xticklabels(n_x_label, fontsize = 14)\n",
    "\n",
    "axs.text(9, 3.2, \"MY 31\", color = 'navy', fontsize=12)\n",
    "axs.text(9, 3, \"MY 32\", color = 'deepskyblue', fontsize=12)\n",
    "plt.text(9, 2.8, \"MY 33\", color = 'lightgreen', fontsize=12)\n",
    "plt.text(9, 2.6, \"MY 34\", color = 'crimson', fontsize=12)\n",
    "\n",
    "#plt.legend(facecolor='white', framealpha=1)\n",
    "plt.legend(loc = 0, fontsize = 11)\n",
    "#fig.legend(bbox_to_anchor=(1.4, 1), facecolor='white', framealpha=1, fontsize = 14)\n",
    "\n",
    "plt.xlabel('Ls', labelpad = 10, fontsize = 16)\n",
    "#axs[0].set_ylabel('N\\N{SUBSCRIPT TWO} / Ar Ratio', labelpad = 20, fontsize = 16)\n",
    "#axs[1].set_ylabel('O\\N{SUBSCRIPT TWO} / Ar Ratio', labelpad = 20, fontsize = 16)\n",
    "plt.ylabel('Ratios', labelpad = 20, fontsize = 16)\n",
    "plt.show()\n"
   ]
  },
  {
   "cell_type": "code",
   "execution_count": null,
   "metadata": {},
   "outputs": [],
   "source": []
  },
  {
   "cell_type": "code",
   "execution_count": 72,
   "metadata": {},
   "outputs": [
    {
     "data": {
      "image/png": "[encoded data removed]",
      "text/plain": [
       "<Figure size 504x360 with 1 Axes>"
      ]
     },
     "metadata": {
      "needs_background": "light"
     },
     "output_type": "display_data"
    }
   ],
   "source": [
    "fig, axs = plt.subplots(1, 1, figsize= (7,5))\n",
    "# Remove horizontal space between axes\n",
    "fig.subplots_adjust(hspace=0)\n",
    "\n",
    "axs.scatter(n31_x, N2_divided_ratio_31, s = 50, c = 'navy', marker = '*', label = 'N\\N{SUBSCRIPT TWO} / Ar')\n",
    "axs.scatter(n32_x, N2_divided_ratio_32, s = 50, c = 'deepskyblue', marker = '*')\n",
    "axs.scatter(n33_x, N2_divided_ratio_33, s = 50, c = 'lightgreen', marker = '*')\n",
    "axs.scatter(n34_x, N2_divided_ratio_34, s = 50, c = 'crimson', marker = '*')\n",
    "axs.legend(loc = \"best\", facecolor='white', framealpha=1, fontsize = 14)\n",
    "\n",
    "#axs[0].set_ylim(1.2, 1.46)\n",
    "#axs.set_yticks([0, 0.1, 0.2, 0.3, 0.4, 0.5, 0.6, 0.7, 0.8, 0.9, 1, 1.1, 1.2, 1.3, 1.4])\n",
    "#axs.set_yticklabels(['0','', '0.02', '', '0.04', '', '0.06', '', '0.08', '', '0.10', '', '0.12', '','0.14'], fontsize = 13)\n",
    "\n",
    "axs.scatter(n31_x, O2_divided_ratio_31, s = 50, c = 'navy', marker = 's', label = 'O\\N{SUBSCRIPT TWO} / Ar')\n",
    "axs.scatter(n32_x, O2_divided_ratio_32, s = 50, c = 'deepskyblue', marker = 's')\n",
    "axs.scatter(n33_x, O2_divided_ratio_33, s = 50, c = 'lightgreen', marker = 's')\n",
    "axs.scatter(n34_x, O2_divided_ratio_34, s = 50, c = 'crimson', marker = 's')\n",
    "#axs.legend(loc = \"best\", facecolor='white', framealpha=1, fontsize = 14)\n",
    "\n",
    "axs.scatter(n31_x, CO_divided_ratio_31, s = 50, c = 'navy', marker = '^', label = 'CO / Ar')\n",
    "axs.scatter(n32_x, CO_divided_ratio_32, s = 50, c = 'deepskyblue', marker = '^')\n",
    "axs.scatter(n33_x, CO_divided_ratio_33, s = 50, c = 'lightgreen', marker = '^')\n",
    "axs.scatter(n34_x, CO_divided_ratio_34, s = 50, c = 'crimson', marker = '^')\n",
    "\n",
    "axs.set_ylim(0.2, 3.5)\n",
    "#axs.set_yticks([0.5, 0.6, 0.7, 0.8, 0.9, 1, 1.1, 1.2, 1.3, 1.4])\n",
    "#axs.set_yticklabels(['', '0.6', '', '0.8', '', '1.0', '', '1.2', '','1.4'], fontsize = 14)\n",
    "\n",
    "#grid\n",
    "axs.xaxis.grid(True, alpha = 0.25)\n",
    "axs.yaxis.grid(True, alpha = 0.25)\n",
    "\n",
    "#set up xsticks & their labels\n",
    "axs.set_xticks(ls_sticks)\n",
    "axs.set_xticklabels(n_x_label, fontsize = 14)\n",
    "\n",
    "axs.text(9, 3.15, \"MY 31\", color = 'navy', fontsize=11)\n",
    "plt.text(450, 2.42, \"MY 32\", color = 'deepskyblue', fontsize=11)\n",
    "plt.text(450, 2.29, \"MY 33\", color = 'lightgreen', fontsize=11)\n",
    "plt.text(450, 2.16, \"MY 34\", color = 'crimson', fontsize=11)\n",
    "\n",
    "\n",
    "#plt.legend(facecolor='white', framealpha=1)\n",
    "plt.legend(loc = 0, fontsize = 11)\n",
    "#fig.legend(bbox_to_anchor=(1.4, 1), facecolor='white', framealpha=1, fontsize = 14)\n",
    "\n",
    "plt.xlabel('Ls', labelpad = 10, fontsize = 16)\n",
    "#axs[0].set_ylabel('N\\N{SUBSCRIPT TWO} / Ar Ratio', labelpad = 20, fontsize = 16)\n",
    "#axs[1].set_ylabel('O\\N{SUBSCRIPT TWO} / Ar Ratio', labelpad = 20, fontsize = 16)\n",
    "plt.ylabel('Ratios', labelpad = 20, fontsize = 16)\n",
    "plt.show()\n"
   ]
  },
  {
   "cell_type": "code",
   "execution_count": 324,
   "metadata": {},
   "outputs": [
    {
     "data": {
      "image/png": "[encoded data removed]",
      "text/plain": [
       "<Figure size 504x360 with 1 Axes>"
      ]
     },
     "metadata": {
      "needs_background": "light"
     },
     "output_type": "display_data"
    }
   ],
   "source": [
    "fig, axs = plt.subplots(1, 1, figsize= (7,5))\n",
    "# Remove horizontal space between axes\n",
    "#fig.subplots_adjust(hspace=0)\n",
    "\n",
    "\n",
    "axs.scatter(n31_x, CO_divided_ratio_31, s = 50, c = 'navy', marker = 'o', label = 'CO / Ar')\n",
    "axs.scatter(n32_x, CO_divided_ratio_32, s = 50, c = 'deepskyblue', marker = 'o')\n",
    "axs.scatter(n33_x, CO_divided_ratio_33, s = 50, c = 'lightgreen', marker = 'o')\n",
    "axs.scatter(n34_x, CO_divided_ratio_34, s = 50, c = 'crimson', marker = 'o')\n",
    "\n",
    "#axs.set_ylim(0.5, 1.4)\n",
    "#axs.set_yticks([0.5, 0.6, 0.7, 0.8, 0.9, 1, 1.1, 1.2, 1.3, 1.4])\n",
    "#axs.set_yticklabels(['', '0.6', '', '0.8', '', '1.0', '', '1.2', '','1.4'], fontsize = 14)\n",
    "\n",
    "#grid\n",
    "axs.xaxis.grid(True, alpha = 0.25)\n",
    "axs.yaxis.grid(True, alpha = 0.25)\n",
    "\n",
    "#set up xsticks & their labels\n",
    "axs.set_xticks(ls_sticks)\n",
    "axs.set_xticklabels(n_x_label, fontsize = 14)\n",
    "\n",
    "axs.text(9, 2.5, \"MY 31\", color = 'navy', fontsize=12)\n",
    "plt.text(9, 2.35, \"MY 32\", color = 'deepskyblue', fontsize=12)\n",
    "plt.text(9, 2.2, \"MY 33\", color = 'lightgreen', fontsize=12)\n",
    "plt.text(9, 2.05, \"MY 34\", color = 'crimson', fontsize=12)\n",
    "\n",
    "#plt.legend(facecolor='white', framealpha=1)\n",
    "#plt.legend(fontsize = 14)\n",
    "#fig.legend(bbox_to_anchor=(1.4, 1), facecolor='white', framealpha=1, fontsize = 14)\n",
    "\n",
    "plt.xlabel('Ls', labelpad = 10, fontsize = 16)\n",
    "#axs[0].set_ylabel('N\\N{SUBSCRIPT TWO} / Ar Ratio', labelpad = 20, fontsize = 16)\n",
    "#axs[1].set_ylabel('O\\N{SUBSCRIPT TWO} / Ar Ratio', labelpad = 20, fontsize = 16)\n",
    "plt.ylabel('CO / Ar', labelpad = 10, fontsize = 16)\n",
    "plt.show()\n"
   ]
  },
  {
   "cell_type": "markdown",
   "metadata": {},
   "source": [
    "### CHECK BOUND (data optimization)"
   ]
  },
  {
   "cell_type": "code",
   "execution_count": 421,
   "metadata": {},
   "outputs": [
    {
     "data": {
      "text/plain": [
       "1.0300245093197324"
      ]
     },
     "execution_count": 421,
     "metadata": {},
     "output_type": "execute_result"
    }
   ],
   "source": [
    "largest(N2_divided_ratio, len(N2_divided_ratio))"
   ]
  },
  {
   "cell_type": "code",
   "execution_count": 422,
   "metadata": {},
   "outputs": [
    {
     "data": {
      "text/plain": [
       "0.9764678465087289"
      ]
     },
     "execution_count": 422,
     "metadata": {},
     "output_type": "execute_result"
    }
   ],
   "source": [
    "smallest(N2_divided_ratio, len(N2_divided_ratio))"
   ]
  },
  {
   "cell_type": "code",
   "execution_count": 417,
   "metadata": {},
   "outputs": [],
   "source": [
    "def largest(arr,n): \n",
    "  \n",
    "    # Initialize maximum element \n",
    "    max = arr[0] \n",
    "  \n",
    "    # Traverse array elements from second \n",
    "    # and compare every element with  \n",
    "    # current max \n",
    "    for i in range(1, n): \n",
    "        if arr[i] > max: \n",
    "            max = arr[i] \n",
    "    return max\n",
    "  \n",
    "# Driver Code \n",
    "CO2_max = largest(CO2,len(CO2)) \n",
    "Ar_max = largest(Ar,len(Ar)) \n",
    "N2_max = largest(N2,len(N2)) \n",
    "O2_max = largest(O2,len(O2)) \n",
    "CO_max = largest(CO,len(CO)) \n",
    "\n",
    "def smallest(arr,n): \n",
    "  \n",
    "    # Initialize maximum element \n",
    "    min = arr[0] \n",
    "  \n",
    "    # Traverse array elements from second \n",
    "    # and compare every element with  \n",
    "    # current max \n",
    "    for i in range(1, n): \n",
    "        if arr[i] < min: \n",
    "            min = arr[i] \n",
    "    return min\n",
    "  \n",
    "# Driver Code \n",
    "CO2_min = smallest(CO2,len(CO2)) \n",
    "Ar_min = smallest(Ar,len(Ar)) \n",
    "N2_min = smallest(N2,len(N2)) \n",
    "O2_min = smallest(O2,len(O2)) \n",
    "CO_min = smallest(CO,len(CO)) "
   ]
  },
  {
   "cell_type": "code",
   "execution_count": 45,
   "metadata": {},
   "outputs": [
    {
     "data": {
      "text/plain": [
       "(0.954, 0.945)"
      ]
     },
     "execution_count": 45,
     "metadata": {},
     "output_type": "execute_result"
    }
   ],
   "source": [
    "(CO2_max, CO2_min)"
   ]
  },
  {
   "cell_type": "code",
   "execution_count": 46,
   "metadata": {},
   "outputs": [
    {
     "data": {
      "text/plain": [
       "(0.0226, 0.0185)"
      ]
     },
     "execution_count": 46,
     "metadata": {},
     "output_type": "execute_result"
    }
   ],
   "source": [
    "(Ar_max, Ar_min)"
   ]
  },
  {
   "cell_type": "code",
   "execution_count": 47,
   "metadata": {},
   "outputs": [
    {
     "data": {
      "text/plain": [
       "(0.0293, 0.025)"
      ]
     },
     "execution_count": 47,
     "metadata": {},
     "output_type": "execute_result"
    }
   ],
   "source": [
    "(N2_max, N2_min)"
   ]
  },
  {
   "cell_type": "code",
   "execution_count": 48,
   "metadata": {},
   "outputs": [
    {
     "data": {
      "text/plain": [
       "(0.00216, 0.00128)"
      ]
     },
     "execution_count": 48,
     "metadata": {},
     "output_type": "execute_result"
    }
   ],
   "source": [
    "(O2_max, O2_min)"
   ]
  },
  {
   "cell_type": "code",
   "execution_count": 49,
   "metadata": {},
   "outputs": [
    {
     "data": {
      "text/plain": [
       "(0.000813, 0.0)"
      ]
     },
     "execution_count": 49,
     "metadata": {},
     "output_type": "execute_result"
    }
   ],
   "source": [
    "(CO_max, CO_min)"
   ]
  },
  {
   "cell_type": "code",
   "execution_count": null,
   "metadata": {},
   "outputs": [],
   "source": []
  }
 ],
 "metadata": {
  "kernelspec": {
   "display_name": "Python 3",
   "language": "python",
   "name": "python3"
  },
  "language_info": {
   "codemirror_mode": {
    "name": "ipython",
    "version": 3
   },
   "file_extension": ".py",
   "mimetype": "text/x-python",
   "name": "python",
   "nbconvert_exporter": "python",
   "pygments_lexer": "ipython3",
   "version": "3.7.1"
  }
 },
 "nbformat": 4,
 "nbformat_minor": 2
}
