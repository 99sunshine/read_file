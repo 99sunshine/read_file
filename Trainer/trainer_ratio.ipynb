{
 "cells": [
  {
   "cell_type": "code",
   "execution_count": 14,
   "metadata": {},
   "outputs": [],
   "source": [
    "import matplotlib.cm as cm\n",
    "import numpy as np\n",
    "import matplotlib.pyplot as plt\n",
    "import pandas as pd"
   ]
  },
  {
   "cell_type": "code",
   "execution_count": 19,
   "metadata": {},
   "outputs": [
    {
     "ename": "FileNotFoundError",
     "evalue": "[Errno 2] No such file or directory: 'trainer_table.xlsx'",
     "output_type": "error",
     "traceback": [
      "\u001b[0;31m---------------------------------------------------------------------------\u001b[0m",
      "\u001b[0;31mFileNotFoundError\u001b[0m                         Traceback (most recent call last)",
      "\u001b[0;32m<ipython-input-19-435ed46dd189>\u001b[0m in \u001b[0;36m<module>\u001b[0;34m\u001b[0m\n\u001b[0;32m----> 1\u001b[0;31m \u001b[0mdata_n\u001b[0m \u001b[0;34m=\u001b[0m \u001b[0mpd\u001b[0m\u001b[0;34m.\u001b[0m\u001b[0mread_excel\u001b[0m\u001b[0;34m(\u001b[0m\u001b[0;34m'trainer_table.xlsx'\u001b[0m\u001b[0;34m)\u001b[0m\u001b[0;34m\u001b[0m\u001b[0;34m\u001b[0m\u001b[0m\n\u001b[0m",
      "\u001b[0;32m~/anaconda3/lib/python3.7/site-packages/pandas/util/_decorators.py\u001b[0m in \u001b[0;36mwrapper\u001b[0;34m(*args, **kwargs)\u001b[0m\n\u001b[1;32m    176\u001b[0m                 \u001b[0;32melse\u001b[0m\u001b[0;34m:\u001b[0m\u001b[0;34m\u001b[0m\u001b[0;34m\u001b[0m\u001b[0m\n\u001b[1;32m    177\u001b[0m                     \u001b[0mkwargs\u001b[0m\u001b[0;34m[\u001b[0m\u001b[0mnew_arg_name\u001b[0m\u001b[0;34m]\u001b[0m \u001b[0;34m=\u001b[0m \u001b[0mnew_arg_value\u001b[0m\u001b[0;34m\u001b[0m\u001b[0;34m\u001b[0m\u001b[0m\n\u001b[0;32m--> 178\u001b[0;31m             \u001b[0;32mreturn\u001b[0m \u001b[0mfunc\u001b[0m\u001b[0;34m(\u001b[0m\u001b[0;34m*\u001b[0m\u001b[0margs\u001b[0m\u001b[0;34m,\u001b[0m \u001b[0;34m**\u001b[0m\u001b[0mkwargs\u001b[0m\u001b[0;34m)\u001b[0m\u001b[0;34m\u001b[0m\u001b[0;34m\u001b[0m\u001b[0m\n\u001b[0m\u001b[1;32m    179\u001b[0m         \u001b[0;32mreturn\u001b[0m \u001b[0mwrapper\u001b[0m\u001b[0;34m\u001b[0m\u001b[0;34m\u001b[0m\u001b[0m\n\u001b[1;32m    180\u001b[0m     \u001b[0;32mreturn\u001b[0m \u001b[0m_deprecate_kwarg\u001b[0m\u001b[0;34m\u001b[0m\u001b[0;34m\u001b[0m\u001b[0m\n",
      "\u001b[0;32m~/anaconda3/lib/python3.7/site-packages/pandas/util/_decorators.py\u001b[0m in \u001b[0;36mwrapper\u001b[0;34m(*args, **kwargs)\u001b[0m\n\u001b[1;32m    176\u001b[0m                 \u001b[0;32melse\u001b[0m\u001b[0;34m:\u001b[0m\u001b[0;34m\u001b[0m\u001b[0;34m\u001b[0m\u001b[0m\n\u001b[1;32m    177\u001b[0m                     \u001b[0mkwargs\u001b[0m\u001b[0;34m[\u001b[0m\u001b[0mnew_arg_name\u001b[0m\u001b[0;34m]\u001b[0m \u001b[0;34m=\u001b[0m \u001b[0mnew_arg_value\u001b[0m\u001b[0;34m\u001b[0m\u001b[0;34m\u001b[0m\u001b[0m\n\u001b[0;32m--> 178\u001b[0;31m             \u001b[0;32mreturn\u001b[0m \u001b[0mfunc\u001b[0m\u001b[0;34m(\u001b[0m\u001b[0;34m*\u001b[0m\u001b[0margs\u001b[0m\u001b[0;34m,\u001b[0m \u001b[0;34m**\u001b[0m\u001b[0mkwargs\u001b[0m\u001b[0;34m)\u001b[0m\u001b[0;34m\u001b[0m\u001b[0;34m\u001b[0m\u001b[0m\n\u001b[0m\u001b[1;32m    179\u001b[0m         \u001b[0;32mreturn\u001b[0m \u001b[0mwrapper\u001b[0m\u001b[0;34m\u001b[0m\u001b[0;34m\u001b[0m\u001b[0m\n\u001b[1;32m    180\u001b[0m     \u001b[0;32mreturn\u001b[0m \u001b[0m_deprecate_kwarg\u001b[0m\u001b[0;34m\u001b[0m\u001b[0;34m\u001b[0m\u001b[0m\n",
      "\u001b[0;32m~/anaconda3/lib/python3.7/site-packages/pandas/io/excel.py\u001b[0m in \u001b[0;36mread_excel\u001b[0;34m(io, sheet_name, header, names, index_col, usecols, squeeze, dtype, engine, converters, true_values, false_values, skiprows, nrows, na_values, parse_dates, date_parser, thousands, comment, skipfooter, convert_float, **kwds)\u001b[0m\n\u001b[1;32m    305\u001b[0m \u001b[0;34m\u001b[0m\u001b[0m\n\u001b[1;32m    306\u001b[0m     \u001b[0;32mif\u001b[0m \u001b[0;32mnot\u001b[0m \u001b[0misinstance\u001b[0m\u001b[0;34m(\u001b[0m\u001b[0mio\u001b[0m\u001b[0;34m,\u001b[0m \u001b[0mExcelFile\u001b[0m\u001b[0;34m)\u001b[0m\u001b[0;34m:\u001b[0m\u001b[0;34m\u001b[0m\u001b[0;34m\u001b[0m\u001b[0m\n\u001b[0;32m--> 307\u001b[0;31m         \u001b[0mio\u001b[0m \u001b[0;34m=\u001b[0m \u001b[0mExcelFile\u001b[0m\u001b[0;34m(\u001b[0m\u001b[0mio\u001b[0m\u001b[0;34m,\u001b[0m \u001b[0mengine\u001b[0m\u001b[0;34m=\u001b[0m\u001b[0mengine\u001b[0m\u001b[0;34m)\u001b[0m\u001b[0;34m\u001b[0m\u001b[0;34m\u001b[0m\u001b[0m\n\u001b[0m\u001b[1;32m    308\u001b[0m \u001b[0;34m\u001b[0m\u001b[0m\n\u001b[1;32m    309\u001b[0m     return io.parse(\n",
      "\u001b[0;32m~/anaconda3/lib/python3.7/site-packages/pandas/io/excel.py\u001b[0m in \u001b[0;36m__init__\u001b[0;34m(self, io, **kwds)\u001b[0m\n\u001b[1;32m    392\u001b[0m             \u001b[0mself\u001b[0m\u001b[0;34m.\u001b[0m\u001b[0mbook\u001b[0m \u001b[0;34m=\u001b[0m \u001b[0mxlrd\u001b[0m\u001b[0;34m.\u001b[0m\u001b[0mopen_workbook\u001b[0m\u001b[0;34m(\u001b[0m\u001b[0mfile_contents\u001b[0m\u001b[0;34m=\u001b[0m\u001b[0mdata\u001b[0m\u001b[0;34m)\u001b[0m\u001b[0;34m\u001b[0m\u001b[0;34m\u001b[0m\u001b[0m\n\u001b[1;32m    393\u001b[0m         \u001b[0;32melif\u001b[0m \u001b[0misinstance\u001b[0m\u001b[0;34m(\u001b[0m\u001b[0mself\u001b[0m\u001b[0;34m.\u001b[0m\u001b[0m_io\u001b[0m\u001b[0;34m,\u001b[0m \u001b[0mcompat\u001b[0m\u001b[0;34m.\u001b[0m\u001b[0mstring_types\u001b[0m\u001b[0;34m)\u001b[0m\u001b[0;34m:\u001b[0m\u001b[0;34m\u001b[0m\u001b[0;34m\u001b[0m\u001b[0m\n\u001b[0;32m--> 394\u001b[0;31m             \u001b[0mself\u001b[0m\u001b[0;34m.\u001b[0m\u001b[0mbook\u001b[0m \u001b[0;34m=\u001b[0m \u001b[0mxlrd\u001b[0m\u001b[0;34m.\u001b[0m\u001b[0mopen_workbook\u001b[0m\u001b[0;34m(\u001b[0m\u001b[0mself\u001b[0m\u001b[0;34m.\u001b[0m\u001b[0m_io\u001b[0m\u001b[0;34m)\u001b[0m\u001b[0;34m\u001b[0m\u001b[0;34m\u001b[0m\u001b[0m\n\u001b[0m\u001b[1;32m    395\u001b[0m         \u001b[0;32melse\u001b[0m\u001b[0;34m:\u001b[0m\u001b[0;34m\u001b[0m\u001b[0;34m\u001b[0m\u001b[0m\n\u001b[1;32m    396\u001b[0m             raise ValueError('Must explicitly set engine if not passing in'\n",
      "\u001b[0;32m~/anaconda3/lib/python3.7/site-packages/xlrd/__init__.py\u001b[0m in \u001b[0;36mopen_workbook\u001b[0;34m(filename, logfile, verbosity, use_mmap, file_contents, encoding_override, formatting_info, on_demand, ragged_rows)\u001b[0m\n\u001b[1;32m    109\u001b[0m     \u001b[0;32melse\u001b[0m\u001b[0;34m:\u001b[0m\u001b[0;34m\u001b[0m\u001b[0;34m\u001b[0m\u001b[0m\n\u001b[1;32m    110\u001b[0m         \u001b[0mfilename\u001b[0m \u001b[0;34m=\u001b[0m \u001b[0mos\u001b[0m\u001b[0;34m.\u001b[0m\u001b[0mpath\u001b[0m\u001b[0;34m.\u001b[0m\u001b[0mexpanduser\u001b[0m\u001b[0;34m(\u001b[0m\u001b[0mfilename\u001b[0m\u001b[0;34m)\u001b[0m\u001b[0;34m\u001b[0m\u001b[0;34m\u001b[0m\u001b[0m\n\u001b[0;32m--> 111\u001b[0;31m         \u001b[0;32mwith\u001b[0m \u001b[0mopen\u001b[0m\u001b[0;34m(\u001b[0m\u001b[0mfilename\u001b[0m\u001b[0;34m,\u001b[0m \u001b[0;34m\"rb\"\u001b[0m\u001b[0;34m)\u001b[0m \u001b[0;32mas\u001b[0m \u001b[0mf\u001b[0m\u001b[0;34m:\u001b[0m\u001b[0;34m\u001b[0m\u001b[0;34m\u001b[0m\u001b[0m\n\u001b[0m\u001b[1;32m    112\u001b[0m             \u001b[0mpeek\u001b[0m \u001b[0;34m=\u001b[0m \u001b[0mf\u001b[0m\u001b[0;34m.\u001b[0m\u001b[0mread\u001b[0m\u001b[0;34m(\u001b[0m\u001b[0mpeeksz\u001b[0m\u001b[0;34m)\u001b[0m\u001b[0;34m\u001b[0m\u001b[0;34m\u001b[0m\u001b[0m\n\u001b[1;32m    113\u001b[0m     \u001b[0;32mif\u001b[0m \u001b[0mpeek\u001b[0m \u001b[0;34m==\u001b[0m \u001b[0;34mb\"PK\\x03\\x04\"\u001b[0m\u001b[0;34m:\u001b[0m \u001b[0;31m# a ZIP file\u001b[0m\u001b[0;34m\u001b[0m\u001b[0;34m\u001b[0m\u001b[0m\n",
      "\u001b[0;31mFileNotFoundError\u001b[0m: [Errno 2] No such file or directory: 'trainer_table.xlsx'"
     ]
    }
   ],
   "source": [
    "data_n = pd.read_excel('trainer_table.xlsx')"
   ]
  },
  {
   "cell_type": "code",
   "execution_count": 3,
   "metadata": {},
   "outputs": [
    {
     "data": {
      "text/html": [
       "<div>\n",
       "<style scoped>\n",
       "    .dataframe tbody tr th:only-of-type {\n",
       "        vertical-align: middle;\n",
       "    }\n",
       "\n",
       "    .dataframe tbody tr th {\n",
       "        vertical-align: top;\n",
       "    }\n",
       "\n",
       "    .dataframe thead th {\n",
       "        text-align: right;\n",
       "    }\n",
       "</style>\n",
       "<table border=\"1\" class=\"dataframe\">\n",
       "  <thead>\n",
       "    <tr style=\"text-align: right;\">\n",
       "      <th></th>\n",
       "      <th>Ls</th>\n",
       "      <th>Sol</th>\n",
       "      <th>TID</th>\n",
       "      <th>Fp</th>\n",
       "      <th>CO2</th>\n",
       "      <th>CO2_err</th>\n",
       "      <th>Ar</th>\n",
       "      <th>Ar_err</th>\n",
       "      <th>N2</th>\n",
       "      <th>N2_err</th>\n",
       "      <th>O2</th>\n",
       "      <th>O2_err+</th>\n",
       "      <th>O2_err-</th>\n",
       "      <th>CO</th>\n",
       "      <th>CO_err</th>\n",
       "    </tr>\n",
       "  </thead>\n",
       "  <tbody>\n",
       "    <tr>\n",
       "      <th>0</th>\n",
       "      <td>175.59</td>\n",
       "      <td>45.95</td>\n",
       "      <td>25012</td>\n",
       "      <td>0.8952</td>\n",
       "      <td>0.948</td>\n",
       "      <td>0.001</td>\n",
       "      <td>0.0210</td>\n",
       "      <td>0.0004</td>\n",
       "      <td>0.0283</td>\n",
       "      <td>0.0009</td>\n",
       "      <td>0.00163</td>\n",
       "      <td>0.00015</td>\n",
       "      <td>0.00016</td>\n",
       "      <td>0.000813</td>\n",
       "      <td>0.00005</td>\n",
       "    </tr>\n",
       "    <tr>\n",
       "      <th>1</th>\n",
       "      <td>194.36</td>\n",
       "      <td>77.91</td>\n",
       "      <td>25027</td>\n",
       "      <td>0.9324</td>\n",
       "      <td>0.949</td>\n",
       "      <td>0.001</td>\n",
       "      <td>0.0207</td>\n",
       "      <td>0.0003</td>\n",
       "      <td>0.0277</td>\n",
       "      <td>0.0006</td>\n",
       "      <td>0.00176</td>\n",
       "      <td>0.00005</td>\n",
       "      <td>0.00004</td>\n",
       "      <td>0.000721</td>\n",
       "      <td>0.00006</td>\n",
       "    </tr>\n",
       "    <tr>\n",
       "      <th>2</th>\n",
       "      <td>320.79</td>\n",
       "      <td>278.58</td>\n",
       "      <td>25084</td>\n",
       "      <td>1.0107</td>\n",
       "      <td>0.954</td>\n",
       "      <td>0.001</td>\n",
       "      <td>0.0187</td>\n",
       "      <td>0.0003</td>\n",
       "      <td>0.0255</td>\n",
       "      <td>0.0006</td>\n",
       "      <td>0.00134</td>\n",
       "      <td>0.00005</td>\n",
       "      <td>0.00002</td>\n",
       "      <td>0.000623</td>\n",
       "      <td>0.00003</td>\n",
       "    </tr>\n",
       "    <tr>\n",
       "      <th>3</th>\n",
       "      <td>324.50</td>\n",
       "      <td>284.99</td>\n",
       "      <td>25088</td>\n",
       "      <td>1.0106</td>\n",
       "      <td>0.954</td>\n",
       "      <td>0.001</td>\n",
       "      <td>0.0188</td>\n",
       "      <td>0.0003</td>\n",
       "      <td>0.0253</td>\n",
       "      <td>0.0006</td>\n",
       "      <td>0.00128</td>\n",
       "      <td>0.00012</td>\n",
       "      <td>0.00005</td>\n",
       "      <td>0.000559</td>\n",
       "      <td>0.00002</td>\n",
       "    </tr>\n",
       "    <tr>\n",
       "      <th>4</th>\n",
       "      <td>328.58</td>\n",
       "      <td>292.13</td>\n",
       "      <td>25095</td>\n",
       "      <td>1.0052</td>\n",
       "      <td>0.954</td>\n",
       "      <td>0.001</td>\n",
       "      <td>0.0192</td>\n",
       "      <td>0.0003</td>\n",
       "      <td>0.0250</td>\n",
       "      <td>0.0006</td>\n",
       "      <td>0.00129</td>\n",
       "      <td>0.00005</td>\n",
       "      <td>0.00007</td>\n",
       "      <td>0.000536</td>\n",
       "      <td>0.00009</td>\n",
       "    </tr>\n",
       "    <tr>\n",
       "      <th>5</th>\n",
       "      <td>344.94</td>\n",
       "      <td>321.70</td>\n",
       "      <td>25106</td>\n",
       "      <td>0.9949</td>\n",
       "      <td>0.952</td>\n",
       "      <td>0.001</td>\n",
       "      <td>0.0195</td>\n",
       "      <td>0.0003</td>\n",
       "      <td>0.0264</td>\n",
       "      <td>0.0006</td>\n",
       "      <td>0.00153</td>\n",
       "      <td>0.00003</td>\n",
       "      <td>0.00014</td>\n",
       "      <td>0.000570</td>\n",
       "      <td>0.00003</td>\n",
       "    </tr>\n",
       "    <tr>\n",
       "      <th>6</th>\n",
       "      <td>40.91</td>\n",
       "      <td>434.91</td>\n",
       "      <td>25150</td>\n",
       "      <td>1.0573</td>\n",
       "      <td>0.954</td>\n",
       "      <td>0.001</td>\n",
       "      <td>0.0192</td>\n",
       "      <td>0.0003</td>\n",
       "      <td>0.0253</td>\n",
       "      <td>0.0006</td>\n",
       "      <td>0.00137</td>\n",
       "      <td>0.00004</td>\n",
       "      <td>0.00012</td>\n",
       "      <td>0.000449</td>\n",
       "      <td>0.00003</td>\n",
       "    </tr>\n",
       "    <tr>\n",
       "      <th>7</th>\n",
       "      <td>87.89</td>\n",
       "      <td>538.97</td>\n",
       "      <td>25172</td>\n",
       "      <td>1.0208</td>\n",
       "      <td>0.954</td>\n",
       "      <td>0.001</td>\n",
       "      <td>0.0192</td>\n",
       "      <td>0.0003</td>\n",
       "      <td>0.0251</td>\n",
       "      <td>0.0006</td>\n",
       "      <td>0.00165</td>\n",
       "      <td>0.00004</td>\n",
       "      <td>0.00009</td>\n",
       "      <td>0.000423</td>\n",
       "      <td>0.00002</td>\n",
       "    </tr>\n",
       "    <tr>\n",
       "      <th>8</th>\n",
       "      <td>134.69</td>\n",
       "      <td>638.08</td>\n",
       "      <td>25195</td>\n",
       "      <td>0.8900</td>\n",
       "      <td>0.951</td>\n",
       "      <td>0.001</td>\n",
       "      <td>0.0200</td>\n",
       "      <td>0.0004</td>\n",
       "      <td>0.0262</td>\n",
       "      <td>0.0006</td>\n",
       "      <td>0.00175</td>\n",
       "      <td>0.00004</td>\n",
       "      <td>0.00016</td>\n",
       "      <td>0.000461</td>\n",
       "      <td>0.00012</td>\n",
       "    </tr>\n",
       "    <tr>\n",
       "      <th>9</th>\n",
       "      <td>198.87</td>\n",
       "      <td>753.97</td>\n",
       "      <td>25217</td>\n",
       "      <td>0.9479</td>\n",
       "      <td>0.949</td>\n",
       "      <td>0.001</td>\n",
       "      <td>0.0211</td>\n",
       "      <td>0.0004</td>\n",
       "      <td>0.0279</td>\n",
       "      <td>0.0006</td>\n",
       "      <td>0.00180</td>\n",
       "      <td>0.00005</td>\n",
       "      <td>0.00003</td>\n",
       "      <td>0.000636</td>\n",
       "      <td>0.00003</td>\n",
       "    </tr>\n",
       "    <tr>\n",
       "      <th>10</th>\n",
       "      <td>247.85</td>\n",
       "      <td>830.91</td>\n",
       "      <td>25232</td>\n",
       "      <td>1.0811</td>\n",
       "      <td>0.954</td>\n",
       "      <td>0.001</td>\n",
       "      <td>0.0185</td>\n",
       "      <td>0.0003</td>\n",
       "      <td>0.0253</td>\n",
       "      <td>0.0006</td>\n",
       "      <td>0.00158</td>\n",
       "      <td>0.00008</td>\n",
       "      <td>0.00004</td>\n",
       "      <td>0.000729</td>\n",
       "      <td>0.00003</td>\n",
       "    </tr>\n",
       "    <tr>\n",
       "      <th>11</th>\n",
       "      <td>60.23</td>\n",
       "      <td>1145.99</td>\n",
       "      <td>25301</td>\n",
       "      <td>1.0677</td>\n",
       "      <td>0.952</td>\n",
       "      <td>0.001</td>\n",
       "      <td>0.0192</td>\n",
       "      <td>0.0003</td>\n",
       "      <td>0.0258</td>\n",
       "      <td>0.0006</td>\n",
       "      <td>0.00174</td>\n",
       "      <td>0.00004</td>\n",
       "      <td>0.00004</td>\n",
       "      <td>0.000000</td>\n",
       "      <td>0.00000</td>\n",
       "    </tr>\n",
       "    <tr>\n",
       "      <th>12</th>\n",
       "      <td>108.30</td>\n",
       "      <td>1252.02</td>\n",
       "      <td>25337</td>\n",
       "      <td>0.9590</td>\n",
       "      <td>0.952</td>\n",
       "      <td>0.001</td>\n",
       "      <td>0.0195</td>\n",
       "      <td>0.0003</td>\n",
       "      <td>0.0255</td>\n",
       "      <td>0.0006</td>\n",
       "      <td>0.00194</td>\n",
       "      <td>0.00004</td>\n",
       "      <td>0.00004</td>\n",
       "      <td>0.000000</td>\n",
       "      <td>0.00000</td>\n",
       "    </tr>\n",
       "    <tr>\n",
       "      <th>13</th>\n",
       "      <td>141.28</td>\n",
       "      <td>1319.68</td>\n",
       "      <td>25343</td>\n",
       "      <td>0.8835</td>\n",
       "      <td>0.948</td>\n",
       "      <td>0.001</td>\n",
       "      <td>0.0206</td>\n",
       "      <td>0.0004</td>\n",
       "      <td>0.0278</td>\n",
       "      <td>0.0009</td>\n",
       "      <td>0.00216</td>\n",
       "      <td>0.00005</td>\n",
       "      <td>0.00005</td>\n",
       "      <td>0.000000</td>\n",
       "      <td>0.00000</td>\n",
       "    </tr>\n",
       "    <tr>\n",
       "      <th>14</th>\n",
       "      <td>161.02</td>\n",
       "      <td>1357.07</td>\n",
       "      <td>25346</td>\n",
       "      <td>0.8761</td>\n",
       "      <td>0.945</td>\n",
       "      <td>0.001</td>\n",
       "      <td>0.0226</td>\n",
       "      <td>0.0004</td>\n",
       "      <td>0.0293</td>\n",
       "      <td>0.0009</td>\n",
       "      <td>0.00193</td>\n",
       "      <td>0.00034</td>\n",
       "      <td>0.00016</td>\n",
       "      <td>0.000000</td>\n",
       "      <td>0.00000</td>\n",
       "    </tr>\n",
       "    <tr>\n",
       "      <th>15</th>\n",
       "      <td>220.39</td>\n",
       "      <td>1457.07</td>\n",
       "      <td>25372</td>\n",
       "      <td>1.0192</td>\n",
       "      <td>0.949</td>\n",
       "      <td>0.001</td>\n",
       "      <td>0.0208</td>\n",
       "      <td>0.0004</td>\n",
       "      <td>0.0272</td>\n",
       "      <td>0.0009</td>\n",
       "      <td>0.00159</td>\n",
       "      <td>0.00019</td>\n",
       "      <td>0.00004</td>\n",
       "      <td>0.000000</td>\n",
       "      <td>0.00000</td>\n",
       "    </tr>\n",
       "    <tr>\n",
       "      <th>16</th>\n",
       "      <td>311.55</td>\n",
       "      <td>1600.07</td>\n",
       "      <td>25395</td>\n",
       "      <td>1.0215</td>\n",
       "      <td>0.954</td>\n",
       "      <td>0.001</td>\n",
       "      <td>0.0186</td>\n",
       "      <td>0.0004</td>\n",
       "      <td>0.0250</td>\n",
       "      <td>0.0008</td>\n",
       "      <td>0.00164</td>\n",
       "      <td>0.00004</td>\n",
       "      <td>0.00024</td>\n",
       "      <td>0.000000</td>\n",
       "      <td>0.00000</td>\n",
       "    </tr>\n",
       "    <tr>\n",
       "      <th>17</th>\n",
       "      <td>11.86</td>\n",
       "      <td>1711.06</td>\n",
       "      <td>25409</td>\n",
       "      <td>1.0202</td>\n",
       "      <td>0.951</td>\n",
       "      <td>0.001</td>\n",
       "      <td>0.0198</td>\n",
       "      <td>0.0004</td>\n",
       "      <td>0.0264</td>\n",
       "      <td>0.0008</td>\n",
       "      <td>0.00159</td>\n",
       "      <td>0.00004</td>\n",
       "      <td>0.00004</td>\n",
       "      <td>0.000000</td>\n",
       "      <td>0.00000</td>\n",
       "    </tr>\n",
       "    <tr>\n",
       "      <th>18</th>\n",
       "      <td>84.70</td>\n",
       "      <td>1869.07</td>\n",
       "      <td>25440</td>\n",
       "      <td>1.0316</td>\n",
       "      <td>0.953</td>\n",
       "      <td>0.001</td>\n",
       "      <td>0.0190</td>\n",
       "      <td>0.0004</td>\n",
       "      <td>0.0250</td>\n",
       "      <td>0.0008</td>\n",
       "      <td>0.00171</td>\n",
       "      <td>0.00010</td>\n",
       "      <td>0.00022</td>\n",
       "      <td>0.000000</td>\n",
       "      <td>0.00000</td>\n",
       "    </tr>\n",
       "  </tbody>\n",
       "</table>\n",
       "</div>"
      ],
      "text/plain": [
       "        Ls      Sol    TID      Fp    CO2  CO2_err      Ar  Ar_err      N2  \\\n",
       "0   175.59    45.95  25012  0.8952  0.948    0.001  0.0210  0.0004  0.0283   \n",
       "1   194.36    77.91  25027  0.9324  0.949    0.001  0.0207  0.0003  0.0277   \n",
       "2   320.79   278.58  25084  1.0107  0.954    0.001  0.0187  0.0003  0.0255   \n",
       "3   324.50   284.99  25088  1.0106  0.954    0.001  0.0188  0.0003  0.0253   \n",
       "4   328.58   292.13  25095  1.0052  0.954    0.001  0.0192  0.0003  0.0250   \n",
       "5   344.94   321.70  25106  0.9949  0.952    0.001  0.0195  0.0003  0.0264   \n",
       "6    40.91   434.91  25150  1.0573  0.954    0.001  0.0192  0.0003  0.0253   \n",
       "7    87.89   538.97  25172  1.0208  0.954    0.001  0.0192  0.0003  0.0251   \n",
       "8   134.69   638.08  25195  0.8900  0.951    0.001  0.0200  0.0004  0.0262   \n",
       "9   198.87   753.97  25217  0.9479  0.949    0.001  0.0211  0.0004  0.0279   \n",
       "10  247.85   830.91  25232  1.0811  0.954    0.001  0.0185  0.0003  0.0253   \n",
       "11   60.23  1145.99  25301  1.0677  0.952    0.001  0.0192  0.0003  0.0258   \n",
       "12  108.30  1252.02  25337  0.9590  0.952    0.001  0.0195  0.0003  0.0255   \n",
       "13  141.28  1319.68  25343  0.8835  0.948    0.001  0.0206  0.0004  0.0278   \n",
       "14  161.02  1357.07  25346  0.8761  0.945    0.001  0.0226  0.0004  0.0293   \n",
       "15  220.39  1457.07  25372  1.0192  0.949    0.001  0.0208  0.0004  0.0272   \n",
       "16  311.55  1600.07  25395  1.0215  0.954    0.001  0.0186  0.0004  0.0250   \n",
       "17   11.86  1711.06  25409  1.0202  0.951    0.001  0.0198  0.0004  0.0264   \n",
       "18   84.70  1869.07  25440  1.0316  0.953    0.001  0.0190  0.0004  0.0250   \n",
       "\n",
       "    N2_err       O2  O2_err+  O2_err-        CO   CO_err  \n",
       "0   0.0009  0.00163  0.00015  0.00016  0.000813  0.00005  \n",
       "1   0.0006  0.00176  0.00005  0.00004  0.000721  0.00006  \n",
       "2   0.0006  0.00134  0.00005  0.00002  0.000623  0.00003  \n",
       "3   0.0006  0.00128  0.00012  0.00005  0.000559  0.00002  \n",
       "4   0.0006  0.00129  0.00005  0.00007  0.000536  0.00009  \n",
       "5   0.0006  0.00153  0.00003  0.00014  0.000570  0.00003  \n",
       "6   0.0006  0.00137  0.00004  0.00012  0.000449  0.00003  \n",
       "7   0.0006  0.00165  0.00004  0.00009  0.000423  0.00002  \n",
       "8   0.0006  0.00175  0.00004  0.00016  0.000461  0.00012  \n",
       "9   0.0006  0.00180  0.00005  0.00003  0.000636  0.00003  \n",
       "10  0.0006  0.00158  0.00008  0.00004  0.000729  0.00003  \n",
       "11  0.0006  0.00174  0.00004  0.00004  0.000000  0.00000  \n",
       "12  0.0006  0.00194  0.00004  0.00004  0.000000  0.00000  \n",
       "13  0.0009  0.00216  0.00005  0.00005  0.000000  0.00000  \n",
       "14  0.0009  0.00193  0.00034  0.00016  0.000000  0.00000  \n",
       "15  0.0009  0.00159  0.00019  0.00004  0.000000  0.00000  \n",
       "16  0.0008  0.00164  0.00004  0.00024  0.000000  0.00000  \n",
       "17  0.0008  0.00159  0.00004  0.00004  0.000000  0.00000  \n",
       "18  0.0008  0.00171  0.00010  0.00022  0.000000  0.00000  "
      ]
     },
     "execution_count": 3,
     "metadata": {},
     "output_type": "execute_result"
    }
   ],
   "source": [
    "data"
   ]
  },
  {
   "cell_type": "code",
   "execution_count": 3,
   "metadata": {},
   "outputs": [],
   "source": [
    "x = [row[0] for (index, row) in data.iterrows()]"
   ]
  },
  {
   "cell_type": "code",
   "execution_count": 4,
   "metadata": {},
   "outputs": [],
   "source": [
    "CO2 = [row[4] for (index, row) in data.iterrows()]\n",
    "CO2_std = [row[5] for (index, row) in data.iterrows()]\n",
    "\n",
    "Ar = [row[6] for (index, row) in data.iterrows()]\n",
    "Ar_std = [row[7] for (index, row) in data.iterrows()]\n",
    "\n",
    "N2 = [row[8] for (index, row) in data.iterrows()]\n",
    "N2_std = [row[9] for (index, row) in data.iterrows()]\n",
    "\n",
    "O2 = [row[10] for (index, row) in data.iterrows()]\n",
    "O2_std_plus = [row[11] for (index, row) in data.iterrows()]\n",
    "O2_std_minus = [row[12] for (index, row) in data.iterrows()]\n",
    "\n",
    "CO = [row[13] for (index, row) in data.iterrows()]\n",
    "CO_std = [row[14] for (index, row) in data.iterrows()]"
   ]
  },
  {
   "cell_type": "code",
   "execution_count": 5,
   "metadata": {},
   "outputs": [],
   "source": [
    "# get the extended arr incuding all the info: x, y and std\n",
    "ex_x = [e + 360 for e in x]\n",
    "ex_CO2_arr = [e for e in zip(ex_x, CO2, CO2_std) if e[0] <= 540]\n",
    "ex_Ar_arr = [e for e in zip(ex_x, Ar, Ar_std) if e[0] <= 540]\n",
    "ex_N2_arr = [e for e in zip(ex_x, N2, N2_std) if e[0] <= 540]\n",
    "ex_O2_arr = [e for e in zip(ex_x, O2, O2_std_plus, O2_std_minus) if e[0] <= 540]\n",
    "ex_CO_arr = [e for e in zip(ex_x, CO, CO_std) if e[0] <= 540]"
   ]
  },
  {
   "cell_type": "code",
   "execution_count": 7,
   "metadata": {},
   "outputs": [],
   "source": [
    "n_ex_x = [e[0] for e in ex_CO2_arr]\n",
    "ex_CO2 = [e[1] for e in ex_CO2_arr]\n",
    "ex_Ar = [e[1] for e in ex_Ar_arr]\n",
    "ex_N2 = [e[1] for e in ex_N2_arr]\n",
    "ex_O2 = [e[1] for e in ex_O2_arr]\n",
    "ex_CO = [e[1] for e in ex_CO_arr]\n",
    "\n",
    "ex_CO2_std = [e[2] for e in ex_CO2_arr]\n",
    "ex_Ar_std = [e[2] for e in ex_Ar_arr]\n",
    "ex_N2_std = [e[2] for e in ex_N2_arr]\n",
    "ex_O2_std_plus = [e[2] for e in ex_O2_arr]\n",
    "ex_O2_std_minus = [e[3] for e in ex_O2_arr]\n",
    "ex_CO_std = [e[2] for e in ex_CO_arr]"
   ]
  },
  {
   "cell_type": "code",
   "execution_count": 8,
   "metadata": {},
   "outputs": [],
   "source": [
    "n_x = x + n_ex_x # x\n",
    "n_CO2 = CO2 + ex_CO2\n",
    "n_Ar = Ar + ex_Ar\n",
    "n_N2 = N2 + ex_N2\n",
    "n_O2 = O2 + ex_O2\n",
    "n_CO = CO + ex_CO\n",
    "# ex std\n",
    "n_CO2_std = CO2_std + ex_CO2_std\n",
    "n_Ar_std = Ar_std + ex_Ar_std\n",
    "n_N2_std = N2_std + ex_N2_std\n",
    "n_O2_std_plus = O2_std_plus + ex_O2_std_plus\n",
    "n_O2_std_minus = O2_std_minus + ex_O2_std_minus\n",
    "n_CO_std = CO_std + ex_CO_std"
   ]
  },
  {
   "cell_type": "markdown",
   "metadata": {},
   "source": [
    "## N2 / Ar"
   ]
  },
  {
   "cell_type": "code",
   "execution_count": 9,
   "metadata": {},
   "outputs": [],
   "source": [
    "N2_ratio = np.divide(n_N2, n_Ar)"
   ]
  },
  {
   "cell_type": "code",
   "execution_count": 110,
   "metadata": {},
   "outputs": [
    {
     "data": {
      "image/png": "[encoded data removed]",
      "text/plain": [
       "<Figure size 432x360 with 1 Axes>"
      ]
     },
     "metadata": {
      "needs_background": "light"
     },
     "output_type": "display_data"
    }
   ],
   "source": [
    "fig, axs = plt.subplots(1, 1, figsize=(6,5))\n",
    "# Remove horizontal space between axes\n",
    "fig.subplots_adjust(hspace=0)\n",
    "\n",
    "axs.scatter(n_x, N2_ratio, c = 'green')\n",
    "axs.set_ylim(1.2, 1.45)\n",
    "#axs.set_yticks([0, 0.1, 0.2, 0.3, 0.4, 0.5, 0.6, 0.7, 0.8, 0.9, 1, 1.1, 1.2, 1.3, 1.4])\n",
    "#axs.set_yticklabels(['0','', '0.02', '', '0.04', '', '0.06', '', '0.08', '', '0.10', '', '0.12', '','0.14'], fontsize = 13)\n",
    "\n",
    "\n",
    "#grid\n",
    "axs.xaxis.grid(True)\n",
    "axs.yaxis.grid(True)\n",
    "\n",
    "#set up xsticks & their labels\n",
    "axs.set_xticks(ls_sticks)\n",
    "axs.set_xticklabels(n_x_label, fontsize = 14)\n",
    "\n",
    "#fig.legend(loc = 0, fontsize = 14)\n",
    "\n",
    "plt.xlabel('Ls', fontsize = 18)\n",
    "axs.set_ylabel('N\\N{SUBSCRIPT TWO} / Ar Ratio', labelpad = 20, fontsize = 16)\n",
    "\n",
    "plt.show()\n"
   ]
  },
  {
   "cell_type": "markdown",
   "metadata": {},
   "source": [
    "### O2 / Ar"
   ]
  },
  {
   "cell_type": "code",
   "execution_count": 11,
   "metadata": {},
   "outputs": [],
   "source": [
    "O2_ratio = np.divide(n_O2, n_Ar)"
   ]
  },
  {
   "cell_type": "code",
   "execution_count": 142,
   "metadata": {},
   "outputs": [
    {
     "data": {
      "image/png": "[encoded data removed]",
      "text/plain": [
       "<Figure size 432x288 with 1 Axes>"
      ]
     },
     "metadata": {
      "needs_background": "light"
     },
     "output_type": "display_data"
    }
   ],
   "source": [
    "fig, axs = plt.subplots(1, 1, figsize=(6,4))\n",
    "# Remove horizontal space between axes\n",
    "fig.subplots_adjust(hspace=0)\n",
    "\n",
    "axs.scatter(n_x, O2_ratio)\n",
    "axs.set_ylim(0.01, 0.14)\n",
    "#axs.set_yticks([0, 0.01, 0.02, 0.03, 0.04, 0.05, 0.06, 0.07, 0.08, 0.09, 0.1, 0.11, 0.12, 0.13, 0.14])\n",
    "#axs.set_yticklabels(['0','', '0.02', '', '0.04', '', '0.06', '', '0.08', '', '0.10', '', '0.12', '','0.14'], fontsize = 13)\n",
    "\n",
    "\n",
    "#grid\n",
    "axs.xaxis.grid(True)\n",
    "axs.yaxis.grid(True)\n",
    "\n",
    "#set up xsticks & their labels\n",
    "axs.set_xticks(ls_sticks)\n",
    "axs.set_xticklabels(n_x_label, fontsize = 14)\n",
    "\n",
    "#fig.legend(loc = 0, fontsize = 14)\n",
    "\n",
    "plt.xlabel('Ls', fontsize = 18)\n",
    "axs.set_ylabel('O\\N{SUBSCRIPT TWO} / Ar Ratio', labelpad = 20, fontsize = 16)\n",
    "\n",
    "plt.show()"
   ]
  },
  {
   "cell_type": "code",
   "execution_count": 362,
   "metadata": {},
   "outputs": [
    {
     "data": {
      "text/plain": [
       "array([0.91804378, 1.00562811, 0.84753623, 0.80528054, 0.79466405,\n",
       "       0.92800839, 0.84394554, 1.01643076, 1.03491132, 1.00898598,\n",
       "       1.01013738, 1.07187243, 1.17669038, 1.24017112, 1.01005251,\n",
       "       0.90412582, 1.04285994, 0.94978874, 1.06448021, 0.91804378,\n",
       "       0.84394554, 1.01643076, 1.03491132, 1.07187243, 1.17669038,\n",
       "       1.24017112, 1.01005251, 0.94978874, 1.06448021])"
      ]
     },
     "execution_count": 362,
     "metadata": {},
     "output_type": "execute_result"
    }
   ],
   "source": [
    "O2_divided_ratio = np.divide(O2_ratio, O2_ratio_ave)\n",
    "O2_divided_ratio"
   ]
  },
  {
   "cell_type": "code",
   "execution_count": 359,
   "metadata": {},
   "outputs": [
    {
     "data": {
      "text/plain": [
       "array([1.01499968, 1.00787852, 1.02706361, 1.01358795, 0.9807031 ,\n",
       "       1.01968982, 0.99247153, 0.98462591, 0.98666577, 0.99591097,\n",
       "       1.03002451, 1.01208559, 0.98492766, 1.01642735, 0.97646785,\n",
       "       0.98492766, 1.01233868, 1.00423997, 0.99102629, 1.01499968,\n",
       "       0.99247153, 0.98462591, 0.98666577, 1.01208559, 0.98492766,\n",
       "       1.01642735, 0.97646785, 1.00423997, 0.99102629])"
      ]
     },
     "execution_count": 359,
     "metadata": {},
     "output_type": "execute_result"
    }
   ],
   "source": [
    "N2_divided_ratio = np.divide(N2_ratio, N2_ratio_ave)\n",
    "N2_divided_ratio"
   ]
  },
  {
   "cell_type": "code",
   "execution_count": 367,
   "metadata": {},
   "outputs": [
    {
     "data": {
      "text/plain": [
       "<matplotlib.collections.PathCollection at 0x11f73e0b8>"
      ]
     },
     "execution_count": 367,
     "metadata": {},
     "output_type": "execute_result"
    },
    {
     "data": {
      "image/png": "[encoded data removed]",
      "text/plain": [
       "<Figure size 432x288 with 1 Axes>"
      ]
     },
     "metadata": {
      "needs_background": "light"
     },
     "output_type": "display_data"
    }
   ],
   "source": [
    "plt.scatter(n_x, N2_divided_ratio)\n",
    "plt.scatter(n_x, O2_divided_ratio)"
   ]
  },
  {
   "cell_type": "code",
   "execution_count": 424,
   "metadata": {},
   "outputs": [
    {
     "data": {
      "image/png": "[encoded data removed]",
      "text/plain": [
       "<Figure size 504x360 with 1 Axes>"
      ]
     },
     "metadata": {
      "needs_background": "light"
     },
     "output_type": "display_data"
    }
   ],
   "source": [
    "fig, axs = plt.subplots(1, 1, figsize= (7,5))\n",
    "# Remove horizontal space between axes\n",
    "fig.subplots_adjust(hspace=0)\n",
    "\n",
    "axs.scatter(n_x, N2_divided_ratio, c = 'g', marker = '*', label = 'N\\N{SUBSCRIPT TWO} / Ar')\n",
    "#axs[0].set_ylim(1.2, 1.46)\n",
    "#axs.set_yticks([0, 0.1, 0.2, 0.3, 0.4, 0.5, 0.6, 0.7, 0.8, 0.9, 1, 1.1, 1.2, 1.3, 1.4])\n",
    "#axs.set_yticklabels(['0','', '0.02', '', '0.04', '', '0.06', '', '0.08', '', '0.10', '', '0.12', '','0.14'], fontsize = 13)\n",
    "\n",
    "axs.scatter(n_x, O2_divided_ratio, c = 'orange', marker = 'o', label = 'O\\N{SUBSCRIPT TWO} / Ar')\n",
    "axs.set_ylim(0.5, 1.4)\n",
    "axs.set_yticks([0.5, 0.6, 0.7, 0.8, 0.9, 1, 1.1, 1.2, 1.3, 1.4])\n",
    "axs.set_yticklabels(['', '0.6', '', '0.8', '', '1.0', '', '1.2', '','1.4'], fontsize = 14)\n",
    "\n",
    "#grid\n",
    "axs.xaxis.grid(True)\n",
    "axs.yaxis.grid(True)\n",
    "\n",
    "#set up xsticks & their labels\n",
    "axs.set_xticks(ls_sticks)\n",
    "axs.set_xticklabels(n_x_label, fontsize = 14)\n",
    "\n",
    "#plt.legend(facecolor='white', framealpha=1)\n",
    "fig.legend(loc = 0, facecolor='white', framealpha=1, fontsize = 14)\n",
    "\n",
    "plt.xlabel('Ls', labelpad = 10, fontsize = 16)\n",
    "#axs[0].set_ylabel('N\\N{SUBSCRIPT TWO} / Ar Ratio', labelpad = 20, fontsize = 16)\n",
    "#axs[1].set_ylabel('O\\N{SUBSCRIPT TWO} / Ar Ratio', labelpad = 20, fontsize = 16)\n",
    "plt.ylabel('Volume Mixing Ratios', labelpad = 20, fontsize = 16)\n",
    "plt.show()\n"
   ]
  },
  {
   "cell_type": "code",
   "execution_count": 356,
   "metadata": {},
   "outputs": [
    {
     "data": {
      "image/png": "[encoded data removed]",
      "text/plain": [
       "<Figure size 576x504 with 2 Axes>"
      ]
     },
     "metadata": {
      "needs_background": "light"
     },
     "output_type": "display_data"
    }
   ],
   "source": [
    "fig, axs = plt.subplots(2, 1, sharex=True, figsize=(8,7))\n",
    "# Remove horizontal space between axes\n",
    "fig.subplots_adjust(hspace=0)\n",
    "\n",
    "axs[0].scatter(n_x, N2_ratio,  c = 'orange', label = 'N\\N{SUBSCRIPT TWO} / Ar')\n",
    "axs[0].set_ylim(1.2, 1.46)\n",
    "#axs.set_yticks([0, 0.1, 0.2, 0.3, 0.4, 0.5, 0.6, 0.7, 0.8, 0.9, 1, 1.1, 1.2, 1.3, 1.4])\n",
    "#axs.set_yticklabels(['0','', '0.02', '', '0.04', '', '0.06', '', '0.08', '', '0.10', '', '0.12', '','0.14'], fontsize = 13)\n",
    "\n",
    "axs[1].scatter(n_x, O2_ratio, c = 'green', label = 'O\\N{SUBSCRIPT TWO} / Ar')\n",
    "axs[1].set_ylim(0.01, 0.14)\n",
    "\n",
    "#remove spine\n",
    "axs[0].spines['bottom'].set_visible(False)\n",
    "axs[1].spines['top'].set_visible(False) \n",
    "\n",
    "# move the y (left) spine upward - create space between plots\n",
    "pos0 = axs[0].get_position() # get the original position \n",
    "n_pos_0 = [pos0.x0, pos0.y0 + 0.05,  pos0.width, pos0.height] \n",
    "axs[0].set_position(n_pos_0) # set a new position\n",
    "\n",
    "#grid\n",
    "axs[0].xaxis.grid(True)\n",
    "axs[1].xaxis.grid(True)\n",
    "\n",
    "#set up xsticks & their labels\n",
    "axs[1].set_xticks(ls_sticks)\n",
    "axs[1].set_xticklabels(n_x_label, fontsize = 14)\n",
    "\n",
    "#plt.legend(facecolor='white', framealpha=1)\n",
    "fig.legend(bbox_to_anchor=(0.9, 0.9), facecolor='white', framealpha=1, fontsize = 14)\n",
    "\n",
    "plt.xlabel('Ls', fontsize = 18)\n",
    "axs[0].set_ylabel('N\\N{SUBSCRIPT TWO} / Ar Ratio', labelpad = 20, fontsize = 16)\n",
    "axs[1].set_ylabel('O\\N{SUBSCRIPT TWO} / Ar Ratio', labelpad = 20, fontsize = 16)\n",
    "\n",
    "plt.show()\n"
   ]
  },
  {
   "cell_type": "markdown",
   "metadata": {},
   "source": [
    "## ave ratios"
   ]
  },
  {
   "cell_type": "code",
   "execution_count": 152,
   "metadata": {},
   "outputs": [],
   "source": [
    "O2_ratio_ave = np.mean(O2_ratio)\n",
    "N2_ratio_ave = np.mean(N2_ratio)"
   ]
  },
  {
   "cell_type": "code",
   "execution_count": 157,
   "metadata": {},
   "outputs": [
    {
     "data": {
      "text/plain": [
       "0.08454830733165533"
      ]
     },
     "execution_count": 157,
     "metadata": {},
     "output_type": "execute_result"
    }
   ],
   "source": [
    "O2_ratio_ave"
   ]
  },
  {
   "cell_type": "markdown",
   "metadata": {},
   "source": [
    "### * divide all by the O2 ave ratio"
   ]
  },
  {
   "cell_type": "code",
   "execution_count": 166,
   "metadata": {},
   "outputs": [],
   "source": [
    "o2_CO2 = [e / O2_ratio_ave for e in n_CO2]\n",
    "o2_Ar = [e / O2_ratio_ave for e in n_Ar]\n",
    "o2_N2 = [e / O2_ratio_ave for e in n_N2]\n",
    "o2_O2 = [e / O2_ratio_ave for e in n_O2]\n",
    "o2_CO = [e / O2_ratio_ave for e in n_CO]"
   ]
  },
  {
   "cell_type": "code",
   "execution_count": 233,
   "metadata": {},
   "outputs": [
    {
     "data": {
      "text/plain": [
       "[0.009615804569698447,\n",
       " 0.008527669243238105,\n",
       " 0.007368568569399916,\n",
       " 0.006611604864036201,\n",
       " 0.006339571032421117,\n",
       " 0.00674170800089559,\n",
       " 0.0053105734954423155,\n",
       " 0.005003056990138306,\n",
       " 0.005452504190198012,\n",
       " 0.007522326822051921,\n",
       " 0.00862228970640857,\n",
       " 0.0,\n",
       " 0.0,\n",
       " 0.0,\n",
       " 0.0,\n",
       " 0.0,\n",
       " 0.0,\n",
       " 0.0,\n",
       " 0.0,\n",
       " 0.009615804569698447,\n",
       " 0.0053105734954423155,\n",
       " 0.005003056990138306,\n",
       " 0.005452504190198012,\n",
       " 0.0,\n",
       " 0.0,\n",
       " 0.0,\n",
       " 0.0,\n",
       " 0.0,\n",
       " 0.0]"
      ]
     },
     "execution_count": 233,
     "metadata": {},
     "output_type": "execute_result"
    }
   ],
   "source": [
    "o2_CO"
   ]
  },
  {
   "cell_type": "markdown",
   "metadata": {},
   "source": [
    "### * divide all by the N2 ave ratio"
   ]
  },
  {
   "cell_type": "code",
   "execution_count": 167,
   "metadata": {},
   "outputs": [],
   "source": [
    "n2_CO2 = [e / N2_ratio_ave for e in n_CO2]\n",
    "n2_Ar = [e / N2_ratio_ave for e in n_Ar]\n",
    "n2_N2 = [e / N2_ratio_ave for e in n_N2]\n",
    "n2_O2 = [e / N2_ratio_ave for e in n_O2]\n",
    "n2_CO = [e / N2_ratio_ave for e in n_CO]"
   ]
  },
  {
   "cell_type": "code",
   "execution_count": 243,
   "metadata": {},
   "outputs": [
    {
     "name": "stderr",
     "output_type": "stream",
     "text": [
      "No handles with labels found to put in legend.\n"
     ]
    },
    {
     "data": {
      "text/plain": [
       "<matplotlib.legend.Legend at 0x11ebdbf28>"
      ]
     },
     "execution_count": 243,
     "metadata": {},
     "output_type": "execute_result"
    },
    {
     "data": {
      "image/png": "[encoded data removed]",
      "text/plain": [
       "<Figure size 432x288 with 1 Axes>"
      ]
     },
     "metadata": {
      "needs_background": "light"
     },
     "output_type": "display_data"
    }
   ],
   "source": [
    "#plt.scatter(n_x, o2_CO2)\n",
    "plt.scatter(n_x, o2_N2)\n",
    "plt.scatter(n_x, o2_Ar)\n",
    "plt.scatter(n_x, o2_O2)\n",
    "plt.scatter(n_x, o2_CO)\n",
    "plt.legend(loc = 0)"
   ]
  },
  {
   "cell_type": "markdown",
   "metadata": {},
   "source": [
    "# plot all divide by O2 & N2 ave ratio"
   ]
  },
  {
   "cell_type": "code",
   "execution_count": null,
   "metadata": {},
   "outputs": [],
   "source": [
    "fig, axs = plt.subplots(7, 1, sharex=True, figsize=(8,6))\n",
    "# Remove horizontal space between axes\n",
    "fig.subplots_adjust(hspace=0)\n",
    "\n",
    "# Plot each graph, and manually set the y limits values for scaling\n",
    "# O2--------------------------------------------------------------------------------------------------------\n",
    "axs[0].scatter(n_x, o2_CO2, s=15, color = 'darkorchid', label='O2: CO\\N{SUBSCRIPT TWO}')\n",
    "#axs[0].set_ylim(0.71, 0.73)\n",
    "#axs[0].set_yticks([0.9, 0.91, 0.92, 0.93, 0.94, 0.95, 0.96, 0.97, 0.98, 0.99, 1.0])\n",
    "#axs[0].set_yticklabels(['0.90','', '', '', '', '0.95', '', '', '', '', '1.00'], fontsize = 13)\n",
    "\n",
    "axs[1].scatter(n_x, o2_N2, s=15, color = 'm', label='O2: N\\N{SUBSCRIPT TWO}')\n",
    "axs[1].scatter(n_x, o2_Ar, s=15, color = 'violet', label='O2: Ar')\n",
    "#axs[1].set_ylim(0.01, 0.025)\n",
    "#axs[1].set_yticks([0.01, 0.015, 0.01, 0.07, 0.09, 0.11, 0.13, 0.15, 0.17, 0.19, 1.0])\n",
    "#axs[1].set_yticklabels(['0.010', '', '0.020', '', '0.030'], fontsize = 13)\n",
    "\n",
    "axs[2].scatter(n_x, o2_O2, s=15, color = 'magenta', label='O2: O\\N{SUBSCRIPT TWO}')\n",
    "axs[2].scatter(n_x, o2_CO, s=15, color = 'pink', marker='o', label='O2: CO')\n",
    "#axs[2].set_ylim(0.00015, 0.002)\n",
    "#axs[2].set_yticks([0.001, 0.00125, 0.0015, 0.00175, 0.002, 0.00225, 0.0025])\n",
    "#axs[2].set_yticklabels(['1.0 x $10^{-3}$', '', '1.5 x $10^{-3}$', '', '2.0 x $10^{-3}$', '', ''], fontsize = 11)\n",
    "\n",
    "\n",
    "# N2----------------------------------------------------------------------------------------------------\n",
    "axs[3].scatter(n_x, n2_CO2, s=15, color = 'darkseagreen', label='CO\\N{SUBSCRIPT TWO}')\n",
    "#axs[4].set_ylim(0.71, 0.73)\n",
    "#axs[0].set_yticks([0.9, 0.91, 0.92, 0.93, 0.94, 0.95, 0.96, 0.97, 0.98, 0.99, 1.0])\n",
    "#axs[0].set_yticklabels(['0.90','', '', '', '', '0.95', '', '', '', '', '1.00'], fontsize = 13)\n",
    "\n",
    "axs[4].scatter(n_x, n2_N2, s=15, color = 'g', label='N\\N{SUBSCRIPT TWO}')\n",
    "axs[4].scatter(n_x, n2_Ar, s=15, color = 'limegreen', label='Ar')\n",
    "axs[4].set_ylim(0.01, 0.025)\n",
    "#axs[1].set_yticks([0.01, 0.015, 0.01, 0.07, 0.09, 0.11, 0.13, 0.15, 0.17, 0.19, 1.0])\n",
    "#axs[1].set_yticklabels(['0.010', '', '0.020', '', '0.030'], fontsize = 13)\n",
    "\n",
    "axs[5].scatter(n_x, n2_O2, s=15, color = 'lawngreen', label='O\\N{SUBSCRIPT TWO}')\n",
    "axs[5].set_ylim(0.00015, 0.002)\n",
    "#axs[2].set_yticks([0.001, 0.00125, 0.0015, 0.00175, 0.002, 0.00225, 0.0025])\n",
    "#axs[2].set_yticklabels(['1.0 x $10^{-3}$', '', '1.5 x $10^{-3}$', '', '2.0 x $10^{-3}$', '', ''], fontsize = 11)\n",
    "\n",
    "axs[6].scatter(n_x, n2_CO, s=15, color = 'turquoise', marker='o', label='O')\n",
    "axs[6].set_ylim(-0.0005, 0.001)\n",
    "#axs[3].set_yticks([-0.0005, -0.00025, 0, 0.00025, 0.0005, 0.00075, 0.001])\n",
    "#axs[3].set_yticklabels(['-5.0 x $10^{-4}$', '', '0', '', '5.0 x $10^{-4}$', '', ''], fontsize = 11)\n",
    "axs[6].set_ylabel('N2 / Ar Ratios', labelpad = 20, fontsize = 16)\n",
    "\n",
    "#remove spine--------------------------------------------------------------------------------------------------------\n",
    "axs[0].spines['bottom'].set_visible(False)\n",
    "axs[1].spines['top'].set_visible(False) \n",
    "axs[1].spines['bottom'].set_visible(False) \n",
    "axs[2].spines['top'].set_visible(False) \n",
    "axs[2].spines['bottom'].set_visible(False) \n",
    "axs[3].spines['top'].set_visible(False)\n",
    "axs[4].spines['bottom'].set_visible(False) \n",
    "axs[5].spines['top'].set_visible(False) \n",
    "\n",
    "# move the y (left) spine upward - create space between plots-------------------------------------------------------------\n",
    "pos0 = axs[0].get_position() # get the original position \n",
    "n_pos_0 = [pos0.x0, pos0.y0 + 0.25,  pos0.width, pos0.height] \n",
    "axs[0].set_position(n_pos_0) # set a new position\n",
    "\n",
    "pos1 = axs[1].get_position() # get the original position \n",
    "n_pos_1 = [pos1.x0, pos1.y0 + 0.21,  pos1.width, pos1.height] \n",
    "axs[1].set_position(n_pos_1) # set a new position\n",
    "\n",
    "pos2 = axs[2].get_position() # get the original position \n",
    "n_pos_2 = [pos2.x0, pos2.y0 + 0.19,  pos2.width, pos2.height] \n",
    "axs[2].set_position(n_pos_2) # set a new position\n",
    "\n",
    "pos3 = axs[3].get_position() # get the original position \n",
    "n_pos_3 = [pos3.x0, pos3.y0 + 0.15,  pos3.width, pos3.height] \n",
    "axs[3].set_position(n_pos_3) # set a new position\n",
    "\n",
    "pos4 = axs[4].get_position() # get the original position \n",
    "n_pos_4 = [pos4.x0, pos4.y0 + 0.0,  pos4.width, pos4.height] \n",
    "axs[4].set_position(n_pos_1) # set a new position\n",
    "\n",
    "pos5 = axs[5].get_position() # get the original position \n",
    "n_pos_5 = [pos5.x0, pos5.y0 + 0.08,  pos5.width, pos5.height] \n",
    "axs[5].set_position(n_pos_5) # set a new position\n",
    "\n",
    "pos6 = axs[6].get_position() # get the original position \n",
    "n_pos_6 = [pos6.x0, pos6.y0 + 0.03,  pos6.width, pos6.height] \n",
    "axs[6].set_position(n_pos_6) # set a new position\n",
    "\n",
    "#grid--------------------------------------------------------------------------------------------------------\n",
    "axs[0].xaxis.grid(True)\n",
    "axs[1].xaxis.grid(True)\n",
    "axs[2].xaxis.grid(True)\n",
    "axs[3].xaxis.grid(True)\n",
    "axs[4].xaxis.grid(True)\n",
    "axs[5].xaxis.grid(True)\n",
    "axs[6].xaxis.grid(True)\n",
    "\n",
    "#set up xsticks & their labels-------------------------------------------------------------------------------------\n",
    "axs[6].set_xticks(ls_sticks)\n",
    "axs[6].set_xticklabels(n_x_label, fontsize = 14)\n",
    "\n",
    "fig.legend(bbox_to_anchor=(1.23, 1), fontsize = 14)\n",
    "\n",
    "plt.xlabel('Ls', labelpad = 15, fontsize = 16)\n",
    "plt.show()"
   ]
  },
  {
   "cell_type": "code",
   "execution_count": null,
   "metadata": {},
   "outputs": [],
   "source": []
  },
  {
   "cell_type": "code",
   "execution_count": null,
   "metadata": {},
   "outputs": [],
   "source": []
  },
  {
   "cell_type": "code",
   "execution_count": null,
   "metadata": {},
   "outputs": [],
   "source": []
  },
  {
   "cell_type": "code",
   "execution_count": 355,
   "metadata": {},
   "outputs": [
    {
     "data": {
      "image/png": "[encoded data removed]",
      "text/plain": [
       "<Figure size 504x216 with 3 Axes>"
      ]
     },
     "metadata": {
      "needs_background": "light"
     },
     "output_type": "display_data"
    },
    {
     "data": {
      "image/png": "[encoded data removed]",
      "text/plain": [
       "<Figure size 504x216 with 3 Axes>"
      ]
     },
     "metadata": {
      "needs_background": "light"
     },
     "output_type": "display_data"
    }
   ],
   "source": [
    "fig, ax = plt.subplots(3, 1, sharex=True, figsize=(7,3))\n",
    "# Remove horizontal space between axes\n",
    "fig.subplots_adjust(hspace=0)\n",
    "\n",
    "# Plot each graph, and manually set the y limits values for scaling\n",
    "# O2--------------------------------------------------------------------------------------------------------\n",
    "ax[0].scatter(n_x, o2_CO2, s=15, color = 'darkorchid', marker='s', label='CO\\N{SUBSCRIPT TWO}')\n",
    "#axs[0].set_ylim(0.71, 0.73)\n",
    "#axs[0].set_yticks([0.9, 0.91, 0.92, 0.93, 0.94, 0.95, 0.96, 0.97, 0.98, 0.99, 1.0])\n",
    "#axs[0].set_yticklabels(['0.90','', '', '', '', '0.95', '', '', '', '', '1.00'], fontsize = 13)\n",
    "\n",
    "ax[1].scatter(n_x, o2_N2, s=15, color = 'm', marker='o', label='N\\N{SUBSCRIPT TWO}')\n",
    "ax[1].scatter(n_x, o2_Ar, s=15, color = 'magenta', marker='^', label='Ar')\n",
    "ax[1].set_ylabel('O\\N{SUBSCRIPT TWO} / Ar Ratios', labelpad = 45, fontsize = 16)\n",
    "#axs[1].set_ylim(0.01, 0.025)\n",
    "#axs[1].set_yticks([0.01, 0.015, 0.01, 0.07, 0.09, 0.11, 0.13, 0.15, 0.17, 0.19, 1.0])\n",
    "#axs[1].set_yticklabels(['0.010', '', '0.020', '', '0.030'], fontsize = 13)\n",
    "\n",
    "ax[2].scatter(n_x, o2_O2, s=15, color = 'violet', marker='^', label='O\\N{SUBSCRIPT TWO}')\n",
    "ax[2].scatter(n_x, o2_CO, s=15, color = 'crimson', marker='*', label='CO')\n",
    "ax[2].set_ylim(-0.01, 0.03)\n",
    "#axs[2].set_yticks([0.001, 0.00125, 0.0015, 0.00175, 0.002, 0.00225, 0.0025])\n",
    "#axs[2].set_yticklabels(['1.0 x $10^{-3}$', '', '1.5 x $10^{-3}$', '', '2.0 x $10^{-3}$', '', ''], fontsize = 11)\n",
    "\n",
    "# remove the spines\n",
    "ax[0].spines['bottom'].set_visible(False)\n",
    "ax[1].spines['top'].set_visible(False)\n",
    "ax[1].spines['bottom'].set_visible(False)\n",
    "ax[2].spines['top'].set_visible(False)\n",
    "ax[2].spines['bottom'].set_visible(False)\n",
    "\n",
    "# move the y (left) spine upward - create space between plots-------------------------------------------------------------\n",
    "pos0 = ax[0].get_position() # get the original position \n",
    "n_pos_0 = [pos0.x0, pos0.y0 + 0.13,  pos0.width, pos0.height] \n",
    "ax[0].set_position(n_pos_0) # set a new position\n",
    "\n",
    "pos1 = ax[1].get_position() # get the original position \n",
    "n_pos_1 = [pos1.x0, pos1.y0 + 0.08,  pos1.width, pos1.height] \n",
    "ax[1].set_position(n_pos_1) # set a new position\n",
    "\n",
    "pos2 = ax[2].get_position() # get the original position \n",
    "n_pos_2 = [pos2.x0, pos2.y0 + 0.03,  pos2.width, pos2.height] \n",
    "ax[2].set_position(n_pos_2) # set a new position\n",
    "\n",
    "\n",
    "ax[2].set_xticklabels(no_label)\n",
    "ax[2].set_xticks(ls_sticks)\n",
    "\n",
    "ax[0].xaxis.grid(True)\n",
    "ax[1].xaxis.grid(True)\n",
    "ax[2].xaxis.grid(True)\n",
    "\n",
    "fig.legend(bbox_to_anchor=(1.14, 0.88), fontsize = 14)\n",
    "\n",
    "#____________________________________________________________\n",
    "fig, axs = plt.subplots(3, 1, sharex=True, figsize=(7,3))\n",
    "# Remove horizontal space between axes\n",
    "fig.subplots_adjust(hspace=0)\n",
    "\n",
    "# Plot each graph, and manually set the y limits values for scaling\n",
    "\n",
    "# N2----------------------------------------------------------------------------------------------------\n",
    "axs[0].scatter(n_x, n2_CO2, s=15, color = 'darkolivegreen', marker='s', label='CO\\N{SUBSCRIPT TWO}')\n",
    "#axs[4].set_ylim(0.71, 0.73)\n",
    "#axs[0].set_yticks([0.9, 0.91, 0.92, 0.93, 0.94, 0.95, 0.96, 0.97, 0.98, 0.99, 1.0])\n",
    "#axs[0].set_yticklabels(['0.90','', '', '', '', '0.95', '', '', '', '', '1.00'], fontsize = 13)\n",
    "\n",
    "axs[1].scatter(n_x, n2_N2, s=15, color = 'g', marker='>', label='N\\N{SUBSCRIPT TWO}')\n",
    "axs[1].scatter(n_x, n2_Ar, s=15, color = 'limegreen', marker='o',label='Ar')\n",
    "axs[1].set_ylim(0.01, 0.025)\n",
    "#axs[1].set_yticks([0.01, 0.015, 0.01, 0.07, 0.09, 0.11, 0.13, 0.15, 0.17, 0.19, 1.0])\n",
    "#axs[1].set_yticklabels(['0.010', '', '0.020', '', '0.030'], fontsize = 13)\n",
    "\n",
    "axs[2].scatter(n_x, n2_O2, s=15, marker='^',label='O\\N{SUBSCRIPT TWO}')\n",
    "axs[2].scatter(n_x, n2_CO, s=15, color = 'c', marker='*', label='CO')\n",
    "axs[2].set_ylim(-0.0005, 0.002)\n",
    "axs[2].set_yticks([0, 0.0005, 0.001, 0.0015, 0.002])\n",
    "axs[2].set_yticklabels(['0', '', '1.0 x $10^{-3}$', '', '2.0 x $10^{-3}$'], fontsize = 11)\n",
    "\n",
    "axs[1].set_ylabel('N\\N{SUBSCRIPT TWO} / Ar Ratios', labelpad = 45, fontsize = 16)\n",
    "\n",
    "#remove spine--------------------------------------------------------------------------------------------------------\n",
    "axs[0].spines['top'].set_visible(False)\n",
    "axs[0].spines['bottom'].set_visible(False)\n",
    "axs[1].spines['top'].set_visible(False) \n",
    "axs[1].spines['bottom'].set_visible(False) \n",
    "axs[2].spines['top'].set_visible(False) \n",
    "\n",
    "\n",
    "\n",
    "\n",
    "# move the y (left) spine upward - create space between plots-------------------------------------------------------------\n",
    "pos0 = axs[0].get_position() # get the original position \n",
    "n_pos_0 = [pos0.x0, pos0.y0 + 0.13,  pos0.width, pos0.height] \n",
    "axs[0].set_position(n_pos_0) # set a new position\n",
    "\n",
    "pos1 = axs[1].get_position() # get the original position \n",
    "n_pos_1 = [pos1.x0, pos1.y0 + 0.08,  pos1.width, pos1.height] \n",
    "axs[1].set_position(n_pos_1) # set a new position\n",
    "\n",
    "\n",
    "\n",
    "\n",
    "\n",
    "#grid--------------------------------------------------------------------------------------------------------\n",
    "axs[0].xaxis.grid(True)\n",
    "axs[1].xaxis.grid(True)\n",
    "axs[2].xaxis.grid(True)\n",
    "\n",
    "\n",
    "#set up xsticks & their labels-------------------------------------------------------------------------------------\n",
    "axs[2].set_xticks(ls_sticks)\n",
    "axs[2].set_xticklabels(n_x_label, fontsize = 14)\n",
    "\n",
    "fig.legend(bbox_to_anchor=(1.14, 1.14), fontsize = 14)\n",
    "\n",
    "plt.xlabel('Ls', labelpad = 15, fontsize = 16)\n",
    "plt.show()"
   ]
  },
  {
   "cell_type": "code",
   "execution_count": 421,
   "metadata": {},
   "outputs": [
    {
     "data": {
      "text/plain": [
       "1.0300245093197324"
      ]
     },
     "execution_count": 421,
     "metadata": {},
     "output_type": "execute_result"
    }
   ],
   "source": [
    "largest(N2_divided_ratio, len(N2_divided_ratio))"
   ]
  },
  {
   "cell_type": "code",
   "execution_count": 422,
   "metadata": {},
   "outputs": [
    {
     "data": {
      "text/plain": [
       "0.9764678465087289"
      ]
     },
     "execution_count": 422,
     "metadata": {},
     "output_type": "execute_result"
    }
   ],
   "source": [
    "smallest(N2_divided_ratio, len(N2_divided_ratio))"
   ]
  },
  {
   "cell_type": "code",
   "execution_count": 417,
   "metadata": {},
   "outputs": [],
   "source": [
    "def largest(arr,n): \n",
    "  \n",
    "    # Initialize maximum element \n",
    "    max = arr[0] \n",
    "  \n",
    "    # Traverse array elements from second \n",
    "    # and compare every element with  \n",
    "    # current max \n",
    "    for i in range(1, n): \n",
    "        if arr[i] > max: \n",
    "            max = arr[i] \n",
    "    return max\n",
    "  \n",
    "# Driver Code \n",
    "CO2_max = largest(CO2,len(CO2)) \n",
    "Ar_max = largest(Ar,len(Ar)) \n",
    "N2_max = largest(N2,len(N2)) \n",
    "O2_max = largest(O2,len(O2)) \n",
    "CO_max = largest(CO,len(CO)) \n",
    "\n",
    "def smallest(arr,n): \n",
    "  \n",
    "    # Initialize maximum element \n",
    "    min = arr[0] \n",
    "  \n",
    "    # Traverse array elements from second \n",
    "    # and compare every element with  \n",
    "    # current max \n",
    "    for i in range(1, n): \n",
    "        if arr[i] < min: \n",
    "            min = arr[i] \n",
    "    return min\n",
    "  \n",
    "# Driver Code \n",
    "CO2_min = smallest(CO2,len(CO2)) \n",
    "Ar_min = smallest(Ar,len(Ar)) \n",
    "N2_min = smallest(N2,len(N2)) \n",
    "O2_min = smallest(O2,len(O2)) \n",
    "CO_min = smallest(CO,len(CO)) "
   ]
  },
  {
   "cell_type": "code",
   "execution_count": 45,
   "metadata": {},
   "outputs": [
    {
     "data": {
      "text/plain": [
       "(0.954, 0.945)"
      ]
     },
     "execution_count": 45,
     "metadata": {},
     "output_type": "execute_result"
    }
   ],
   "source": [
    "(CO2_max, CO2_min)"
   ]
  },
  {
   "cell_type": "code",
   "execution_count": 46,
   "metadata": {},
   "outputs": [
    {
     "data": {
      "text/plain": [
       "(0.0226, 0.0185)"
      ]
     },
     "execution_count": 46,
     "metadata": {},
     "output_type": "execute_result"
    }
   ],
   "source": [
    "(Ar_max, Ar_min)"
   ]
  },
  {
   "cell_type": "code",
   "execution_count": 47,
   "metadata": {},
   "outputs": [
    {
     "data": {
      "text/plain": [
       "(0.0293, 0.025)"
      ]
     },
     "execution_count": 47,
     "metadata": {},
     "output_type": "execute_result"
    }
   ],
   "source": [
    "(N2_max, N2_min)"
   ]
  },
  {
   "cell_type": "code",
   "execution_count": 48,
   "metadata": {},
   "outputs": [
    {
     "data": {
      "text/plain": [
       "(0.00216, 0.00128)"
      ]
     },
     "execution_count": 48,
     "metadata": {},
     "output_type": "execute_result"
    }
   ],
   "source": [
    "(O2_max, O2_min)"
   ]
  },
  {
   "cell_type": "code",
   "execution_count": 49,
   "metadata": {},
   "outputs": [
    {
     "data": {
      "text/plain": [
       "(0.000813, 0.0)"
      ]
     },
     "execution_count": 49,
     "metadata": {},
     "output_type": "execute_result"
    }
   ],
   "source": [
    "(CO_max, CO_min)"
   ]
  },
  {
   "cell_type": "code",
   "execution_count": 19,
   "metadata": {},
   "outputs": [
    {
     "data": {
      "text/plain": [
       "['0°',\n",
       " '45°',\n",
       " '90°',\n",
       " '135°',\n",
       " '180°',\n",
       " '225°',\n",
       " '270°',\n",
       " '315°',\n",
       " '360°',\n",
       " '405°',\n",
       " '450°',\n",
       " '495°',\n",
       " '540°']"
      ]
     },
     "execution_count": 19,
     "metadata": {},
     "output_type": "execute_result"
    }
   ],
   "source": [
    "ls_sticks = 0, 45, 90, 135, 180, 225, 270, 315, 360, 405, 450, 495, 540\n",
    "\n",
    "degree_sign= u'\\N{DEGREE SIGN}'\n",
    "x_label = [r\"{:.0f}\".format(_) + degree_sign for _ in ls_sticks]\n",
    "x_label"
   ]
  },
  {
   "cell_type": "code",
   "execution_count": 286,
   "metadata": {},
   "outputs": [],
   "source": [
    "no_label = ['',\n",
    " '',\n",
    " '',\n",
    " '',\n",
    " '',\n",
    " '',\n",
    " '',\n",
    " '',\n",
    " '',\n",
    " '',\n",
    " '',\n",
    " '',\n",
    " '']"
   ]
  },
  {
   "cell_type": "code",
   "execution_count": 24,
   "metadata": {},
   "outputs": [],
   "source": [
    "n_x_label = ['0°',\n",
    " '',\n",
    " '90°',\n",
    " '',\n",
    " '180°',\n",
    " '',\n",
    " '270°',\n",
    " '',\n",
    " '360°',\n",
    " '',\n",
    " '450°',\n",
    " '',\n",
    " '540°']"
   ]
  },
  {
   "cell_type": "code",
   "execution_count": 338,
   "metadata": {},
   "outputs": [
    {
     "data": {
      "image/png": "[encoded data removed]",
      "text/plain": [
       "<Figure size 432x432 with 4 Axes>"
      ]
     },
     "metadata": {
      "needs_background": "light"
     },
     "output_type": "display_data"
    }
   ],
   "source": [
    "fig, axs = plt.subplots(4, 1, sharex=True, figsize=(6,6))\n",
    "# Remove horizontal space between axes\n",
    "fig.subplots_adjust(hspace=0)\n",
    "\n",
    "# Plot each graph, and manually set the y limits values for scaling\n",
    "axs[0].errorbar(n_x, n_CO2, yerr = n_CO2_std, fmt = 'm>', label='CO\\N{SUBSCRIPT TWO}', capsize=4)\n",
    "axs[0].set_ylim(0.9, 1)\n",
    "axs[0].set_yticks([0.9, 0.91, 0.92, 0.93, 0.94, 0.95, 0.96, 0.97, 0.98, 0.99, 1.0])\n",
    "axs[0].set_yticklabels(['0.90','', '', '', '', '0.95', '', '', '', '', '1.00'], fontsize = 13)\n",
    "\n",
    "axs[1].errorbar(n_x, n_Ar, yerr = n_Ar_std, fmt = 'y>', label='Ar', capsize=4)\n",
    "axs[1].errorbar(n_x, n_N2, yerr = n_N2_std, fmt = 'g>', label='N\\N{SUBSCRIPT TWO}', capsize=4)\n",
    "axs[1].set_ylim(0.01, 0.03)\n",
    "#axs[1].set_yticks([0.01, 0.015, 0.01, 0.07, 0.09, 0.11, 0.13, 0.15, 0.17, 0.19, 1.0])\n",
    "axs[1].set_yticklabels(['0.010', '', '0.020', '', '0.030'], fontsize = 13)\n",
    "\n",
    "axs[2].errorbar(n_x, n_O2, yerr = [n_O2_std_minus, n_O2_std_plus], fmt = '>', label='O\\N{SUBSCRIPT TWO}', capsize=4)\n",
    "axs[2].set_ylim(0.001, 0.0025)\n",
    "axs[2].set_yticks([0.001, 0.00125, 0.0015, 0.00175, 0.002, 0.00225, 0.0025])\n",
    "axs[2].set_yticklabels(['1.0 x $10^{-3}$', '', '1.5 x $10^{-3}$', '', '2.0 x $10^{-3}$', '', ''], fontsize = 11)\n",
    "\n",
    "axs[3].errorbar(n_x, n_CO, yerr = n_CO_std, fmt = 'b>', label='O', capsize=4)\n",
    "axs[3].set_ylim(-0.0005, 0.001)\n",
    "axs[3].set_yticks([-0.0005, -0.00025, 0, 0.00025, 0.0005, 0.00075, 0.001])\n",
    "axs[3].set_yticklabels(['-5.0 x $10^{-4}$', '', '0', '', '5.0 x $10^{-4}$', '', ''], fontsize = 11)\n",
    "\n",
    "#remove spine\n",
    "axs[0].spines['bottom'].set_visible(False)\n",
    "axs[1].spines['bottom'].set_visible(False) \n",
    "axs[1].spines['top'].set_visible(False) \n",
    "axs[2].spines['top'].set_visible(False)\n",
    "axs[2].spines['bottom'].set_visible(False) \n",
    "axs[3].spines['top'].set_visible(False) \n",
    "\n",
    "# move the y (left) spine upward - create space between plots\n",
    "pos0 = axs[0].get_position() # get the original position \n",
    "n_pos_0 = [pos0.x0, pos0.y0 + 0.12,  pos0.width, pos0.height] \n",
    "axs[0].set_position(n_pos_0) # set a new position\n",
    "\n",
    "pos1 = axs[1].get_position() # get the original position \n",
    "n_pos_1 = [pos1.x0, pos1.y0 + 0.04,  pos1.width, pos1.height] \n",
    "axs[1].set_position(n_pos_1) # set a new position\n",
    "\n",
    "pos2 = axs[2].get_position() # get the original position \n",
    "n_pos_2 = [pos2.x0, pos2.y0,  pos2.width, pos2.height] \n",
    "axs[2].set_position(n_pos_2) # set a new position\n",
    "\n",
    "\n",
    "\n",
    "#grid\n",
    "axs[0].xaxis.grid(True)\n",
    "axs[1].xaxis.grid(True)\n",
    "axs[2].xaxis.grid(True)\n",
    "axs[3].xaxis.grid(True)\n",
    "\n",
    "#set up xsticks & their labels\n",
    "axs[3].set_xticks(ls_sticks)\n",
    "axs[3].set_xticklabels(n_x_label, fontsize = 14)\n",
    "\n",
    "fig.legend(bbox_to_anchor=(1.23, 1), fontsize = 14)\n",
    "\n",
    "plt.xlabel('Ls', labelpad = 15, fontsize = 16)\n",
    "axs[1].set_ylabel('Volume Mixing Ratios', labelpad = 30, fontsize = 16)\n",
    "plt.show()"
   ]
  },
  {
   "cell_type": "code",
   "execution_count": 423,
   "metadata": {},
   "outputs": [
    {
     "ename": "NameError",
     "evalue": "name 'divided_n2_ratio' is not defined",
     "output_type": "error",
     "traceback": [
      "\u001b[0;31m---------------------------------------------------------------------------\u001b[0m",
      "\u001b[0;31mNameError\u001b[0m                                 Traceback (most recent call last)",
      "\u001b[0;32m<ipython-input-423-8fac2ba43516>\u001b[0m in \u001b[0;36m<module>\u001b[0;34m\u001b[0m\n\u001b[0;32m----> 1\u001b[0;31m \u001b[0mdivided_n2_ratio\u001b[0m\u001b[0;34m\u001b[0m\u001b[0;34m\u001b[0m\u001b[0m\n\u001b[0m",
      "\u001b[0;31mNameError\u001b[0m: name 'divided_n2_ratio' is not defined"
     ]
    }
   ],
   "source": [
    "divided_n2_ratio"
   ]
  },
  {
   "cell_type": "code",
   "execution_count": null,
   "metadata": {},
   "outputs": [],
   "source": []
  }
 ],
 "metadata": {
  "kernelspec": {
   "display_name": "Python 3",
   "language": "python",
   "name": "python3"
  },
  "language_info": {
   "codemirror_mode": {
    "name": "ipython",
    "version": 3
   },
   "file_extension": ".py",
   "mimetype": "text/x-python",
   "name": "python",
   "nbconvert_exporter": "python",
   "pygments_lexer": "ipython3",
   "version": "3.7.1"
  }
 },
 "nbformat": 4,
 "nbformat_minor": 2
}
